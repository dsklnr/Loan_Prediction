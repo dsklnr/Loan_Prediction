{
 "cells": [
  {
   "cell_type": "markdown",
   "id": "d95dfea3",
   "metadata": {},
   "source": [
    "# MSADS 505 Final Project UE Wang"
   ]
  },
  {
   "cell_type": "code",
   "execution_count": 1,
   "id": "3cf0226b",
   "metadata": {},
   "outputs": [
    {
     "name": "stdout",
     "output_type": "stream",
     "text": [
      "no display found. Using non-interactive Agg backend\n"
     ]
    }
   ],
   "source": [
    "# import the neede packages:\n",
    "\n",
    "import pandas as pd\n",
    "import seaborn as sns\n",
    "import numpy as np\n",
    "\n",
    "from sklearn import preprocessing\n",
    "from sklearn.model_selection import train_test_split\n",
    "from sklearn.metrics import accuracy_score\n",
    "from sklearn.neighbors import NearestNeighbors, KNeighborsClassifier\n",
    "from sklearn.model_selection import GridSearchCV\n",
    "from sklearn.tree import DecisionTreeClassifier, DecisionTreeRegressor\n",
    "from sklearn.linear_model import LinearRegression\n",
    "from sklearn.linear_model import LogisticRegression, LogisticRegressionCV\n",
    "from sklearn.ensemble import RandomForestClassifier, GradientBoostingClassifier\n",
    "from sklearn.metrics import accuracy_score, precision_score, recall_score, f1_score\n",
    "\n",
    "import matplotlib\n",
    "matplotlib.use('TkAgg')\n",
    "import matplotlib.pyplot as plt\n",
    "%matplotlib inline\n",
    "\n",
    "import dmba\n",
    "from dmba import classificationSummary, gainsChart, liftChart, stepwise_selection, regressionSummary,plotDecisionTree\n",
    "from dmba.metric import AIC_score"
   ]
  },
  {
   "cell_type": "code",
   "execution_count": 2,
   "id": "a0a8cab6",
   "metadata": {},
   "outputs": [
    {
     "data": {
      "text/plain": [
       "(4269, 13)"
      ]
     },
     "metadata": {},
     "output_type": "display_data"
    },
    {
     "data": {
      "text/html": [
       "<div>\n",
       "<style scoped>\n",
       "    .dataframe tbody tr th:only-of-type {\n",
       "        vertical-align: middle;\n",
       "    }\n",
       "\n",
       "    .dataframe tbody tr th {\n",
       "        vertical-align: top;\n",
       "    }\n",
       "\n",
       "    .dataframe thead th {\n",
       "        text-align: right;\n",
       "    }\n",
       "</style>\n",
       "<table border=\"1\" class=\"dataframe\">\n",
       "  <thead>\n",
       "    <tr style=\"text-align: right;\">\n",
       "      <th></th>\n",
       "      <th>loan_id</th>\n",
       "      <th>no_of_dependents</th>\n",
       "      <th>education</th>\n",
       "      <th>self_employed</th>\n",
       "      <th>income_annum</th>\n",
       "      <th>loan_amount</th>\n",
       "      <th>loan_term</th>\n",
       "      <th>cibil_score</th>\n",
       "      <th>residential_assets_value</th>\n",
       "      <th>commercial_assets_value</th>\n",
       "      <th>luxury_assets_value</th>\n",
       "      <th>bank_asset_value</th>\n",
       "      <th>loan_status</th>\n",
       "    </tr>\n",
       "  </thead>\n",
       "  <tbody>\n",
       "    <tr>\n",
       "      <th>0</th>\n",
       "      <td>1</td>\n",
       "      <td>2</td>\n",
       "      <td>Graduate</td>\n",
       "      <td>No</td>\n",
       "      <td>9600000</td>\n",
       "      <td>29900000</td>\n",
       "      <td>12</td>\n",
       "      <td>778</td>\n",
       "      <td>2400000</td>\n",
       "      <td>17600000</td>\n",
       "      <td>22700000</td>\n",
       "      <td>8000000</td>\n",
       "      <td>Approved</td>\n",
       "    </tr>\n",
       "    <tr>\n",
       "      <th>1</th>\n",
       "      <td>2</td>\n",
       "      <td>0</td>\n",
       "      <td>Not Graduate</td>\n",
       "      <td>Yes</td>\n",
       "      <td>4100000</td>\n",
       "      <td>12200000</td>\n",
       "      <td>8</td>\n",
       "      <td>417</td>\n",
       "      <td>2700000</td>\n",
       "      <td>2200000</td>\n",
       "      <td>8800000</td>\n",
       "      <td>3300000</td>\n",
       "      <td>Rejected</td>\n",
       "    </tr>\n",
       "    <tr>\n",
       "      <th>2</th>\n",
       "      <td>3</td>\n",
       "      <td>3</td>\n",
       "      <td>Graduate</td>\n",
       "      <td>No</td>\n",
       "      <td>9100000</td>\n",
       "      <td>29700000</td>\n",
       "      <td>20</td>\n",
       "      <td>506</td>\n",
       "      <td>7100000</td>\n",
       "      <td>4500000</td>\n",
       "      <td>33300000</td>\n",
       "      <td>12800000</td>\n",
       "      <td>Rejected</td>\n",
       "    </tr>\n",
       "    <tr>\n",
       "      <th>3</th>\n",
       "      <td>4</td>\n",
       "      <td>3</td>\n",
       "      <td>Graduate</td>\n",
       "      <td>No</td>\n",
       "      <td>8200000</td>\n",
       "      <td>30700000</td>\n",
       "      <td>8</td>\n",
       "      <td>467</td>\n",
       "      <td>18200000</td>\n",
       "      <td>3300000</td>\n",
       "      <td>23300000</td>\n",
       "      <td>7900000</td>\n",
       "      <td>Rejected</td>\n",
       "    </tr>\n",
       "    <tr>\n",
       "      <th>4</th>\n",
       "      <td>5</td>\n",
       "      <td>5</td>\n",
       "      <td>Not Graduate</td>\n",
       "      <td>Yes</td>\n",
       "      <td>9800000</td>\n",
       "      <td>24200000</td>\n",
       "      <td>20</td>\n",
       "      <td>382</td>\n",
       "      <td>12400000</td>\n",
       "      <td>8200000</td>\n",
       "      <td>29400000</td>\n",
       "      <td>5000000</td>\n",
       "      <td>Rejected</td>\n",
       "    </tr>\n",
       "  </tbody>\n",
       "</table>\n",
       "</div>"
      ],
      "text/plain": [
       "   loan_id   no_of_dependents      education  self_employed   income_annum  \\\n",
       "0        1                  2       Graduate             No        9600000   \n",
       "1        2                  0   Not Graduate            Yes        4100000   \n",
       "2        3                  3       Graduate             No        9100000   \n",
       "3        4                  3       Graduate             No        8200000   \n",
       "4        5                  5   Not Graduate            Yes        9800000   \n",
       "\n",
       "    loan_amount   loan_term   cibil_score   residential_assets_value  \\\n",
       "0      29900000          12           778                    2400000   \n",
       "1      12200000           8           417                    2700000   \n",
       "2      29700000          20           506                    7100000   \n",
       "3      30700000           8           467                   18200000   \n",
       "4      24200000          20           382                   12400000   \n",
       "\n",
       "    commercial_assets_value   luxury_assets_value   bank_asset_value  \\\n",
       "0                  17600000              22700000            8000000   \n",
       "1                   2200000               8800000            3300000   \n",
       "2                   4500000              33300000           12800000   \n",
       "3                   3300000              23300000            7900000   \n",
       "4                   8200000              29400000            5000000   \n",
       "\n",
       "   loan_status  \n",
       "0     Approved  \n",
       "1     Rejected  \n",
       "2     Rejected  \n",
       "3     Rejected  \n",
       "4     Rejected  "
      ]
     },
     "execution_count": 2,
     "metadata": {},
     "output_type": "execute_result"
    }
   ],
   "source": [
    "loan_df = pd.read_csv('/Users/UE/Desktop/loan_approval_dataset.csv')\n",
    "display(loan_df.shape)\n",
    "loan_df.head()"
   ]
  },
  {
   "cell_type": "code",
   "execution_count": 3,
   "id": "43ee28a1",
   "metadata": {},
   "outputs": [
    {
     "data": {
      "text/plain": [
       "loan_id                      0\n",
       " no_of_dependents            0\n",
       " education                   0\n",
       " self_employed               0\n",
       " income_annum                0\n",
       " loan_amount                 0\n",
       " loan_term                   0\n",
       " cibil_score                 0\n",
       " residential_assets_value    0\n",
       " commercial_assets_value     0\n",
       " luxury_assets_value         0\n",
       " bank_asset_value            0\n",
       " loan_status                 0\n",
       "dtype: int64"
      ]
     },
     "execution_count": 3,
     "metadata": {},
     "output_type": "execute_result"
    }
   ],
   "source": [
    "loan_df.isna().sum()"
   ]
  },
  {
   "cell_type": "code",
   "execution_count": 4,
   "id": "cc279320",
   "metadata": {},
   "outputs": [
    {
     "name": "stdout",
     "output_type": "stream",
     "text": [
      "Index(['loan_id', ' no_of_dependents', ' education', ' self_employed',\n",
      "       ' income_annum', ' loan_amount', ' loan_term', ' cibil_score',\n",
      "       ' residential_assets_value', ' commercial_assets_value',\n",
      "       ' luxury_assets_value', ' bank_asset_value', ' loan_status'],\n",
      "      dtype='object')\n",
      "Index(['loan_id', 'no_of_dependents', 'education', 'self_employed',\n",
      "       'income_annum', 'loan_amount', 'loan_term', 'cibil_score',\n",
      "       'residential_assets_value', 'commercial_assets_value',\n",
      "       'luxury_assets_value', 'bank_asset_value', 'loan_status'],\n",
      "      dtype='object')\n"
     ]
    },
    {
     "data": {
      "text/html": [
       "<div>\n",
       "<style scoped>\n",
       "    .dataframe tbody tr th:only-of-type {\n",
       "        vertical-align: middle;\n",
       "    }\n",
       "\n",
       "    .dataframe tbody tr th {\n",
       "        vertical-align: top;\n",
       "    }\n",
       "\n",
       "    .dataframe thead th {\n",
       "        text-align: right;\n",
       "    }\n",
       "</style>\n",
       "<table border=\"1\" class=\"dataframe\">\n",
       "  <thead>\n",
       "    <tr style=\"text-align: right;\">\n",
       "      <th></th>\n",
       "      <th>loan_id</th>\n",
       "      <th>no_of_dependents</th>\n",
       "      <th>education</th>\n",
       "      <th>self_employed</th>\n",
       "      <th>income_annum</th>\n",
       "      <th>loan_amount</th>\n",
       "      <th>loan_term</th>\n",
       "      <th>cibil_score</th>\n",
       "      <th>residential_assets_value</th>\n",
       "      <th>commercial_assets_value</th>\n",
       "      <th>luxury_assets_value</th>\n",
       "      <th>bank_asset_value</th>\n",
       "      <th>loan_status</th>\n",
       "    </tr>\n",
       "  </thead>\n",
       "  <tbody>\n",
       "    <tr>\n",
       "      <th>0</th>\n",
       "      <td>1</td>\n",
       "      <td>2</td>\n",
       "      <td>Graduate</td>\n",
       "      <td>No</td>\n",
       "      <td>9600000</td>\n",
       "      <td>29900000</td>\n",
       "      <td>12</td>\n",
       "      <td>778</td>\n",
       "      <td>2400000</td>\n",
       "      <td>17600000</td>\n",
       "      <td>22700000</td>\n",
       "      <td>8000000</td>\n",
       "      <td>Approved</td>\n",
       "    </tr>\n",
       "    <tr>\n",
       "      <th>1</th>\n",
       "      <td>2</td>\n",
       "      <td>0</td>\n",
       "      <td>Not Graduate</td>\n",
       "      <td>Yes</td>\n",
       "      <td>4100000</td>\n",
       "      <td>12200000</td>\n",
       "      <td>8</td>\n",
       "      <td>417</td>\n",
       "      <td>2700000</td>\n",
       "      <td>2200000</td>\n",
       "      <td>8800000</td>\n",
       "      <td>3300000</td>\n",
       "      <td>Rejected</td>\n",
       "    </tr>\n",
       "    <tr>\n",
       "      <th>2</th>\n",
       "      <td>3</td>\n",
       "      <td>3</td>\n",
       "      <td>Graduate</td>\n",
       "      <td>No</td>\n",
       "      <td>9100000</td>\n",
       "      <td>29700000</td>\n",
       "      <td>20</td>\n",
       "      <td>506</td>\n",
       "      <td>7100000</td>\n",
       "      <td>4500000</td>\n",
       "      <td>33300000</td>\n",
       "      <td>12800000</td>\n",
       "      <td>Rejected</td>\n",
       "    </tr>\n",
       "    <tr>\n",
       "      <th>3</th>\n",
       "      <td>4</td>\n",
       "      <td>3</td>\n",
       "      <td>Graduate</td>\n",
       "      <td>No</td>\n",
       "      <td>8200000</td>\n",
       "      <td>30700000</td>\n",
       "      <td>8</td>\n",
       "      <td>467</td>\n",
       "      <td>18200000</td>\n",
       "      <td>3300000</td>\n",
       "      <td>23300000</td>\n",
       "      <td>7900000</td>\n",
       "      <td>Rejected</td>\n",
       "    </tr>\n",
       "    <tr>\n",
       "      <th>4</th>\n",
       "      <td>5</td>\n",
       "      <td>5</td>\n",
       "      <td>Not Graduate</td>\n",
       "      <td>Yes</td>\n",
       "      <td>9800000</td>\n",
       "      <td>24200000</td>\n",
       "      <td>20</td>\n",
       "      <td>382</td>\n",
       "      <td>12400000</td>\n",
       "      <td>8200000</td>\n",
       "      <td>29400000</td>\n",
       "      <td>5000000</td>\n",
       "      <td>Rejected</td>\n",
       "    </tr>\n",
       "  </tbody>\n",
       "</table>\n",
       "</div>"
      ],
      "text/plain": [
       "   loan_id  no_of_dependents     education self_employed  income_annum  \\\n",
       "0        1                 2      Graduate            No       9600000   \n",
       "1        2                 0  Not Graduate           Yes       4100000   \n",
       "2        3                 3      Graduate            No       9100000   \n",
       "3        4                 3      Graduate            No       8200000   \n",
       "4        5                 5  Not Graduate           Yes       9800000   \n",
       "\n",
       "   loan_amount  loan_term  cibil_score  residential_assets_value  \\\n",
       "0     29900000         12          778                   2400000   \n",
       "1     12200000          8          417                   2700000   \n",
       "2     29700000         20          506                   7100000   \n",
       "3     30700000          8          467                  18200000   \n",
       "4     24200000         20          382                  12400000   \n",
       "\n",
       "   commercial_assets_value  luxury_assets_value  bank_asset_value loan_status  \n",
       "0                 17600000             22700000           8000000    Approved  \n",
       "1                  2200000              8800000           3300000    Rejected  \n",
       "2                  4500000             33300000          12800000    Rejected  \n",
       "3                  3300000             23300000           7900000    Rejected  \n",
       "4                  8200000             29400000           5000000    Rejected  "
      ]
     },
     "execution_count": 4,
     "metadata": {},
     "output_type": "execute_result"
    }
   ],
   "source": [
    "# List all the column names in the DataFrame\n",
    "print(loan_df.columns)\n",
    "\n",
    "# Remove leading spaces from column names\n",
    "loan_df.columns = loan_df.columns.str.strip()\n",
    "\n",
    "print(loan_df.columns)\n",
    "\n",
    "# Remove leading spaces from values\n",
    "loan_df = loan_df.applymap(lambda x: x.strip() if type(x) == str else x)\n",
    "\n",
    "loan_df.head()"
   ]
  },
  {
   "cell_type": "code",
   "execution_count": 5,
   "id": "db0170af",
   "metadata": {},
   "outputs": [
    {
     "data": {
      "text/plain": [
       "Graduate        2144\n",
       "Not Graduate    2125\n",
       "Name: education, dtype: int64"
      ]
     },
     "metadata": {},
     "output_type": "display_data"
    },
    {
     "data": {
      "text/plain": [
       "Yes    2150\n",
       "No     2119\n",
       "Name: self_employed, dtype: int64"
      ]
     },
     "metadata": {},
     "output_type": "display_data"
    }
   ],
   "source": [
    "display(loan_df['education'].value_counts())\n",
    "display(loan_df['self_employed'].value_counts())"
   ]
  },
  {
   "cell_type": "code",
   "execution_count": 6,
   "id": "d871623c",
   "metadata": {},
   "outputs": [],
   "source": [
    "# Replace values in the 'education' column\n",
    "loan_df['education'].replace({'Graduate': 1, 'Not Graduate': 0}, inplace=True)\n",
    "# Replace values in the 'self_employed' column\n",
    "loan_df['self_employed'].replace({'Yes': 1, 'No': 0}, inplace=True)\n",
    "# Replace values in the 'loan_status' column\n",
    "loan_df['loan_status'].replace({'Approved': 1, 'Rejected': 0}, inplace=True)"
   ]
  },
  {
   "cell_type": "code",
   "execution_count": 7,
   "id": "a6a7d605",
   "metadata": {},
   "outputs": [
    {
     "data": {
      "text/plain": [
       "1    2144\n",
       "0    2125\n",
       "Name: education, dtype: int64"
      ]
     },
     "metadata": {},
     "output_type": "display_data"
    },
    {
     "data": {
      "text/plain": [
       "1    2150\n",
       "0    2119\n",
       "Name: self_employed, dtype: int64"
      ]
     },
     "metadata": {},
     "output_type": "display_data"
    },
    {
     "data": {
      "text/plain": [
       "1    2656\n",
       "0    1613\n",
       "Name: loan_status, dtype: int64"
      ]
     },
     "metadata": {},
     "output_type": "display_data"
    }
   ],
   "source": [
    "display(loan_df['education'].value_counts())\n",
    "display(loan_df['self_employed'].value_counts())\n",
    "display(loan_df['loan_status'].value_counts())"
   ]
  },
  {
   "cell_type": "code",
   "execution_count": 8,
   "id": "c0806780",
   "metadata": {},
   "outputs": [
    {
     "data": {
      "text/html": [
       "<div>\n",
       "<style scoped>\n",
       "    .dataframe tbody tr th:only-of-type {\n",
       "        vertical-align: middle;\n",
       "    }\n",
       "\n",
       "    .dataframe tbody tr th {\n",
       "        vertical-align: top;\n",
       "    }\n",
       "\n",
       "    .dataframe thead th {\n",
       "        text-align: right;\n",
       "    }\n",
       "</style>\n",
       "<table border=\"1\" class=\"dataframe\">\n",
       "  <thead>\n",
       "    <tr style=\"text-align: right;\">\n",
       "      <th></th>\n",
       "      <th>no_of_dependents</th>\n",
       "      <th>education</th>\n",
       "      <th>self_employed</th>\n",
       "      <th>income_annum</th>\n",
       "      <th>loan_amount</th>\n",
       "      <th>loan_term</th>\n",
       "      <th>cibil_score</th>\n",
       "      <th>residential_assets_value</th>\n",
       "      <th>commercial_assets_value</th>\n",
       "      <th>luxury_assets_value</th>\n",
       "      <th>bank_asset_value</th>\n",
       "      <th>loan_status</th>\n",
       "    </tr>\n",
       "  </thead>\n",
       "  <tbody>\n",
       "    <tr>\n",
       "      <th>0</th>\n",
       "      <td>2</td>\n",
       "      <td>1</td>\n",
       "      <td>0</td>\n",
       "      <td>9600000</td>\n",
       "      <td>29900000</td>\n",
       "      <td>12</td>\n",
       "      <td>778</td>\n",
       "      <td>2400000</td>\n",
       "      <td>17600000</td>\n",
       "      <td>22700000</td>\n",
       "      <td>8000000</td>\n",
       "      <td>1</td>\n",
       "    </tr>\n",
       "    <tr>\n",
       "      <th>1</th>\n",
       "      <td>0</td>\n",
       "      <td>0</td>\n",
       "      <td>1</td>\n",
       "      <td>4100000</td>\n",
       "      <td>12200000</td>\n",
       "      <td>8</td>\n",
       "      <td>417</td>\n",
       "      <td>2700000</td>\n",
       "      <td>2200000</td>\n",
       "      <td>8800000</td>\n",
       "      <td>3300000</td>\n",
       "      <td>0</td>\n",
       "    </tr>\n",
       "    <tr>\n",
       "      <th>2</th>\n",
       "      <td>3</td>\n",
       "      <td>1</td>\n",
       "      <td>0</td>\n",
       "      <td>9100000</td>\n",
       "      <td>29700000</td>\n",
       "      <td>20</td>\n",
       "      <td>506</td>\n",
       "      <td>7100000</td>\n",
       "      <td>4500000</td>\n",
       "      <td>33300000</td>\n",
       "      <td>12800000</td>\n",
       "      <td>0</td>\n",
       "    </tr>\n",
       "    <tr>\n",
       "      <th>3</th>\n",
       "      <td>3</td>\n",
       "      <td>1</td>\n",
       "      <td>0</td>\n",
       "      <td>8200000</td>\n",
       "      <td>30700000</td>\n",
       "      <td>8</td>\n",
       "      <td>467</td>\n",
       "      <td>18200000</td>\n",
       "      <td>3300000</td>\n",
       "      <td>23300000</td>\n",
       "      <td>7900000</td>\n",
       "      <td>0</td>\n",
       "    </tr>\n",
       "    <tr>\n",
       "      <th>4</th>\n",
       "      <td>5</td>\n",
       "      <td>0</td>\n",
       "      <td>1</td>\n",
       "      <td>9800000</td>\n",
       "      <td>24200000</td>\n",
       "      <td>20</td>\n",
       "      <td>382</td>\n",
       "      <td>12400000</td>\n",
       "      <td>8200000</td>\n",
       "      <td>29400000</td>\n",
       "      <td>5000000</td>\n",
       "      <td>0</td>\n",
       "    </tr>\n",
       "  </tbody>\n",
       "</table>\n",
       "</div>"
      ],
      "text/plain": [
       "   no_of_dependents  education  self_employed  income_annum  loan_amount  \\\n",
       "0                 2          1              0       9600000     29900000   \n",
       "1                 0          0              1       4100000     12200000   \n",
       "2                 3          1              0       9100000     29700000   \n",
       "3                 3          1              0       8200000     30700000   \n",
       "4                 5          0              1       9800000     24200000   \n",
       "\n",
       "   loan_term  cibil_score  residential_assets_value  commercial_assets_value  \\\n",
       "0         12          778                   2400000                 17600000   \n",
       "1          8          417                   2700000                  2200000   \n",
       "2         20          506                   7100000                  4500000   \n",
       "3          8          467                  18200000                  3300000   \n",
       "4         20          382                  12400000                  8200000   \n",
       "\n",
       "   luxury_assets_value  bank_asset_value  loan_status  \n",
       "0             22700000           8000000            1  \n",
       "1              8800000           3300000            0  \n",
       "2             33300000          12800000            0  \n",
       "3             23300000           7900000            0  \n",
       "4             29400000           5000000            0  "
      ]
     },
     "metadata": {},
     "output_type": "display_data"
    }
   ],
   "source": [
    "# drop loan_id from the table\n",
    "loan_df = loan_df.drop(['loan_id'], axis=1)\n",
    "display(loan_df.head())"
   ]
  },
  {
   "cell_type": "code",
   "execution_count": 9,
   "id": "4e94ca72",
   "metadata": {},
   "outputs": [
    {
     "name": "stdout",
     "output_type": "stream",
     "text": [
      "(4269, 12)\n",
      "<class 'pandas.core.frame.DataFrame'>\n",
      "RangeIndex: 4269 entries, 0 to 4268\n",
      "Data columns (total 12 columns):\n",
      " #   Column                    Non-Null Count  Dtype\n",
      "---  ------                    --------------  -----\n",
      " 0   no_of_dependents          4269 non-null   int64\n",
      " 1   education                 4269 non-null   int64\n",
      " 2   self_employed             4269 non-null   int64\n",
      " 3   income_annum              4269 non-null   int64\n",
      " 4   loan_amount               4269 non-null   int64\n",
      " 5   loan_term                 4269 non-null   int64\n",
      " 6   cibil_score               4269 non-null   int64\n",
      " 7   residential_assets_value  4269 non-null   int64\n",
      " 8   commercial_assets_value   4269 non-null   int64\n",
      " 9   luxury_assets_value       4269 non-null   int64\n",
      " 10  bank_asset_value          4269 non-null   int64\n",
      " 11  loan_status               4269 non-null   int64\n",
      "dtypes: int64(12)\n",
      "memory usage: 400.3 KB\n",
      "None\n"
     ]
    }
   ],
   "source": [
    "print(loan_df.shape)\n",
    "print(loan_df.info())"
   ]
  },
  {
   "cell_type": "code",
   "execution_count": 10,
   "id": "5f8f9998",
   "metadata": {},
   "outputs": [
    {
     "name": "stdout",
     "output_type": "stream",
     "text": [
      "No columns have zero variance.\n"
     ]
    }
   ],
   "source": [
    "# Check the zero variance variables\n",
    "# Get a list of column names\n",
    "\n",
    "columns = loan_df.columns\n",
    "\n",
    "# Initialize a list to store columns with zero variance\n",
    "zero_variance_columns = []\n",
    "\n",
    "# Iterate through the columns and check for zero variance\n",
    "for column in columns:\n",
    "    std_deviation = loan_df[column].std()\n",
    "    if std_deviation == 0:\n",
    "        zero_variance_columns.append(column)\n",
    "\n",
    "# Print the columns with zero variance\n",
    "if zero_variance_columns:\n",
    "    print(\"Columns with zero variance:\", zero_variance_columns)\n",
    "else:\n",
    "    print(\"No columns have zero variance.\")"
   ]
  },
  {
   "cell_type": "code",
   "execution_count": 11,
   "id": "4571803e",
   "metadata": {},
   "outputs": [],
   "source": [
    "# The loan_status is the response variable; we will change it to the category.\n",
    "loan_df['loan_status'] = loan_df['loan_status'].astype('category')"
   ]
  },
  {
   "cell_type": "code",
   "execution_count": 12,
   "id": "98fc6c7d",
   "metadata": {},
   "outputs": [
    {
     "name": "stdout",
     "output_type": "stream",
     "text": [
      "Training   :  (2988, 12)\n",
      "Validation :  (1281, 12)\n"
     ]
    }
   ],
   "source": [
    "train, valid = train_test_split(loan_df, train_size=0.7, random_state=1)\n",
    "print('Training   : ', train.shape)\n",
    "print('Validation : ', valid.shape)"
   ]
  },
  {
   "cell_type": "code",
   "execution_count": 13,
   "id": "c4525b69",
   "metadata": {},
   "outputs": [
    {
     "data": {
      "text/plain": [
       "4    752\n",
       "3    727\n",
       "0    712\n",
       "2    708\n",
       "1    697\n",
       "5    673\n",
       "Name: no_of_dependents, dtype: int64"
      ]
     },
     "execution_count": 13,
     "metadata": {},
     "output_type": "execute_result"
    }
   ],
   "source": [
    "loan_df['no_of_dependents'].value_counts()"
   ]
  },
  {
   "cell_type": "code",
   "execution_count": 14,
   "id": "3231ac0a",
   "metadata": {},
   "outputs": [
    {
     "name": "stdout",
     "output_type": "stream",
     "text": [
      "trainNorm   :  (2988, 12)\n",
      "validNorm :  (1281, 12)\n"
     ]
    }
   ],
   "source": [
    "from sklearn.preprocessing import StandardScaler\n",
    "\n",
    "# Create a StandardScaler instance\n",
    "scaler = StandardScaler()\n",
    "\n",
    "continuous_cols = ['no_of_dependents','income_annum', 'loan_amount', 'loan_term', \n",
    "                   'cibil_score', 'residential_assets_value','commercial_assets_value', \n",
    "                   'luxury_assets_value', 'bank_asset_value']\n",
    "\n",
    "# Fit and transform the training data\n",
    "train[continuous_cols] = scaler.fit_transform(train[continuous_cols])\n",
    "\n",
    "# Transform the full dataset (including validation and test data)\n",
    "Norm_loan_df = pd.DataFrame(scaler.transform(loan_df[continuous_cols]), columns=continuous_cols)\n",
    "\n",
    "# Concatenate the scaled continuous columns with the original DataFrame\n",
    "Norm_loan_df = pd.concat([Norm_loan_df, loan_df.drop(continuous_cols, axis=1)], axis=1)\n",
    "\n",
    "# Split the data into trainNorm and validNorm\n",
    "trainNorm = Norm_loan_df.iloc[train.index]\n",
    "validNorm = Norm_loan_df.iloc[valid.index]\n",
    "\n",
    "print('trainNorm   : ', trainNorm.shape)\n",
    "print('validNorm : ', validNorm.shape)\n"
   ]
  },
  {
   "cell_type": "code",
   "execution_count": 15,
   "id": "acb566af",
   "metadata": {},
   "outputs": [
    {
     "data": {
      "text/html": [
       "<div>\n",
       "<style scoped>\n",
       "    .dataframe tbody tr th:only-of-type {\n",
       "        vertical-align: middle;\n",
       "    }\n",
       "\n",
       "    .dataframe tbody tr th {\n",
       "        vertical-align: top;\n",
       "    }\n",
       "\n",
       "    .dataframe thead th {\n",
       "        text-align: right;\n",
       "    }\n",
       "</style>\n",
       "<table border=\"1\" class=\"dataframe\">\n",
       "  <thead>\n",
       "    <tr style=\"text-align: right;\">\n",
       "      <th></th>\n",
       "      <th>no_of_dependents</th>\n",
       "      <th>education</th>\n",
       "      <th>self_employed</th>\n",
       "      <th>income_annum</th>\n",
       "      <th>loan_amount</th>\n",
       "      <th>loan_term</th>\n",
       "      <th>cibil_score</th>\n",
       "      <th>residential_assets_value</th>\n",
       "      <th>commercial_assets_value</th>\n",
       "      <th>luxury_assets_value</th>\n",
       "      <th>bank_asset_value</th>\n",
       "      <th>loan_status</th>\n",
       "    </tr>\n",
       "  </thead>\n",
       "  <tbody>\n",
       "    <tr>\n",
       "      <th>1398</th>\n",
       "      <td>1.481097</td>\n",
       "      <td>0</td>\n",
       "      <td>0</td>\n",
       "      <td>1.553789</td>\n",
       "      <td>2.417192</td>\n",
       "      <td>1.576659</td>\n",
       "      <td>1.678337</td>\n",
       "      <td>1.010013</td>\n",
       "      <td>2.649516</td>\n",
       "      <td>0.472115</td>\n",
       "      <td>1.218273</td>\n",
       "      <td>1</td>\n",
       "    </tr>\n",
       "    <tr>\n",
       "      <th>1519</th>\n",
       "      <td>0.890240</td>\n",
       "      <td>1</td>\n",
       "      <td>1</td>\n",
       "      <td>1.021135</td>\n",
       "      <td>0.723071</td>\n",
       "      <td>0.881146</td>\n",
       "      <td>-0.612936</td>\n",
       "      <td>-0.798132</td>\n",
       "      <td>0.054075</td>\n",
       "      <td>0.889716</td>\n",
       "      <td>0.848781</td>\n",
       "      <td>0</td>\n",
       "    </tr>\n",
       "    <tr>\n",
       "      <th>4192</th>\n",
       "      <td>-0.882330</td>\n",
       "      <td>0</td>\n",
       "      <td>1</td>\n",
       "      <td>-0.647849</td>\n",
       "      <td>-0.760669</td>\n",
       "      <td>-0.162123</td>\n",
       "      <td>0.393130</td>\n",
       "      <td>0.268210</td>\n",
       "      <td>-0.264663</td>\n",
       "      <td>-0.637825</td>\n",
       "      <td>-0.937094</td>\n",
       "      <td>1</td>\n",
       "    </tr>\n",
       "    <tr>\n",
       "      <th>434</th>\n",
       "      <td>0.299383</td>\n",
       "      <td>1</td>\n",
       "      <td>0</td>\n",
       "      <td>1.340728</td>\n",
       "      <td>0.346600</td>\n",
       "      <td>-0.857636</td>\n",
       "      <td>0.561777</td>\n",
       "      <td>-0.149055</td>\n",
       "      <td>-0.651702</td>\n",
       "      <td>0.384199</td>\n",
       "      <td>1.372228</td>\n",
       "      <td>1</td>\n",
       "    </tr>\n",
       "    <tr>\n",
       "      <th>925</th>\n",
       "      <td>1.481097</td>\n",
       "      <td>1</td>\n",
       "      <td>0</td>\n",
       "      <td>-0.718870</td>\n",
       "      <td>-0.771742</td>\n",
       "      <td>-0.857636</td>\n",
       "      <td>-1.566664</td>\n",
       "      <td>-0.643590</td>\n",
       "      <td>-1.038742</td>\n",
       "      <td>-0.747720</td>\n",
       "      <td>-0.844721</td>\n",
       "      <td>0</td>\n",
       "    </tr>\n",
       "  </tbody>\n",
       "</table>\n",
       "</div>"
      ],
      "text/plain": [
       "      no_of_dependents  education  self_employed  income_annum  loan_amount  \\\n",
       "1398          1.481097          0              0      1.553789     2.417192   \n",
       "1519          0.890240          1              1      1.021135     0.723071   \n",
       "4192         -0.882330          0              1     -0.647849    -0.760669   \n",
       "434           0.299383          1              0      1.340728     0.346600   \n",
       "925           1.481097          1              0     -0.718870    -0.771742   \n",
       "\n",
       "      loan_term  cibil_score  residential_assets_value  \\\n",
       "1398   1.576659     1.678337                  1.010013   \n",
       "1519   0.881146    -0.612936                 -0.798132   \n",
       "4192  -0.162123     0.393130                  0.268210   \n",
       "434   -0.857636     0.561777                 -0.149055   \n",
       "925   -0.857636    -1.566664                 -0.643590   \n",
       "\n",
       "      commercial_assets_value  luxury_assets_value  bank_asset_value  \\\n",
       "1398                 2.649516             0.472115          1.218273   \n",
       "1519                 0.054075             0.889716          0.848781   \n",
       "4192                -0.264663            -0.637825         -0.937094   \n",
       "434                 -0.651702             0.384199          1.372228   \n",
       "925                 -1.038742            -0.747720         -0.844721   \n",
       "\n",
       "     loan_status  \n",
       "1398           1  \n",
       "1519           0  \n",
       "4192           1  \n",
       "434            1  \n",
       "925            0  "
      ]
     },
     "execution_count": 15,
     "metadata": {},
     "output_type": "execute_result"
    }
   ],
   "source": [
    " train.head()"
   ]
  },
  {
   "cell_type": "code",
   "execution_count": 16,
   "id": "6eaa4cf1",
   "metadata": {},
   "outputs": [
    {
     "name": "stdout",
     "output_type": "stream",
     "text": [
      "Training   :  (2988, 12)\n",
      "Validation :  (1281, 12)\n"
     ]
    }
   ],
   "source": [
    "print('Training   : ', trainNorm.shape)\n",
    "print('Validation : ', validNorm.shape)"
   ]
  },
  {
   "cell_type": "code",
   "execution_count": 17,
   "id": "de97dacf",
   "metadata": {},
   "outputs": [
    {
     "name": "stdout",
     "output_type": "stream",
     "text": [
      "<class 'pandas.core.frame.DataFrame'>\n",
      "Int64Index: 2988 entries, 1398 to 235\n",
      "Data columns (total 12 columns):\n",
      " #   Column                    Non-Null Count  Dtype   \n",
      "---  ------                    --------------  -----   \n",
      " 0   no_of_dependents          2988 non-null   float64 \n",
      " 1   income_annum              2988 non-null   float64 \n",
      " 2   loan_amount               2988 non-null   float64 \n",
      " 3   loan_term                 2988 non-null   float64 \n",
      " 4   cibil_score               2988 non-null   float64 \n",
      " 5   residential_assets_value  2988 non-null   float64 \n",
      " 6   commercial_assets_value   2988 non-null   float64 \n",
      " 7   luxury_assets_value       2988 non-null   float64 \n",
      " 8   bank_asset_value          2988 non-null   float64 \n",
      " 9   education                 2988 non-null   int64   \n",
      " 10  self_employed             2988 non-null   int64   \n",
      " 11  loan_status               2988 non-null   category\n",
      "dtypes: category(1), float64(9), int64(2)\n",
      "memory usage: 283.2 KB\n"
     ]
    }
   ],
   "source": [
    "trainNorm.info()"
   ]
  },
  {
   "cell_type": "code",
   "execution_count": 18,
   "id": "dd450711",
   "metadata": {},
   "outputs": [],
   "source": [
    "train_X = trainNorm.drop(columns='loan_status')\n",
    "train_y = trainNorm['loan_status']\n",
    "\n",
    "valid_X = validNorm.drop(columns='loan_status')\n",
    "valid_y = validNorm['loan_status']"
   ]
  },
  {
   "cell_type": "markdown",
   "id": "27136951",
   "metadata": {},
   "source": [
    "### Logistic Regression"
   ]
  },
  {
   "cell_type": "code",
   "execution_count": 19,
   "id": "8fe6610a",
   "metadata": {},
   "outputs": [
    {
     "name": "stdout",
     "output_type": "stream",
     "text": [
      "regularization [0.00599484] \n",
      "\n",
      "intercept  0.4542981891454185 \n",
      "\n"
     ]
    },
    {
     "data": {
      "text/html": [
       "<div>\n",
       "<style scoped>\n",
       "    .dataframe tbody tr th:only-of-type {\n",
       "        vertical-align: middle;\n",
       "    }\n",
       "\n",
       "    .dataframe tbody tr th {\n",
       "        vertical-align: top;\n",
       "    }\n",
       "\n",
       "    .dataframe thead th {\n",
       "        text-align: right;\n",
       "    }\n",
       "</style>\n",
       "<table border=\"1\" class=\"dataframe\">\n",
       "  <thead>\n",
       "    <tr style=\"text-align: right;\">\n",
       "      <th></th>\n",
       "      <th>no_of_dependents</th>\n",
       "      <th>income_annum</th>\n",
       "      <th>loan_amount</th>\n",
       "      <th>loan_term</th>\n",
       "      <th>cibil_score</th>\n",
       "      <th>residential_assets_value</th>\n",
       "      <th>commercial_assets_value</th>\n",
       "      <th>luxury_assets_value</th>\n",
       "      <th>bank_asset_value</th>\n",
       "      <th>education</th>\n",
       "      <th>self_employed</th>\n",
       "    </tr>\n",
       "  </thead>\n",
       "  <tbody>\n",
       "    <tr>\n",
       "      <th>coeff</th>\n",
       "      <td>-0.016593</td>\n",
       "      <td>-0.070966</td>\n",
       "      <td>0.129472</td>\n",
       "      <td>-0.260542</td>\n",
       "      <td>1.606005</td>\n",
       "      <td>-0.025913</td>\n",
       "      <td>0.01715</td>\n",
       "      <td>-0.047016</td>\n",
       "      <td>0.010626</td>\n",
       "      <td>0.163827</td>\n",
       "      <td>0.147499</td>\n",
       "    </tr>\n",
       "  </tbody>\n",
       "</table>\n",
       "</div>"
      ],
      "text/plain": [
       "       no_of_dependents  income_annum  loan_amount  loan_term  cibil_score  \\\n",
       "coeff         -0.016593     -0.070966     0.129472  -0.260542     1.606005   \n",
       "\n",
       "       residential_assets_value  commercial_assets_value  luxury_assets_value  \\\n",
       "coeff                 -0.025913                  0.01715            -0.047016   \n",
       "\n",
       "       bank_asset_value  education  self_employed  \n",
       "coeff          0.010626   0.163827       0.147499  "
      ]
     },
     "metadata": {},
     "output_type": "display_data"
    },
    {
     "name": "stdout",
     "output_type": "stream",
     "text": [
      "\n",
      "AIC 432.34569326281826 \n",
      "\n"
     ]
    }
   ],
   "source": [
    "logit = LogisticRegressionCV(penalty=\"l2\", solver='liblinear')\n",
    "logit.fit(train_X, train_y)\n",
    "\n",
    "print('regularization', logit.C_, '\\n')\n",
    "print('intercept ', logit.intercept_[0], '\\n')\n",
    "\n",
    "display(pd.DataFrame({'coeff': logit.coef_[0]}, index=train_X.columns).transpose())\n",
    "\n",
    "print('\\nAIC', AIC_score(valid_y, logit.predict(valid_X), df=len(train_X.columns) + 1), '\\n')"
   ]
  },
  {
   "cell_type": "code",
   "execution_count": 20,
   "id": "28b10aa8",
   "metadata": {},
   "outputs": [
    {
     "name": "stdout",
     "output_type": "stream",
     "text": [
      "Training Confusion Matrix:\n",
      "\n",
      "Confusion Matrix (Accuracy 0.9277)\n",
      "\n",
      "       Prediction\n",
      "Actual    0    1\n",
      "     0 1039   91\n",
      "     1  125 1733\n",
      "\n",
      "\n",
      "Validation Confusion Matrix:\n",
      "\n",
      "Confusion Matrix (Accuracy 0.9196)\n",
      "\n",
      "       Prediction\n",
      "Actual   0   1\n",
      "     0 451  32\n",
      "     1  71 727\n"
     ]
    }
   ],
   "source": [
    "# Confusion matrix\n",
    "print('Training Confusion Matrix:\\n')\n",
    "classificationSummary(train_y, logit.predict(train_X))\n",
    "print('\\n\\nValidation Confusion Matrix:\\n')\n",
    "classificationSummary(valid_y, logit.predict(valid_X))"
   ]
  },
  {
   "cell_type": "code",
   "execution_count": 21,
   "id": "012ced1c",
   "metadata": {},
   "outputs": [
    {
     "name": "stdout",
     "output_type": "stream",
     "text": [
      "Logistic Regression:\n",
      "\n",
      "Accuracy: 0.9195940671350508\n",
      "Precision: 0.9578392621870883\n",
      "Recall: 0.9110275689223057\n",
      "F1-score: 0.9338471419396275\n"
     ]
    }
   ],
   "source": [
    "print('Logistic Regression:\\n')\n",
    "valid_predictions = logit.predict(valid_X)\n",
    "accuracy = accuracy_score(valid_y, valid_predictions)\n",
    "precision = precision_score(valid_y, valid_predictions)\n",
    "recall = recall_score(valid_y, valid_predictions)\n",
    "f1 = f1_score(valid_y, valid_predictions)\n",
    "\n",
    "# Print the metrics\n",
    "print(\"Accuracy:\", accuracy)\n",
    "print(\"Precision:\", precision)\n",
    "print(\"Recall:\", recall)\n",
    "print(\"F1-score:\", f1)"
   ]
  },
  {
   "cell_type": "markdown",
   "id": "1d47dff3",
   "metadata": {},
   "source": [
    "### KNN"
   ]
  },
  {
   "cell_type": "code",
   "execution_count": 22,
   "id": "b6c0b64e",
   "metadata": {},
   "outputs": [
    {
     "name": "stdout",
     "output_type": "stream",
     "text": [
      "accuracy by k\n"
     ]
    },
    {
     "data": {
      "text/html": [
       "<div>\n",
       "<style scoped>\n",
       "    .dataframe tbody tr th:only-of-type {\n",
       "        vertical-align: middle;\n",
       "    }\n",
       "\n",
       "    .dataframe tbody tr th {\n",
       "        vertical-align: top;\n",
       "    }\n",
       "\n",
       "    .dataframe thead th {\n",
       "        text-align: right;\n",
       "    }\n",
       "</style>\n",
       "<table border=\"1\" class=\"dataframe\">\n",
       "  <thead>\n",
       "    <tr style=\"text-align: right;\">\n",
       "      <th></th>\n",
       "      <th>k</th>\n",
       "      <th>accuracy</th>\n",
       "    </tr>\n",
       "  </thead>\n",
       "  <tbody>\n",
       "    <tr>\n",
       "      <th>0</th>\n",
       "      <td>1</td>\n",
       "      <td>0.879001</td>\n",
       "    </tr>\n",
       "    <tr>\n",
       "      <th>1</th>\n",
       "      <td>2</td>\n",
       "      <td>0.860265</td>\n",
       "    </tr>\n",
       "    <tr>\n",
       "      <th>2</th>\n",
       "      <td>3</td>\n",
       "      <td>0.885246</td>\n",
       "    </tr>\n",
       "    <tr>\n",
       "      <th>3</th>\n",
       "      <td>4</td>\n",
       "      <td>0.885246</td>\n",
       "    </tr>\n",
       "    <tr>\n",
       "      <th>4</th>\n",
       "      <td>5</td>\n",
       "      <td>0.898517</td>\n",
       "    </tr>\n",
       "    <tr>\n",
       "      <th>5</th>\n",
       "      <td>6</td>\n",
       "      <td>0.889149</td>\n",
       "    </tr>\n",
       "    <tr>\n",
       "      <th>6</th>\n",
       "      <td>7</td>\n",
       "      <td>0.904762</td>\n",
       "    </tr>\n",
       "    <tr>\n",
       "      <th>7</th>\n",
       "      <td>8</td>\n",
       "      <td>0.896956</td>\n",
       "    </tr>\n",
       "    <tr>\n",
       "      <th>8</th>\n",
       "      <td>9</td>\n",
       "      <td>0.905543</td>\n",
       "    </tr>\n",
       "    <tr>\n",
       "      <th>9</th>\n",
       "      <td>10</td>\n",
       "      <td>0.909446</td>\n",
       "    </tr>\n",
       "    <tr>\n",
       "      <th>10</th>\n",
       "      <td>11</td>\n",
       "      <td>0.911788</td>\n",
       "    </tr>\n",
       "    <tr>\n",
       "      <th>11</th>\n",
       "      <td>12</td>\n",
       "      <td>0.912568</td>\n",
       "    </tr>\n",
       "    <tr>\n",
       "      <th>12</th>\n",
       "      <td>13</td>\n",
       "      <td>0.911007</td>\n",
       "    </tr>\n",
       "    <tr>\n",
       "      <th>13</th>\n",
       "      <td>14</td>\n",
       "      <td>0.908665</td>\n",
       "    </tr>\n",
       "    <tr>\n",
       "      <th>14</th>\n",
       "      <td>15</td>\n",
       "      <td>0.912568</td>\n",
       "    </tr>\n",
       "  </tbody>\n",
       "</table>\n",
       "</div>"
      ],
      "text/plain": [
       "     k  accuracy\n",
       "0    1  0.879001\n",
       "1    2  0.860265\n",
       "2    3  0.885246\n",
       "3    4  0.885246\n",
       "4    5  0.898517\n",
       "5    6  0.889149\n",
       "6    7  0.904762\n",
       "7    8  0.896956\n",
       "8    9  0.905543\n",
       "9   10  0.909446\n",
       "10  11  0.911788\n",
       "11  12  0.912568\n",
       "12  13  0.911007\n",
       "13  14  0.908665\n",
       "14  15  0.912568"
      ]
     },
     "metadata": {},
     "output_type": "display_data"
    },
    {
     "data": {
      "image/png": "[encoded data removed]",
      "text/plain": [
       "<Figure size 432x288 with 1 Axes>"
      ]
     },
     "metadata": {
      "needs_background": "light"
     },
     "output_type": "display_data"
    }
   ],
   "source": [
    "import matplotlib\n",
    "matplotlib.use('TkAgg')\n",
    "import matplotlib.pyplot as plt\n",
    "%matplotlib inline\n",
    "\n",
    "# Train a classifier for different values of k\n",
    "results = []\n",
    "for k in range(1, 16):\n",
    "    knn = KNeighborsClassifier(n_neighbors=k).fit(train_X, train_y)\n",
    "    results.append({\n",
    "        'k': k,\n",
    "        'accuracy': accuracy_score(valid_y, knn.predict(valid_X))\n",
    "    })\n",
    "    \n",
    "# Convert results to a pandas data frame\n",
    "results = pd.DataFrame(results)\n",
    "print('accuracy by k')\n",
    "display(results)\n",
    "\n",
    "# show accuracy by k\n",
    "plt.plot(results.k, results.accuracy, linestyle=':', c='green')\n",
    "plt.title('K vs. Accuracy')\n",
    "plt.xlabel('K')\n",
    "plt.ylabel('Accuracy')\n",
    "\n",
    "noteworthy_points = results[results['accuracy'] >= .8]\n",
    "plt.scatter(noteworthy_points.k, noteworthy_points.accuracy, c='red', marker='*')\n",
    "\n",
    "plt.show()"
   ]
  },
  {
   "cell_type": "code",
   "execution_count": 23,
   "id": "a687a1ce",
   "metadata": {},
   "outputs": [
    {
     "name": "stdout",
     "output_type": "stream",
     "text": [
      "Training Confusion Matrix:\n",
      "\n",
      "Confusion Matrix (Accuracy 0.9424)\n",
      "\n",
      "       Prediction\n",
      "Actual    0    1\n",
      "     0 1049   81\n",
      "     1   91 1767\n",
      "\n",
      "\n",
      "Validation Confusion Matrix:\n",
      "\n",
      "Confusion Matrix (Accuracy 0.9118)\n",
      "\n",
      "       Prediction\n",
      "Actual   0   1\n",
      "     0 436  47\n",
      "     1  66 732\n",
      "\n",
      "AIC 551.041655111163 \n",
      "\n"
     ]
    }
   ],
   "source": [
    "# using k=11 to re train the knn model\n",
    "knn = KNeighborsClassifier(n_neighbors=11).fit(train_X, train_y)\n",
    "\n",
    "# Classification Matrix\n",
    "print('Training Confusion Matrix:\\n')\n",
    "classificationSummary(train_y, knn.predict(train_X))\n",
    "print('\\n\\nValidation Confusion Matrix:\\n')\n",
    "classificationSummary(valid_y, knn.predict(valid_X))\n",
    "\n",
    "print('\\nAIC', AIC_score(valid_y, knn.predict(valid_X), df=len(train_X.columns) + 1), '\\n')"
   ]
  },
  {
   "cell_type": "code",
   "execution_count": 24,
   "id": "7baa4d1a",
   "metadata": {},
   "outputs": [
    {
     "name": "stdout",
     "output_type": "stream",
     "text": [
      "KNN:\n",
      "\n",
      "Accuracy: 0.9117876658860266\n",
      "Precision: 0.9396662387676509\n",
      "Recall: 0.9172932330827067\n",
      "F1-score: 0.9283449587824983\n"
     ]
    }
   ],
   "source": [
    "print('KNN:\\n')\n",
    "\n",
    "knn_valid_predictions = knn.predict(valid_X)\n",
    "knn_accuracy = accuracy_score(valid_y, knn_valid_predictions)\n",
    "knn_precision = precision_score(valid_y, knn_valid_predictions)\n",
    "knn_recall = recall_score(valid_y, knn_valid_predictions)\n",
    "knn_f1 = f1_score(valid_y, knn_valid_predictions)\n",
    "\n",
    "# Print the metrics\n",
    "print(\"Accuracy:\", knn_accuracy)\n",
    "print(\"Precision:\", knn_precision)\n",
    "print(\"Recall:\", knn_recall)\n",
    "print(\"F1-score:\", knn_f1)"
   ]
  },
  {
   "cell_type": "markdown",
   "id": "85e6ad3d",
   "metadata": {},
   "source": [
    "### Gradient Boosting"
   ]
  },
  {
   "cell_type": "code",
   "execution_count": 25,
   "id": "d7dbd53b",
   "metadata": {},
   "outputs": [
    {
     "name": "stdout",
     "output_type": "stream",
     "text": [
      "Training Confusion Matrix:\n",
      "\n",
      "Confusion Matrix (Accuracy 0.9953)\n",
      "\n",
      "       Prediction\n",
      "Actual    0    1\n",
      "     0 1118   12\n",
      "     1    2 1856\n",
      "\n",
      "\n",
      "Validation Confusion Matrix:\n",
      "\n",
      "Confusion Matrix (Accuracy 0.9781)\n",
      "\n",
      "       Prediction\n",
      "Actual   0   1\n",
      "     0 465  18\n",
      "     1  10 788\n",
      "\n",
      "AIC -1236.188163124909 \n",
      "\n"
     ]
    }
   ],
   "source": [
    "# GBM Model\n",
    "boost = GradientBoostingClassifier()\n",
    "boost.fit(train_X, train_y)\n",
    "\n",
    "# Classification Matrix\n",
    "print('Training Confusion Matrix:\\n')\n",
    "classificationSummary(train_y, boost.predict(train_X))\n",
    "print('\\n\\nValidation Confusion Matrix:\\n')\n",
    "classificationSummary(valid_y, boost.predict(valid_X))\n",
    "\n",
    "print('\\nAIC', AIC_score(valid_y, boost.predict(valid_X), df=len(train_X.columns) + 1), '\\n')"
   ]
  },
  {
   "cell_type": "code",
   "execution_count": 26,
   "id": "a79c0e5a",
   "metadata": {},
   "outputs": [
    {
     "name": "stdout",
     "output_type": "stream",
     "text": [
      "GBM:\n",
      "\n",
      "Accuracy: 0.9781420765027322\n",
      "Precision: 0.9776674937965261\n",
      "Recall: 0.9874686716791979\n",
      "F1-score: 0.9825436408977556\n"
     ]
    }
   ],
   "source": [
    "print('GBM:\\n')\n",
    "\n",
    "gbm_valid_predictions = boost.predict(valid_X)\n",
    "gbm_accuracy = accuracy_score(valid_y, gbm_valid_predictions)\n",
    "gbm_precision = precision_score(valid_y, gbm_valid_predictions)\n",
    "gbm_recall = recall_score(valid_y, gbm_valid_predictions)\n",
    "gbm_f1 = f1_score(valid_y, gbm_valid_predictions)\n",
    "\n",
    "# Print the metrics\n",
    "print(\"Accuracy:\", gbm_accuracy)\n",
    "print(\"Precision:\", gbm_precision)\n",
    "print(\"Recall:\", gbm_recall)\n",
    "print(\"F1-score:\", gbm_f1)"
   ]
  },
  {
   "cell_type": "markdown",
   "id": "50b23150",
   "metadata": {},
   "source": [
    "### Decision Tree"
   ]
  },
  {
   "cell_type": "code",
   "execution_count": 27,
   "id": "67509acc",
   "metadata": {},
   "outputs": [
    {
     "name": "stdout",
     "output_type": "stream",
     "text": [
      "Initial parameters:  {'max_depth': 10, 'min_impurity_decrease': 0.001, 'min_samples_split': 5}\n",
      "Improved parameters:  {'max_depth': 15, 'min_impurity_decrease': 0.001, 'min_samples_split': 8}\n"
     ]
    },
    {
     "data": {
      "image/png": "[encoded data removed]",
      "text/plain": [
       "<IPython.core.display.Image object>"
      ]
     },
     "execution_count": 27,
     "metadata": {},
     "output_type": "execute_result"
    }
   ],
   "source": [
    "# user grid search to find optimized tree \n",
    "param_grid = {\n",
    "                'max_depth': [5, 10, 15, 20, 25], \n",
    "                'min_impurity_decrease': [0, 0.001, 0.002, 0.003, 0.005, 0.006, 0.007, 0.008], \n",
    "                'min_samples_split': [5, 10, 20, 30, 40, 50],\n",
    "}\n",
    "gridSearch = GridSearchCV(DecisionTreeRegressor(), param_grid, cv=5, n_jobs=-1) \n",
    "gridSearch.fit(train_X, train_y)\n",
    "print('Initial parameters: ', gridSearch.best_params_)\n",
    "\n",
    "# use first grid search to find more optimal hyperparamters.\n",
    "param_grid = {\n",
    "                'max_depth': [15, 18, 20, 22, 25],\n",
    "                'min_impurity_decrease': [0, 0.0005, 0.001, 0.0015, 0.002], \n",
    "                'min_samples_split': [8, 9, 10, 11, 12],\n",
    "}\n",
    "gridSearch = GridSearchCV(DecisionTreeClassifier(random_state=1), param_grid, cv=5, n_jobs=-1)\n",
    "gridSearch.fit(train_X, train_y)\n",
    "\n",
    "print('Improved parameters: ', gridSearch.best_params_)\n",
    "\n",
    "plotDecisionTree(gridSearch.best_estimator_, feature_names=train_X.columns)"
   ]
  },
  {
   "cell_type": "code",
   "execution_count": 28,
   "id": "8298f5ea",
   "metadata": {},
   "outputs": [
    {
     "name": "stdout",
     "output_type": "stream",
     "text": [
      "Training Confusion Matrix:\n",
      "\n",
      "Confusion Matrix (Accuracy 0.9863)\n",
      "\n",
      "       Prediction\n",
      "Actual    0    1\n",
      "     0 1095   35\n",
      "     1    6 1852\n",
      "\n",
      "\n",
      "Validation Confusion Matrix:\n",
      "\n",
      "Confusion Matrix (Accuracy 0.9828)\n",
      "\n",
      "       Prediction\n",
      "Actual   0   1\n",
      "     0 465  18\n",
      "     1   4 794\n",
      "\n",
      "AIC -1545.1167579073417 \n",
      "\n"
     ]
    }
   ],
   "source": [
    "# Confusion matrix\n",
    "print('Training Confusion Matrix:\\n')\n",
    "classificationSummary(train_y, gridSearch.best_estimator_.predict(train_X))\n",
    "print('\\n\\nValidation Confusion Matrix:\\n')\n",
    "classificationSummary(valid_y, gridSearch.best_estimator_.predict(valid_X))\n",
    "\n",
    "print('\\nAIC', AIC_score(valid_y, gridSearch.predict(valid_X), df=len(train_X.columns) + 1), '\\n')"
   ]
  },
  {
   "cell_type": "code",
   "execution_count": 29,
   "id": "771b0057",
   "metadata": {},
   "outputs": [
    {
     "name": "stdout",
     "output_type": "stream",
     "text": [
      "Decision Tree:\n",
      "\n",
      "Accuracy: 0.9828259172521467\n",
      "Precision: 0.9778325123152709\n",
      "Recall: 0.9949874686716792\n",
      "F1-score: 0.986335403726708\n"
     ]
    }
   ],
   "source": [
    "print('Decision Tree:\\n')\n",
    "\n",
    "best_decision_tree = gridSearch.best_estimator_\n",
    "decision_tree_valid_predictions = best_decision_tree.predict(valid_X)\n",
    "dt_accuracy = accuracy_score(valid_y, decision_tree_valid_predictions)\n",
    "dt_precision = precision_score(valid_y, decision_tree_valid_predictions)\n",
    "dt_recall = recall_score(valid_y, decision_tree_valid_predictions)\n",
    "dt_f1 = f1_score(valid_y, decision_tree_valid_predictions)\n",
    "\n",
    "# Print the metrics\n",
    "print(\"Accuracy:\", dt_accuracy)\n",
    "print(\"Precision:\", dt_precision)\n",
    "print(\"Recall:\", dt_recall)\n",
    "print(\"F1-score:\", dt_f1)"
   ]
  },
  {
   "cell_type": "markdown",
   "id": "30ca004f",
   "metadata": {},
   "source": [
    "### Compare"
   ]
  },
  {
   "cell_type": "code",
   "execution_count": 30,
   "id": "47f899f8",
   "metadata": {},
   "outputs": [
    {
     "data": {
      "image/png": "[encoded data removed]",
      "text/plain": [
       "<Figure size 720x720 with 1 Axes>"
      ]
     },
     "metadata": {
      "needs_background": "light"
     },
     "output_type": "display_data"
    }
   ],
   "source": [
    "\n",
    "# Logistic regression\n",
    "\n",
    "lg_proba =  logit.predict_proba(valid_X)\n",
    "lg_result = pd.DataFrame({'actual': valid_y.astype(\"int64\"), \n",
    "                            'p(0)': [p[0] for p in lg_proba],\n",
    "                            'p(1)': [p[1] for p in lg_proba],\n",
    "                            'predicted': logit.predict(valid_X),\n",
    "                          })\n",
    "lg_result = lg_result.sort_values(by=['p(1)'], ascending=False)\n",
    "\n",
    "# KNN\n",
    "\n",
    "knn_tree_proba = knn.predict_proba(valid_X)\n",
    "knn_tree_result = pd.DataFrame({'actual': valid_y.astype(\"int64\"), \n",
    "                            'p(0)': [p[0] for p in knn_tree_proba],\n",
    "                            'p(1)': [p[1] for p in knn_tree_proba],\n",
    "                            'predicted': knn.predict(valid_X),\n",
    "                          })\n",
    "knn_tree_result = knn_tree_result.sort_values(by=['p(1)'], ascending=False)\n",
    "\n",
    "# Gradient Boosting\n",
    "\n",
    "gbm_proba = boost.predict_proba(valid_X)\n",
    "gbm_result = pd.DataFrame({'actual': valid_y.astype(\"int64\"), \n",
    "                            'p(0)': [p[0] for p in gbm_proba],\n",
    "                            'p(1)': [p[1] for p in gbm_proba],\n",
    "                            'predicted': boost.predict(valid_X),\n",
    "                          })\n",
    "gbm_result = gbm_result.sort_values(by=['p(1)'], ascending=False)\n",
    "# Decision Trees\n",
    "\n",
    "dec_tree_proba = gridSearch.best_estimator_.predict_proba(valid_X)\n",
    "dec_tree_result = pd.DataFrame({'actual': valid_y.astype(\"int64\"), \n",
    "                            'p(0)': [p[0] for p in dec_tree_proba],\n",
    "                            'p(1)': [p[1] for p in dec_tree_proba],\n",
    "                            'predicted': gridSearch.best_estimator_.predict(valid_X),\n",
    "                          })\n",
    "dec_tree_result = dec_tree_result.sort_values(by=['p(1)'], ascending=False)\n",
    "\n",
    "\n",
    "\n",
    "ax = gainsChart(lg_result.actual, label='Logistic regression', color='C0', figsize=[10, 10])\n",
    "ax = gainsChart(knn_tree_result.actual, label='KNN', color='C1', ax=ax)\n",
    "ax = gainsChart(gbm_result.actual, label='GBM', color='C2', ax=ax)\n",
    "ax = gainsChart(dec_tree_result.actual, label='Decision Trees', color='C3', ax=ax)\n",
    "\n",
    "ax.legend()\n",
    "ax.set_title('Cumulative Gains Chart - Validation Data Results')\n",
    "\n",
    "plt.show()"
   ]
  },
  {
   "cell_type": "code",
   "execution_count": null,
   "id": "99c541aa",
   "metadata": {},
   "outputs": [],
   "source": []
  }
 ],
 "metadata": {
  "kernelspec": {
   "display_name": "Python 3 (ipykernel)",
   "language": "python",
   "name": "python3"
  },
  "language_info": {
   "codemirror_mode": {
    "name": "ipython",
    "version": 3
   },
   "file_extension": ".py",
   "mimetype": "text/x-python",
   "name": "python",
   "nbconvert_exporter": "python",
   "pygments_lexer": "ipython3",
   "version": "3.9.12"
  }
 },
 "nbformat": 4,
 "nbformat_minor": 5
}
