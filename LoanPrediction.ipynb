{
  "nbformat": 4,
  "nbformat_minor": 0,
  "metadata": {
    "colab": {
      "provenance": [],
      "authorship_tag": "ABX9TyNfvawOuqnGMU3qhIrHkGVa",
      "include_colab_link": true
    },
    "kernelspec": {
      "name": "python3",
      "display_name": "Python 3"
    },
    "language_info": {
      "name": "python"
    }
  },
  "cells": [
    {
      "cell_type": "markdown",
      "metadata": {
        "id": "view-in-github",
        "colab_type": "text"
      },
      "source": [
        "<a href=\"https://colab.research.google.com/github/dsklnr/Loan_Prediction/blob/Ben_Ogle_Branch/LoanPrediction.ipynb\" target=\"_parent\"><img src=\"https://colab.research.google.com/assets/colab-badge.svg\" alt=\"Open In Colab\"/></a>"
      ]
    },
    {
      "cell_type": "code",
      "execution_count": 62,
      "metadata": {
        "id": "9FdUbLXJUftH"
      },
      "outputs": [],
      "source": [
        "import pandas as pd\n",
        "import numpy as np\n",
        "import seaborn as sns\n",
        "import matplotlib.pyplot as plt\n",
        "\n",
        "from scipy.stats import chi2_contingency\n",
        "import scipy.stats as stats\n",
        "\n",
        "from google.colab import drive\n",
        "from google.colab import files"
      ]
    },
    {
      "cell_type": "code",
      "source": [
        "# Format the Jupyter notebook output to show all columns and rows\n",
        "pd.set_option('display.max_columns', 500)\n",
        "pd.set_option('display.max_rows', 500)"
      ],
      "metadata": {
        "id": "eQwILNFnUt3I"
      },
      "execution_count": 2,
      "outputs": []
    },
    {
      "cell_type": "code",
      "source": [
        "# Allowing google colab to access drive\n",
        "drive.mount('/content/drive')"
      ],
      "metadata": {
        "colab": {
          "base_uri": "https://localhost:8080/"
        },
        "id": "TUAArBIvUwLM",
        "outputId": "57878630-236c-4182-f09b-af5dc01377c8"
      },
      "execution_count": 3,
      "outputs": [
        {
          "output_type": "stream",
          "name": "stdout",
          "text": [
            "Mounted at /content/drive\n"
          ]
        }
      ]
    },
    {
      "cell_type": "code",
      "source": [
        "# Uploading dataset\n",
        "uploaded = files.upload()"
      ],
      "metadata": {
        "colab": {
          "base_uri": "https://localhost:8080/",
          "height": 73
        },
        "id": "AdLVVVulU4yJ",
        "outputId": "8132a1b1-1df9-4623-a10b-62abd5f76355"
      },
      "execution_count": 4,
      "outputs": [
        {
          "output_type": "display_data",
          "data": {
            "text/plain": [
              "<IPython.core.display.HTML object>"
            ],
            "text/html": [
              "\n",
              "     <input type=\"file\" id=\"files-2b245f8b-548d-4b56-8cc5-1a9a180036a5\" name=\"files[]\" multiple disabled\n",
              "        style=\"border:none\" />\n",
              "     <output id=\"result-2b245f8b-548d-4b56-8cc5-1a9a180036a5\">\n",
              "      Upload widget is only available when the cell has been executed in the\n",
              "      current browser session. Please rerun this cell to enable.\n",
              "      </output>\n",
              "      <script>// Copyright 2017 Google LLC\n",
              "//\n",
              "// Licensed under the Apache License, Version 2.0 (the \"License\");\n",
              "// you may not use this file except in compliance with the License.\n",
              "// You may obtain a copy of the License at\n",
              "//\n",
              "//      http://www.apache.org/licenses/LICENSE-2.0\n",
              "//\n",
              "// Unless required by applicable law or agreed to in writing, software\n",
              "// distributed under the License is distributed on an \"AS IS\" BASIS,\n",
              "// WITHOUT WARRANTIES OR CONDITIONS OF ANY KIND, either express or implied.\n",
              "// See the License for the specific language governing permissions and\n",
              "// limitations under the License.\n",
              "\n",
              "/**\n",
              " * @fileoverview Helpers for google.colab Python module.\n",
              " */\n",
              "(function(scope) {\n",
              "function span(text, styleAttributes = {}) {\n",
              "  const element = document.createElement('span');\n",
              "  element.textContent = text;\n",
              "  for (const key of Object.keys(styleAttributes)) {\n",
              "    element.style[key] = styleAttributes[key];\n",
              "  }\n",
              "  return element;\n",
              "}\n",
              "\n",
              "// Max number of bytes which will be uploaded at a time.\n",
              "const MAX_PAYLOAD_SIZE = 100 * 1024;\n",
              "\n",
              "function _uploadFiles(inputId, outputId) {\n",
              "  const steps = uploadFilesStep(inputId, outputId);\n",
              "  const outputElement = document.getElementById(outputId);\n",
              "  // Cache steps on the outputElement to make it available for the next call\n",
              "  // to uploadFilesContinue from Python.\n",
              "  outputElement.steps = steps;\n",
              "\n",
              "  return _uploadFilesContinue(outputId);\n",
              "}\n",
              "\n",
              "// This is roughly an async generator (not supported in the browser yet),\n",
              "// where there are multiple asynchronous steps and the Python side is going\n",
              "// to poll for completion of each step.\n",
              "// This uses a Promise to block the python side on completion of each step,\n",
              "// then passes the result of the previous step as the input to the next step.\n",
              "function _uploadFilesContinue(outputId) {\n",
              "  const outputElement = document.getElementById(outputId);\n",
              "  const steps = outputElement.steps;\n",
              "\n",
              "  const next = steps.next(outputElement.lastPromiseValue);\n",
              "  return Promise.resolve(next.value.promise).then((value) => {\n",
              "    // Cache the last promise value to make it available to the next\n",
              "    // step of the generator.\n",
              "    outputElement.lastPromiseValue = value;\n",
              "    return next.value.response;\n",
              "  });\n",
              "}\n",
              "\n",
              "/**\n",
              " * Generator function which is called between each async step of the upload\n",
              " * process.\n",
              " * @param {string} inputId Element ID of the input file picker element.\n",
              " * @param {string} outputId Element ID of the output display.\n",
              " * @return {!Iterable<!Object>} Iterable of next steps.\n",
              " */\n",
              "function* uploadFilesStep(inputId, outputId) {\n",
              "  const inputElement = document.getElementById(inputId);\n",
              "  inputElement.disabled = false;\n",
              "\n",
              "  const outputElement = document.getElementById(outputId);\n",
              "  outputElement.innerHTML = '';\n",
              "\n",
              "  const pickedPromise = new Promise((resolve) => {\n",
              "    inputElement.addEventListener('change', (e) => {\n",
              "      resolve(e.target.files);\n",
              "    });\n",
              "  });\n",
              "\n",
              "  const cancel = document.createElement('button');\n",
              "  inputElement.parentElement.appendChild(cancel);\n",
              "  cancel.textContent = 'Cancel upload';\n",
              "  const cancelPromise = new Promise((resolve) => {\n",
              "    cancel.onclick = () => {\n",
              "      resolve(null);\n",
              "    };\n",
              "  });\n",
              "\n",
              "  // Wait for the user to pick the files.\n",
              "  const files = yield {\n",
              "    promise: Promise.race([pickedPromise, cancelPromise]),\n",
              "    response: {\n",
              "      action: 'starting',\n",
              "    }\n",
              "  };\n",
              "\n",
              "  cancel.remove();\n",
              "\n",
              "  // Disable the input element since further picks are not allowed.\n",
              "  inputElement.disabled = true;\n",
              "\n",
              "  if (!files) {\n",
              "    return {\n",
              "      response: {\n",
              "        action: 'complete',\n",
              "      }\n",
              "    };\n",
              "  }\n",
              "\n",
              "  for (const file of files) {\n",
              "    const li = document.createElement('li');\n",
              "    li.append(span(file.name, {fontWeight: 'bold'}));\n",
              "    li.append(span(\n",
              "        `(${file.type || 'n/a'}) - ${file.size} bytes, ` +\n",
              "        `last modified: ${\n",
              "            file.lastModifiedDate ? file.lastModifiedDate.toLocaleDateString() :\n",
              "                                    'n/a'} - `));\n",
              "    const percent = span('0% done');\n",
              "    li.appendChild(percent);\n",
              "\n",
              "    outputElement.appendChild(li);\n",
              "\n",
              "    const fileDataPromise = new Promise((resolve) => {\n",
              "      const reader = new FileReader();\n",
              "      reader.onload = (e) => {\n",
              "        resolve(e.target.result);\n",
              "      };\n",
              "      reader.readAsArrayBuffer(file);\n",
              "    });\n",
              "    // Wait for the data to be ready.\n",
              "    let fileData = yield {\n",
              "      promise: fileDataPromise,\n",
              "      response: {\n",
              "        action: 'continue',\n",
              "      }\n",
              "    };\n",
              "\n",
              "    // Use a chunked sending to avoid message size limits. See b/62115660.\n",
              "    let position = 0;\n",
              "    do {\n",
              "      const length = Math.min(fileData.byteLength - position, MAX_PAYLOAD_SIZE);\n",
              "      const chunk = new Uint8Array(fileData, position, length);\n",
              "      position += length;\n",
              "\n",
              "      const base64 = btoa(String.fromCharCode.apply(null, chunk));\n",
              "      yield {\n",
              "        response: {\n",
              "          action: 'append',\n",
              "          file: file.name,\n",
              "          data: base64,\n",
              "        },\n",
              "      };\n",
              "\n",
              "      let percentDone = fileData.byteLength === 0 ?\n",
              "          100 :\n",
              "          Math.round((position / fileData.byteLength) * 100);\n",
              "      percent.textContent = `${percentDone}% done`;\n",
              "\n",
              "    } while (position < fileData.byteLength);\n",
              "  }\n",
              "\n",
              "  // All done.\n",
              "  yield {\n",
              "    response: {\n",
              "      action: 'complete',\n",
              "    }\n",
              "  };\n",
              "}\n",
              "\n",
              "scope.google = scope.google || {};\n",
              "scope.google.colab = scope.google.colab || {};\n",
              "scope.google.colab._files = {\n",
              "  _uploadFiles,\n",
              "  _uploadFilesContinue,\n",
              "};\n",
              "})(self);\n",
              "</script> "
            ]
          },
          "metadata": {}
        },
        {
          "output_type": "stream",
          "name": "stdout",
          "text": [
            "Saving loan_approval_dataset.csv to loan_approval_dataset.csv\n"
          ]
        }
      ]
    },
    {
      "cell_type": "markdown",
      "source": [
        "## **Data Preprocessing**"
      ],
      "metadata": {
        "id": "7r41rnRNhsQh"
      }
    },
    {
      "cell_type": "markdown",
      "source": [
        "## Import the dataset and check for null values"
      ],
      "metadata": {
        "id": "boT0ZSshax1T"
      }
    },
    {
      "cell_type": "code",
      "source": [
        "# Read the csv file\n",
        "loan = pd.read_csv(\"/content/loan_approval_dataset.csv\")\n",
        "loan_df = pd.DataFrame(loan)\n",
        "loan_df"
      ],
      "metadata": {
        "colab": {
          "base_uri": "https://localhost:8080/",
          "height": 530
        },
        "id": "rit0QamKVOmd",
        "outputId": "1199bf44-f14d-47b5-e9d9-97dd866f8b36"
      },
      "execution_count": 5,
      "outputs": [
        {
          "output_type": "execute_result",
          "data": {
            "text/plain": [
              "      loan_id   no_of_dependents      education  self_employed   income_annum  \\\n",
              "0           1                  2       Graduate             No        9600000   \n",
              "1           2                  0   Not Graduate            Yes        4100000   \n",
              "2           3                  3       Graduate             No        9100000   \n",
              "3           4                  3       Graduate             No        8200000   \n",
              "4           5                  5   Not Graduate            Yes        9800000   \n",
              "...       ...                ...            ...            ...            ...   \n",
              "4264     4265                  5       Graduate            Yes        1000000   \n",
              "4265     4266                  0   Not Graduate            Yes        3300000   \n",
              "4266     4267                  2   Not Graduate             No        6500000   \n",
              "4267     4268                  1   Not Graduate             No        4100000   \n",
              "4268     4269                  1       Graduate             No        9200000   \n",
              "\n",
              "       loan_amount   loan_term   cibil_score   residential_assets_value  \\\n",
              "0         29900000          12           778                    2400000   \n",
              "1         12200000           8           417                    2700000   \n",
              "2         29700000          20           506                    7100000   \n",
              "3         30700000           8           467                   18200000   \n",
              "4         24200000          20           382                   12400000   \n",
              "...            ...         ...           ...                        ...   \n",
              "4264       2300000          12           317                    2800000   \n",
              "4265      11300000          20           559                    4200000   \n",
              "4266      23900000          18           457                    1200000   \n",
              "4267      12800000           8           780                    8200000   \n",
              "4268      29700000          10           607                   17800000   \n",
              "\n",
              "       commercial_assets_value   luxury_assets_value   bank_asset_value  \\\n",
              "0                     17600000              22700000            8000000   \n",
              "1                      2200000               8800000            3300000   \n",
              "2                      4500000              33300000           12800000   \n",
              "3                      3300000              23300000            7900000   \n",
              "4                      8200000              29400000            5000000   \n",
              "...                        ...                   ...                ...   \n",
              "4264                    500000               3300000             800000   \n",
              "4265                   2900000              11000000            1900000   \n",
              "4266                  12400000              18100000            7300000   \n",
              "4267                    700000              14100000            5800000   \n",
              "4268                  11800000              35700000           12000000   \n",
              "\n",
              "      loan_status  \n",
              "0        Approved  \n",
              "1        Rejected  \n",
              "2        Rejected  \n",
              "3        Rejected  \n",
              "4        Rejected  \n",
              "...           ...  \n",
              "4264     Rejected  \n",
              "4265     Approved  \n",
              "4266     Rejected  \n",
              "4267     Approved  \n",
              "4268     Approved  \n",
              "\n",
              "[4269 rows x 13 columns]"
            ],
            "text/html": [
              "\n",
              "  <div id=\"df-bfb71e17-7f3c-46fe-8d5b-e79598a67d82\" class=\"colab-df-container\">\n",
              "    <div>\n",
              "<style scoped>\n",
              "    .dataframe tbody tr th:only-of-type {\n",
              "        vertical-align: middle;\n",
              "    }\n",
              "\n",
              "    .dataframe tbody tr th {\n",
              "        vertical-align: top;\n",
              "    }\n",
              "\n",
              "    .dataframe thead th {\n",
              "        text-align: right;\n",
              "    }\n",
              "</style>\n",
              "<table border=\"1\" class=\"dataframe\">\n",
              "  <thead>\n",
              "    <tr style=\"text-align: right;\">\n",
              "      <th></th>\n",
              "      <th>loan_id</th>\n",
              "      <th>no_of_dependents</th>\n",
              "      <th>education</th>\n",
              "      <th>self_employed</th>\n",
              "      <th>income_annum</th>\n",
              "      <th>loan_amount</th>\n",
              "      <th>loan_term</th>\n",
              "      <th>cibil_score</th>\n",
              "      <th>residential_assets_value</th>\n",
              "      <th>commercial_assets_value</th>\n",
              "      <th>luxury_assets_value</th>\n",
              "      <th>bank_asset_value</th>\n",
              "      <th>loan_status</th>\n",
              "    </tr>\n",
              "  </thead>\n",
              "  <tbody>\n",
              "    <tr>\n",
              "      <th>0</th>\n",
              "      <td>1</td>\n",
              "      <td>2</td>\n",
              "      <td>Graduate</td>\n",
              "      <td>No</td>\n",
              "      <td>9600000</td>\n",
              "      <td>29900000</td>\n",
              "      <td>12</td>\n",
              "      <td>778</td>\n",
              "      <td>2400000</td>\n",
              "      <td>17600000</td>\n",
              "      <td>22700000</td>\n",
              "      <td>8000000</td>\n",
              "      <td>Approved</td>\n",
              "    </tr>\n",
              "    <tr>\n",
              "      <th>1</th>\n",
              "      <td>2</td>\n",
              "      <td>0</td>\n",
              "      <td>Not Graduate</td>\n",
              "      <td>Yes</td>\n",
              "      <td>4100000</td>\n",
              "      <td>12200000</td>\n",
              "      <td>8</td>\n",
              "      <td>417</td>\n",
              "      <td>2700000</td>\n",
              "      <td>2200000</td>\n",
              "      <td>8800000</td>\n",
              "      <td>3300000</td>\n",
              "      <td>Rejected</td>\n",
              "    </tr>\n",
              "    <tr>\n",
              "      <th>2</th>\n",
              "      <td>3</td>\n",
              "      <td>3</td>\n",
              "      <td>Graduate</td>\n",
              "      <td>No</td>\n",
              "      <td>9100000</td>\n",
              "      <td>29700000</td>\n",
              "      <td>20</td>\n",
              "      <td>506</td>\n",
              "      <td>7100000</td>\n",
              "      <td>4500000</td>\n",
              "      <td>33300000</td>\n",
              "      <td>12800000</td>\n",
              "      <td>Rejected</td>\n",
              "    </tr>\n",
              "    <tr>\n",
              "      <th>3</th>\n",
              "      <td>4</td>\n",
              "      <td>3</td>\n",
              "      <td>Graduate</td>\n",
              "      <td>No</td>\n",
              "      <td>8200000</td>\n",
              "      <td>30700000</td>\n",
              "      <td>8</td>\n",
              "      <td>467</td>\n",
              "      <td>18200000</td>\n",
              "      <td>3300000</td>\n",
              "      <td>23300000</td>\n",
              "      <td>7900000</td>\n",
              "      <td>Rejected</td>\n",
              "    </tr>\n",
              "    <tr>\n",
              "      <th>4</th>\n",
              "      <td>5</td>\n",
              "      <td>5</td>\n",
              "      <td>Not Graduate</td>\n",
              "      <td>Yes</td>\n",
              "      <td>9800000</td>\n",
              "      <td>24200000</td>\n",
              "      <td>20</td>\n",
              "      <td>382</td>\n",
              "      <td>12400000</td>\n",
              "      <td>8200000</td>\n",
              "      <td>29400000</td>\n",
              "      <td>5000000</td>\n",
              "      <td>Rejected</td>\n",
              "    </tr>\n",
              "    <tr>\n",
              "      <th>...</th>\n",
              "      <td>...</td>\n",
              "      <td>...</td>\n",
              "      <td>...</td>\n",
              "      <td>...</td>\n",
              "      <td>...</td>\n",
              "      <td>...</td>\n",
              "      <td>...</td>\n",
              "      <td>...</td>\n",
              "      <td>...</td>\n",
              "      <td>...</td>\n",
              "      <td>...</td>\n",
              "      <td>...</td>\n",
              "      <td>...</td>\n",
              "    </tr>\n",
              "    <tr>\n",
              "      <th>4264</th>\n",
              "      <td>4265</td>\n",
              "      <td>5</td>\n",
              "      <td>Graduate</td>\n",
              "      <td>Yes</td>\n",
              "      <td>1000000</td>\n",
              "      <td>2300000</td>\n",
              "      <td>12</td>\n",
              "      <td>317</td>\n",
              "      <td>2800000</td>\n",
              "      <td>500000</td>\n",
              "      <td>3300000</td>\n",
              "      <td>800000</td>\n",
              "      <td>Rejected</td>\n",
              "    </tr>\n",
              "    <tr>\n",
              "      <th>4265</th>\n",
              "      <td>4266</td>\n",
              "      <td>0</td>\n",
              "      <td>Not Graduate</td>\n",
              "      <td>Yes</td>\n",
              "      <td>3300000</td>\n",
              "      <td>11300000</td>\n",
              "      <td>20</td>\n",
              "      <td>559</td>\n",
              "      <td>4200000</td>\n",
              "      <td>2900000</td>\n",
              "      <td>11000000</td>\n",
              "      <td>1900000</td>\n",
              "      <td>Approved</td>\n",
              "    </tr>\n",
              "    <tr>\n",
              "      <th>4266</th>\n",
              "      <td>4267</td>\n",
              "      <td>2</td>\n",
              "      <td>Not Graduate</td>\n",
              "      <td>No</td>\n",
              "      <td>6500000</td>\n",
              "      <td>23900000</td>\n",
              "      <td>18</td>\n",
              "      <td>457</td>\n",
              "      <td>1200000</td>\n",
              "      <td>12400000</td>\n",
              "      <td>18100000</td>\n",
              "      <td>7300000</td>\n",
              "      <td>Rejected</td>\n",
              "    </tr>\n",
              "    <tr>\n",
              "      <th>4267</th>\n",
              "      <td>4268</td>\n",
              "      <td>1</td>\n",
              "      <td>Not Graduate</td>\n",
              "      <td>No</td>\n",
              "      <td>4100000</td>\n",
              "      <td>12800000</td>\n",
              "      <td>8</td>\n",
              "      <td>780</td>\n",
              "      <td>8200000</td>\n",
              "      <td>700000</td>\n",
              "      <td>14100000</td>\n",
              "      <td>5800000</td>\n",
              "      <td>Approved</td>\n",
              "    </tr>\n",
              "    <tr>\n",
              "      <th>4268</th>\n",
              "      <td>4269</td>\n",
              "      <td>1</td>\n",
              "      <td>Graduate</td>\n",
              "      <td>No</td>\n",
              "      <td>9200000</td>\n",
              "      <td>29700000</td>\n",
              "      <td>10</td>\n",
              "      <td>607</td>\n",
              "      <td>17800000</td>\n",
              "      <td>11800000</td>\n",
              "      <td>35700000</td>\n",
              "      <td>12000000</td>\n",
              "      <td>Approved</td>\n",
              "    </tr>\n",
              "  </tbody>\n",
              "</table>\n",
              "<p>4269 rows × 13 columns</p>\n",
              "</div>\n",
              "    <div class=\"colab-df-buttons\">\n",
              "\n",
              "  <div class=\"colab-df-container\">\n",
              "    <button class=\"colab-df-convert\" onclick=\"convertToInteractive('df-bfb71e17-7f3c-46fe-8d5b-e79598a67d82')\"\n",
              "            title=\"Convert this dataframe to an interactive table.\"\n",
              "            style=\"display:none;\">\n",
              "\n",
              "  <svg xmlns=\"http://www.w3.org/2000/svg\" height=\"24px\" viewBox=\"0 -960 960 960\">\n",
              "    <path d=\"M120-120v-720h720v720H120Zm60-500h600v-160H180v160Zm220 220h160v-160H400v160Zm0 220h160v-160H400v160ZM180-400h160v-160H180v160Zm440 0h160v-160H620v160ZM180-180h160v-160H180v160Zm440 0h160v-160H620v160Z\"/>\n",
              "  </svg>\n",
              "    </button>\n",
              "\n",
              "  <style>\n",
              "    .colab-df-container {\n",
              "      display:flex;\n",
              "      gap: 12px;\n",
              "    }\n",
              "\n",
              "    .colab-df-convert {\n",
              "      background-color: #E8F0FE;\n",
              "      border: none;\n",
              "      border-radius: 50%;\n",
              "      cursor: pointer;\n",
              "      display: none;\n",
              "      fill: #1967D2;\n",
              "      height: 32px;\n",
              "      padding: 0 0 0 0;\n",
              "      width: 32px;\n",
              "    }\n",
              "\n",
              "    .colab-df-convert:hover {\n",
              "      background-color: #E2EBFA;\n",
              "      box-shadow: 0px 1px 2px rgba(60, 64, 67, 0.3), 0px 1px 3px 1px rgba(60, 64, 67, 0.15);\n",
              "      fill: #174EA6;\n",
              "    }\n",
              "\n",
              "    .colab-df-buttons div {\n",
              "      margin-bottom: 4px;\n",
              "    }\n",
              "\n",
              "    [theme=dark] .colab-df-convert {\n",
              "      background-color: #3B4455;\n",
              "      fill: #D2E3FC;\n",
              "    }\n",
              "\n",
              "    [theme=dark] .colab-df-convert:hover {\n",
              "      background-color: #434B5C;\n",
              "      box-shadow: 0px 1px 3px 1px rgba(0, 0, 0, 0.15);\n",
              "      filter: drop-shadow(0px 1px 2px rgba(0, 0, 0, 0.3));\n",
              "      fill: #FFFFFF;\n",
              "    }\n",
              "  </style>\n",
              "\n",
              "    <script>\n",
              "      const buttonEl =\n",
              "        document.querySelector('#df-bfb71e17-7f3c-46fe-8d5b-e79598a67d82 button.colab-df-convert');\n",
              "      buttonEl.style.display =\n",
              "        google.colab.kernel.accessAllowed ? 'block' : 'none';\n",
              "\n",
              "      async function convertToInteractive(key) {\n",
              "        const element = document.querySelector('#df-bfb71e17-7f3c-46fe-8d5b-e79598a67d82');\n",
              "        const dataTable =\n",
              "          await google.colab.kernel.invokeFunction('convertToInteractive',\n",
              "                                                    [key], {});\n",
              "        if (!dataTable) return;\n",
              "\n",
              "        const docLinkHtml = 'Like what you see? Visit the ' +\n",
              "          '<a target=\"_blank\" href=https://colab.research.google.com/notebooks/data_table.ipynb>data table notebook</a>'\n",
              "          + ' to learn more about interactive tables.';\n",
              "        element.innerHTML = '';\n",
              "        dataTable['output_type'] = 'display_data';\n",
              "        await google.colab.output.renderOutput(dataTable, element);\n",
              "        const docLink = document.createElement('div');\n",
              "        docLink.innerHTML = docLinkHtml;\n",
              "        element.appendChild(docLink);\n",
              "      }\n",
              "    </script>\n",
              "  </div>\n",
              "\n",
              "\n",
              "<div id=\"df-ecd0e234-5323-4aeb-9d98-790a7a6be501\">\n",
              "  <button class=\"colab-df-quickchart\" onclick=\"quickchart('df-ecd0e234-5323-4aeb-9d98-790a7a6be501')\"\n",
              "            title=\"Suggest charts.\"\n",
              "            style=\"display:none;\">\n",
              "\n",
              "<svg xmlns=\"http://www.w3.org/2000/svg\" height=\"24px\"viewBox=\"0 0 24 24\"\n",
              "     width=\"24px\">\n",
              "    <g>\n",
              "        <path d=\"M19 3H5c-1.1 0-2 .9-2 2v14c0 1.1.9 2 2 2h14c1.1 0 2-.9 2-2V5c0-1.1-.9-2-2-2zM9 17H7v-7h2v7zm4 0h-2V7h2v10zm4 0h-2v-4h2v4z\"/>\n",
              "    </g>\n",
              "</svg>\n",
              "  </button>\n",
              "\n",
              "<style>\n",
              "  .colab-df-quickchart {\n",
              "      --bg-color: #E8F0FE;\n",
              "      --fill-color: #1967D2;\n",
              "      --hover-bg-color: #E2EBFA;\n",
              "      --hover-fill-color: #174EA6;\n",
              "      --disabled-fill-color: #AAA;\n",
              "      --disabled-bg-color: #DDD;\n",
              "  }\n",
              "\n",
              "  [theme=dark] .colab-df-quickchart {\n",
              "      --bg-color: #3B4455;\n",
              "      --fill-color: #D2E3FC;\n",
              "      --hover-bg-color: #434B5C;\n",
              "      --hover-fill-color: #FFFFFF;\n",
              "      --disabled-bg-color: #3B4455;\n",
              "      --disabled-fill-color: #666;\n",
              "  }\n",
              "\n",
              "  .colab-df-quickchart {\n",
              "    background-color: var(--bg-color);\n",
              "    border: none;\n",
              "    border-radius: 50%;\n",
              "    cursor: pointer;\n",
              "    display: none;\n",
              "    fill: var(--fill-color);\n",
              "    height: 32px;\n",
              "    padding: 0;\n",
              "    width: 32px;\n",
              "  }\n",
              "\n",
              "  .colab-df-quickchart:hover {\n",
              "    background-color: var(--hover-bg-color);\n",
              "    box-shadow: 0 1px 2px rgba(60, 64, 67, 0.3), 0 1px 3px 1px rgba(60, 64, 67, 0.15);\n",
              "    fill: var(--button-hover-fill-color);\n",
              "  }\n",
              "\n",
              "  .colab-df-quickchart-complete:disabled,\n",
              "  .colab-df-quickchart-complete:disabled:hover {\n",
              "    background-color: var(--disabled-bg-color);\n",
              "    fill: var(--disabled-fill-color);\n",
              "    box-shadow: none;\n",
              "  }\n",
              "\n",
              "  .colab-df-spinner {\n",
              "    border: 2px solid var(--fill-color);\n",
              "    border-color: transparent;\n",
              "    border-bottom-color: var(--fill-color);\n",
              "    animation:\n",
              "      spin 1s steps(1) infinite;\n",
              "  }\n",
              "\n",
              "  @keyframes spin {\n",
              "    0% {\n",
              "      border-color: transparent;\n",
              "      border-bottom-color: var(--fill-color);\n",
              "      border-left-color: var(--fill-color);\n",
              "    }\n",
              "    20% {\n",
              "      border-color: transparent;\n",
              "      border-left-color: var(--fill-color);\n",
              "      border-top-color: var(--fill-color);\n",
              "    }\n",
              "    30% {\n",
              "      border-color: transparent;\n",
              "      border-left-color: var(--fill-color);\n",
              "      border-top-color: var(--fill-color);\n",
              "      border-right-color: var(--fill-color);\n",
              "    }\n",
              "    40% {\n",
              "      border-color: transparent;\n",
              "      border-right-color: var(--fill-color);\n",
              "      border-top-color: var(--fill-color);\n",
              "    }\n",
              "    60% {\n",
              "      border-color: transparent;\n",
              "      border-right-color: var(--fill-color);\n",
              "    }\n",
              "    80% {\n",
              "      border-color: transparent;\n",
              "      border-right-color: var(--fill-color);\n",
              "      border-bottom-color: var(--fill-color);\n",
              "    }\n",
              "    90% {\n",
              "      border-color: transparent;\n",
              "      border-bottom-color: var(--fill-color);\n",
              "    }\n",
              "  }\n",
              "</style>\n",
              "\n",
              "  <script>\n",
              "    async function quickchart(key) {\n",
              "      const quickchartButtonEl =\n",
              "        document.querySelector('#' + key + ' button');\n",
              "      quickchartButtonEl.disabled = true;  // To prevent multiple clicks.\n",
              "      quickchartButtonEl.classList.add('colab-df-spinner');\n",
              "      try {\n",
              "        const charts = await google.colab.kernel.invokeFunction(\n",
              "            'suggestCharts', [key], {});\n",
              "      } catch (error) {\n",
              "        console.error('Error during call to suggestCharts:', error);\n",
              "      }\n",
              "      quickchartButtonEl.classList.remove('colab-df-spinner');\n",
              "      quickchartButtonEl.classList.add('colab-df-quickchart-complete');\n",
              "    }\n",
              "    (() => {\n",
              "      let quickchartButtonEl =\n",
              "        document.querySelector('#df-ecd0e234-5323-4aeb-9d98-790a7a6be501 button');\n",
              "      quickchartButtonEl.style.display =\n",
              "        google.colab.kernel.accessAllowed ? 'block' : 'none';\n",
              "    })();\n",
              "  </script>\n",
              "</div>\n",
              "    </div>\n",
              "  </div>\n"
            ]
          },
          "metadata": {},
          "execution_count": 5
        }
      ]
    },
    {
      "cell_type": "code",
      "source": [
        "# Get the number of rows and columns\n",
        "loan_df.shape"
      ],
      "metadata": {
        "colab": {
          "base_uri": "https://localhost:8080/"
        },
        "id": "4G5XQ2kwWFe1",
        "outputId": "c033f2b6-b098-49ba-dd05-36ebe7921ea2"
      },
      "execution_count": 6,
      "outputs": [
        {
          "output_type": "execute_result",
          "data": {
            "text/plain": [
              "(4269, 13)"
            ]
          },
          "metadata": {},
          "execution_count": 6
        }
      ]
    },
    {
      "cell_type": "code",
      "source": [
        "# remove the space infront of each columns name\n",
        "loan_df = loan_df.rename(columns = {' no_of_dependents' : 'no_of_dependents'})\n",
        "loan_df = loan_df.rename(columns = {' education' : 'education'})\n",
        "loan_df = loan_df.rename(columns = {' self_employed' : 'self_employed'})\n",
        "loan_df = loan_df.rename(columns = {' income_annum' : 'income_annum'})\n",
        "loan_df = loan_df.rename(columns = {' loan_amount' : 'loan_amount'})\n",
        "loan_df = loan_df.rename(columns = {' loan_term' : 'loan_term'})\n",
        "loan_df = loan_df.rename(columns = {' cibil_score' : 'cibil_score'})\n",
        "loan_df = loan_df.rename(columns = {' residential_assets_value' : 'residential_assets_value'})\n",
        "loan_df = loan_df.rename(columns = {' commercial_assets_value' : 'commercial_assets_value'})\n",
        "loan_df = loan_df.rename(columns = {' luxury_assets_value' : 'luxury_assets_value'})\n",
        "loan_df = loan_df.rename(columns = {' bank_asset_value' : 'bank_asset_value'})\n",
        "loan_df = loan_df.rename(columns = {' loan_status' : 'loan_status'})"
      ],
      "metadata": {
        "id": "O30raZ3bYdZI"
      },
      "execution_count": 7,
      "outputs": []
    },
    {
      "cell_type": "code",
      "source": [
        "# Get all the data types\n",
        "loan_df.dtypes"
      ],
      "metadata": {
        "colab": {
          "base_uri": "https://localhost:8080/"
        },
        "id": "95eT8U8MWLyp",
        "outputId": "6f0a28d6-9455-4bf0-94e5-1d41f27b055d"
      },
      "execution_count": 8,
      "outputs": [
        {
          "output_type": "execute_result",
          "data": {
            "text/plain": [
              "loan_id                      int64\n",
              "no_of_dependents             int64\n",
              "education                   object\n",
              "self_employed               object\n",
              "income_annum                 int64\n",
              "loan_amount                  int64\n",
              "loan_term                    int64\n",
              "cibil_score                  int64\n",
              "residential_assets_value     int64\n",
              "commercial_assets_value      int64\n",
              "luxury_assets_value          int64\n",
              "bank_asset_value             int64\n",
              "loan_status                 object\n",
              "dtype: object"
            ]
          },
          "metadata": {},
          "execution_count": 8
        }
      ]
    },
    {
      "cell_type": "code",
      "source": [
        "# Get the total number of non null values for each column\n",
        "non_nulls = loan_df.count()\n",
        "\n",
        "# Sort the number of nun null values for each column from greatest to least\n",
        "non_nulls.sort_values(ascending=False)"
      ],
      "metadata": {
        "colab": {
          "base_uri": "https://localhost:8080/"
        },
        "id": "loyaFJhyWQJS",
        "outputId": "3f54c8c8-20eb-4d10-bf13-507149d6b0b3"
      },
      "execution_count": 9,
      "outputs": [
        {
          "output_type": "execute_result",
          "data": {
            "text/plain": [
              "loan_id                     4269\n",
              "no_of_dependents            4269\n",
              "education                   4269\n",
              "self_employed               4269\n",
              "income_annum                4269\n",
              "loan_amount                 4269\n",
              "loan_term                   4269\n",
              "cibil_score                 4269\n",
              "residential_assets_value    4269\n",
              "commercial_assets_value     4269\n",
              "luxury_assets_value         4269\n",
              "bank_asset_value            4269\n",
              "loan_status                 4269\n",
              "dtype: int64"
            ]
          },
          "metadata": {},
          "execution_count": 9
        }
      ]
    },
    {
      "cell_type": "code",
      "source": [
        "# Get the total number of null values for each column\n",
        "total_nulls = loan_df.isnull().sum()\n",
        "\n",
        "# Sort the number of null values for each column in decsending order\n",
        "total_nulls.sort_values(ascending=False)"
      ],
      "metadata": {
        "colab": {
          "base_uri": "https://localhost:8080/"
        },
        "id": "F8VhXrTtWWJv",
        "outputId": "ae45a461-9864-49a8-cc27-988477dc9005"
      },
      "execution_count": 10,
      "outputs": [
        {
          "output_type": "execute_result",
          "data": {
            "text/plain": [
              "loan_id                     0\n",
              "no_of_dependents            0\n",
              "education                   0\n",
              "self_employed               0\n",
              "income_annum                0\n",
              "loan_amount                 0\n",
              "loan_term                   0\n",
              "cibil_score                 0\n",
              "residential_assets_value    0\n",
              "commercial_assets_value     0\n",
              "luxury_assets_value         0\n",
              "bank_asset_value            0\n",
              "loan_status                 0\n",
              "dtype: int64"
            ]
          },
          "metadata": {},
          "execution_count": 10
        }
      ]
    },
    {
      "cell_type": "markdown",
      "source": [
        "## Ensure each column's values are valid. If they are not, clean them."
      ],
      "metadata": {
        "id": "DQCBk1xKag_2"
      }
    },
    {
      "cell_type": "code",
      "source": [
        "# Get all number of dependent values and the count for each level\n",
        "num_of_dependents = loan_df['no_of_dependents'].value_counts()\n",
        "\n",
        "# Sort the count of dependents in ascending order\n",
        "num_of_dependents.sort_index(ascending=True)"
      ],
      "metadata": {
        "colab": {
          "base_uri": "https://localhost:8080/"
        },
        "id": "4FYvIFWpW15M",
        "outputId": "57197d79-a0fc-421f-c3a7-e2a0505544a3"
      },
      "execution_count": 11,
      "outputs": [
        {
          "output_type": "execute_result",
          "data": {
            "text/plain": [
              "0    712\n",
              "1    697\n",
              "2    708\n",
              "3    727\n",
              "4    752\n",
              "5    673\n",
              "Name: no_of_dependents, dtype: int64"
            ]
          },
          "metadata": {},
          "execution_count": 11
        }
      ]
    },
    {
      "cell_type": "code",
      "source": [
        "# Get all education values and the count for each\n",
        "num_of_dependents = loan_df['education'].value_counts()\n",
        "\n",
        "# Sort the count of education types in decsending order\n",
        "num_of_dependents.sort_values(ascending=False)"
      ],
      "metadata": {
        "colab": {
          "base_uri": "https://localhost:8080/"
        },
        "id": "onZB-mAvZapv",
        "outputId": "ee83a2e1-0444-4d4d-d165-14a55896e5bc"
      },
      "execution_count": 12,
      "outputs": [
        {
          "output_type": "execute_result",
          "data": {
            "text/plain": [
              " Graduate        2144\n",
              " Not Graduate    2125\n",
              "Name: education, dtype: int64"
            ]
          },
          "metadata": {},
          "execution_count": 12
        }
      ]
    },
    {
      "cell_type": "code",
      "source": [
        "# Get self employment status and the count for each\n",
        "num_of_dependents = loan_df['self_employed'].value_counts()\n",
        "\n",
        "# Sort the count of self employed in decsending order\n",
        "num_of_dependents.sort_index(ascending=False)"
      ],
      "metadata": {
        "colab": {
          "base_uri": "https://localhost:8080/"
        },
        "id": "51Y9EsOmZfUq",
        "outputId": "0934cfe6-258a-413c-aaf9-c50ca423d52d"
      },
      "execution_count": 13,
      "outputs": [
        {
          "output_type": "execute_result",
          "data": {
            "text/plain": [
              " Yes    2150\n",
              " No     2119\n",
              "Name: self_employed, dtype: int64"
            ]
          },
          "metadata": {},
          "execution_count": 13
        }
      ]
    },
    {
      "cell_type": "code",
      "source": [
        "# Get all annual income values and the count for each\n",
        "num_of_dependents = loan_df['income_annum'].value_counts()\n",
        "\n",
        "# Sort annual incomes in decsending order\n",
        "num_of_dependents.sort_index(ascending=False)"
      ],
      "metadata": {
        "colab": {
          "base_uri": "https://localhost:8080/"
        },
        "id": "T4bzqIbiaf4P",
        "outputId": "9455a681-d31c-46ca-c0a4-f8d2d2faf876"
      },
      "execution_count": 14,
      "outputs": [
        {
          "output_type": "execute_result",
          "data": {
            "text/plain": [
              "9900000    35\n",
              "9800000    48\n",
              "9700000    40\n",
              "9600000    39\n",
              "9500000    40\n",
              "9400000    47\n",
              "9300000    33\n",
              "9200000    49\n",
              "9100000    40\n",
              "9000000    53\n",
              "8900000    41\n",
              "8800000    49\n",
              "8700000    40\n",
              "8600000    40\n",
              "8500000    32\n",
              "8400000    52\n",
              "8300000    46\n",
              "8200000    41\n",
              "8100000    40\n",
              "8000000    53\n",
              "7900000    45\n",
              "7800000    49\n",
              "7700000    38\n",
              "7600000    57\n",
              "7500000    45\n",
              "7400000    44\n",
              "7300000    33\n",
              "7200000    35\n",
              "7100000    45\n",
              "7000000    62\n",
              "6900000    55\n",
              "6800000    44\n",
              "6700000    30\n",
              "6600000    46\n",
              "6500000    43\n",
              "6400000    45\n",
              "6300000    41\n",
              "6200000    37\n",
              "6100000    42\n",
              "6000000    41\n",
              "5900000    42\n",
              "5800000    46\n",
              "5700000    41\n",
              "5600000    47\n",
              "5500000    41\n",
              "5400000    45\n",
              "5300000    55\n",
              "5200000    46\n",
              "5100000    47\n",
              "5000000    41\n",
              "4900000    46\n",
              "4800000    37\n",
              "4700000    56\n",
              "4600000    42\n",
              "4500000    39\n",
              "4400000    48\n",
              "4300000    43\n",
              "4200000    39\n",
              "4100000    59\n",
              "4000000    36\n",
              "3900000    54\n",
              "3800000    52\n",
              "3700000    41\n",
              "3600000    33\n",
              "3500000    47\n",
              "3400000    33\n",
              "3300000    46\n",
              "3200000    55\n",
              "3100000    43\n",
              "3000000    35\n",
              "2900000    50\n",
              "2800000    37\n",
              "2700000    45\n",
              "2600000    41\n",
              "2500000    43\n",
              "2400000    50\n",
              "2300000    39\n",
              "2200000    43\n",
              "2100000    42\n",
              "2000000    45\n",
              "1900000    45\n",
              "1800000    48\n",
              "1700000    37\n",
              "1600000    46\n",
              "1500000    34\n",
              "1400000    50\n",
              "1300000    35\n",
              "1200000    34\n",
              "1100000    45\n",
              "1000000    42\n",
              "900000     39\n",
              "800000     41\n",
              "700000     45\n",
              "600000     49\n",
              "500000     46\n",
              "400000     35\n",
              "300000     51\n",
              "200000     42\n",
              "Name: income_annum, dtype: int64"
            ]
          },
          "metadata": {},
          "execution_count": 14
        }
      ]
    },
    {
      "cell_type": "code",
      "source": [
        "# Get all loan amounts and the count for each\n",
        "num_of_dependents = loan_df['loan_amount'].value_counts()\n",
        "\n",
        "# Sort loan amounts types in decsending order\n",
        "num_of_dependents.sort_index(ascending=False)"
      ],
      "metadata": {
        "colab": {
          "base_uri": "https://localhost:8080/"
        },
        "id": "ccv-WBPMbHsL",
        "outputId": "581e3845-e9b3-4dc4-cc7b-b8611c92d42c"
      },
      "execution_count": 15,
      "outputs": [
        {
          "output_type": "execute_result",
          "data": {
            "text/plain": [
              "39500000     1\n",
              "38800000     1\n",
              "38700000     2\n",
              "38500000     1\n",
              "38400000     1\n",
              "38200000     3\n",
              "38000000     1\n",
              "37900000     2\n",
              "37800000     2\n",
              "37700000     1\n",
              "37600000     2\n",
              "37500000     1\n",
              "37300000     3\n",
              "37000000     2\n",
              "36800000     3\n",
              "36700000     2\n",
              "36600000     1\n",
              "36500000     2\n",
              "36400000     3\n",
              "36300000     1\n",
              "36100000     1\n",
              "36000000     2\n",
              "35900000     3\n",
              "35800000     1\n",
              "35700000     3\n",
              "35500000     4\n",
              "35400000     3\n",
              "35300000     3\n",
              "35200000     3\n",
              "35100000     2\n",
              "35000000     4\n",
              "34900000     4\n",
              "34800000     3\n",
              "34700000     1\n",
              "34600000     2\n",
              "34500000     3\n",
              "34400000     1\n",
              "34300000     3\n",
              "34200000     5\n",
              "34100000     4\n",
              "34000000     7\n",
              "33900000     3\n",
              "33800000     1\n",
              "33700000     3\n",
              "33600000     4\n",
              "33500000     4\n",
              "33400000     1\n",
              "33300000     4\n",
              "33200000     3\n",
              "33100000     2\n",
              "33000000     5\n",
              "32900000     4\n",
              "32800000     1\n",
              "32700000     2\n",
              "32600000     5\n",
              "32500000     3\n",
              "32400000     5\n",
              "32300000     2\n",
              "32200000     4\n",
              "32100000     6\n",
              "32000000     4\n",
              "31900000     4\n",
              "31800000     6\n",
              "31700000     3\n",
              "31600000     2\n",
              "31500000    11\n",
              "31400000     6\n",
              "31300000     1\n",
              "31200000     6\n",
              "31100000     4\n",
              "31000000     3\n",
              "30900000     8\n",
              "30800000     5\n",
              "30700000     8\n",
              "30600000     4\n",
              "30500000     6\n",
              "30400000     5\n",
              "30300000     6\n",
              "30200000     4\n",
              "30100000    10\n",
              "30000000     9\n",
              "29900000     9\n",
              "29800000     8\n",
              "29700000     6\n",
              "29600000     4\n",
              "29500000     2\n",
              "29400000     9\n",
              "29300000    11\n",
              "29200000     6\n",
              "29100000     9\n",
              "29000000     5\n",
              "28900000    12\n",
              "28800000     7\n",
              "28700000    10\n",
              "28600000     6\n",
              "28500000     5\n",
              "28400000    11\n",
              "28300000    12\n",
              "28200000     8\n",
              "28100000    11\n",
              "28000000     6\n",
              "27900000     9\n",
              "27800000    11\n",
              "27700000     6\n",
              "27600000     3\n",
              "27500000     5\n",
              "27400000     4\n",
              "27300000     6\n",
              "27200000    13\n",
              "27100000    13\n",
              "27000000    11\n",
              "26900000     8\n",
              "26800000     3\n",
              "26700000    12\n",
              "26600000     9\n",
              "26500000     6\n",
              "26400000     7\n",
              "26300000    10\n",
              "26200000    10\n",
              "26100000     5\n",
              "26000000     8\n",
              "25900000     8\n",
              "25800000     7\n",
              "25700000    13\n",
              "25600000    11\n",
              "25500000     8\n",
              "25400000    16\n",
              "25300000    10\n",
              "25200000     7\n",
              "25100000     9\n",
              "25000000     8\n",
              "24900000    12\n",
              "24800000    10\n",
              "24700000    11\n",
              "24600000    11\n",
              "24500000     8\n",
              "24400000     7\n",
              "24300000     2\n",
              "24200000    11\n",
              "24100000     8\n",
              "24000000    13\n",
              "23900000    23\n",
              "23800000     8\n",
              "23700000     4\n",
              "23600000    15\n",
              "23500000    14\n",
              "23400000    11\n",
              "23300000    17\n",
              "23200000    14\n",
              "23100000    14\n",
              "23000000    11\n",
              "22900000    10\n",
              "22800000    10\n",
              "22700000    11\n",
              "22600000    10\n",
              "22500000    15\n",
              "22400000     7\n",
              "22300000    10\n",
              "22200000    12\n",
              "22100000     8\n",
              "22000000     8\n",
              "21900000    12\n",
              "21800000    11\n",
              "21700000    12\n",
              "21600000    12\n",
              "21500000    10\n",
              "21400000    15\n",
              "21300000    17\n",
              "21200000    18\n",
              "21100000    10\n",
              "21000000    14\n",
              "20900000    19\n",
              "20800000    16\n",
              "20700000    19\n",
              "20600000    14\n",
              "20500000    14\n",
              "20400000    11\n",
              "20300000    17\n",
              "20200000    12\n",
              "20100000    15\n",
              "20000000    24\n",
              "19900000    20\n",
              "19800000    11\n",
              "19700000    21\n",
              "19600000    17\n",
              "19500000    18\n",
              "19400000    16\n",
              "19300000    16\n",
              "19200000    12\n",
              "19100000    19\n",
              "19000000    17\n",
              "18900000    17\n",
              "18800000    17\n",
              "18700000    15\n",
              "18600000    19\n",
              "18500000    19\n",
              "18400000    15\n",
              "18300000    17\n",
              "18200000    13\n",
              "18100000    16\n",
              "18000000    13\n",
              "17900000    15\n",
              "17800000    11\n",
              "17700000    16\n",
              "17600000    14\n",
              "17500000    20\n",
              "17400000     6\n",
              "17300000    13\n",
              "17200000    19\n",
              "17100000    10\n",
              "17000000    16\n",
              "16900000    20\n",
              "16800000    23\n",
              "16700000    16\n",
              "16600000    10\n",
              "16500000    19\n",
              "16400000    16\n",
              "16300000    13\n",
              "16200000    19\n",
              "16100000     8\n",
              "16000000    15\n",
              "15900000    10\n",
              "15800000    20\n",
              "15700000     8\n",
              "15600000    13\n",
              "15500000    16\n",
              "15400000    12\n",
              "15300000    12\n",
              "15200000    17\n",
              "15100000    13\n",
              "15000000    17\n",
              "14900000    18\n",
              "14800000    18\n",
              "14700000    12\n",
              "14600000    15\n",
              "14500000    21\n",
              "14400000    17\n",
              "14300000    16\n",
              "14200000     8\n",
              "14100000    22\n",
              "14000000    16\n",
              "13900000    19\n",
              "13800000     9\n",
              "13700000    17\n",
              "13600000    12\n",
              "13500000    15\n",
              "13400000    17\n",
              "13300000    13\n",
              "13200000    11\n",
              "13100000    16\n",
              "13000000    14\n",
              "12900000    13\n",
              "12800000    20\n",
              "12700000    15\n",
              "12600000    15\n",
              "12500000    22\n",
              "12400000    19\n",
              "12300000    19\n",
              "12200000    13\n",
              "12100000     6\n",
              "12000000    21\n",
              "11900000    10\n",
              "11800000    18\n",
              "11700000    12\n",
              "11600000    19\n",
              "11500000    22\n",
              "11400000    16\n",
              "11300000    12\n",
              "11200000    13\n",
              "11100000    16\n",
              "11000000    18\n",
              "10900000    21\n",
              "10800000    20\n",
              "10700000    18\n",
              "10600000    27\n",
              "10500000    15\n",
              "10400000    13\n",
              "10300000    12\n",
              "10200000    11\n",
              "10100000    13\n",
              "10000000    15\n",
              "9900000     14\n",
              "9800000     16\n",
              "9700000     11\n",
              "9600000     17\n",
              "9500000      9\n",
              "9400000     24\n",
              "9300000     14\n",
              "9200000     10\n",
              "9100000     17\n",
              "9000000     12\n",
              "8900000     17\n",
              "8800000     16\n",
              "8700000     15\n",
              "8600000     21\n",
              "8500000     21\n",
              "8400000     12\n",
              "8300000     18\n",
              "8200000     18\n",
              "8100000     20\n",
              "8000000     10\n",
              "7900000      5\n",
              "7800000     16\n",
              "7700000     13\n",
              "7600000     15\n",
              "7500000     15\n",
              "7400000     19\n",
              "7300000      8\n",
              "7200000     16\n",
              "7100000      9\n",
              "7000000     17\n",
              "6900000     16\n",
              "6800000     17\n",
              "6700000     16\n",
              "6600000     16\n",
              "6500000     14\n",
              "6400000     11\n",
              "6300000     15\n",
              "6200000     10\n",
              "6100000     10\n",
              "6000000     15\n",
              "5900000     17\n",
              "5800000     12\n",
              "5700000     12\n",
              "5600000     16\n",
              "5500000     15\n",
              "5400000     21\n",
              "5300000     15\n",
              "5200000     12\n",
              "5100000     17\n",
              "5000000     19\n",
              "4900000     20\n",
              "4800000     13\n",
              "4700000     15\n",
              "4600000     15\n",
              "4500000     16\n",
              "4400000      7\n",
              "4300000     15\n",
              "4200000     12\n",
              "4100000     16\n",
              "4000000     15\n",
              "3900000      9\n",
              "3800000     15\n",
              "3700000      9\n",
              "3600000     14\n",
              "3500000     16\n",
              "3400000     13\n",
              "3300000     15\n",
              "3200000     21\n",
              "3100000     15\n",
              "3000000     10\n",
              "2900000     15\n",
              "2800000     16\n",
              "2700000     17\n",
              "2600000     14\n",
              "2500000     17\n",
              "2400000     16\n",
              "2300000     20\n",
              "2200000     10\n",
              "2100000     15\n",
              "2000000     10\n",
              "1900000      8\n",
              "1800000     21\n",
              "1700000     19\n",
              "1600000     10\n",
              "1500000     15\n",
              "1400000     21\n",
              "1300000     15\n",
              "1200000     17\n",
              "1100000     18\n",
              "1000000     10\n",
              "900000      12\n",
              "800000      15\n",
              "700000      15\n",
              "600000      13\n",
              "500000      16\n",
              "400000       7\n",
              "300000       6\n",
              "Name: loan_amount, dtype: int64"
            ]
          },
          "metadata": {},
          "execution_count": 15
        }
      ]
    },
    {
      "cell_type": "code",
      "source": [
        "# Get all loan terms and the count for each\n",
        "num_of_dependents = loan_df['loan_term'].value_counts()\n",
        "\n",
        "# Sort the count of each loan term in decsending order\n",
        "num_of_dependents.sort_values(ascending=False)"
      ],
      "metadata": {
        "colab": {
          "base_uri": "https://localhost:8080/"
        },
        "id": "FVo90W1cbIL3",
        "outputId": "7dec888a-779d-4744-e6dc-05adfcd86215"
      },
      "execution_count": 16,
      "outputs": [
        {
          "output_type": "execute_result",
          "data": {
            "text/plain": [
              "6     490\n",
              "12    456\n",
              "4     447\n",
              "10    436\n",
              "18    422\n",
              "16    412\n",
              "20    411\n",
              "14    405\n",
              "2     404\n",
              "8     386\n",
              "Name: loan_term, dtype: int64"
            ]
          },
          "metadata": {},
          "execution_count": 16
        }
      ]
    },
    {
      "cell_type": "code",
      "source": [
        "# Get all cibil scores and the count for each\n",
        "num_of_dependents = loan_df['cibil_score'].value_counts()\n",
        "\n",
        "# Sort the count of each cibil score in decsending order\n",
        "num_of_dependents.sort_values(ascending=False)"
      ],
      "metadata": {
        "colab": {
          "base_uri": "https://localhost:8080/"
        },
        "id": "g4SGH8XebI5l",
        "outputId": "98a166ab-3425-485d-81ce-801e1acd7e56"
      },
      "execution_count": 17,
      "outputs": [
        {
          "output_type": "execute_result",
          "data": {
            "text/plain": [
              "348    16\n",
              "538    15\n",
              "543    15\n",
              "778    14\n",
              "509    14\n",
              "       ..\n",
              "334     2\n",
              "773     2\n",
              "893     2\n",
              "484     2\n",
              "864     1\n",
              "Name: cibil_score, Length: 601, dtype: int64"
            ]
          },
          "metadata": {},
          "execution_count": 17
        }
      ]
    },
    {
      "cell_type": "code",
      "source": [
        "# Get all residential asset values and the count for each\n",
        "num_of_dependents = loan_df['residential_assets_value'].value_counts()\n",
        "\n",
        "# Sort the count of residential asset values in decsending order\n",
        "num_of_dependents.sort_values(ascending=False)"
      ],
      "metadata": {
        "colab": {
          "base_uri": "https://localhost:8080/"
        },
        "id": "zrrs1GKfbJU0",
        "outputId": "8180e01e-8b5e-42e1-f878-a32a7698e70c"
      },
      "execution_count": 18,
      "outputs": [
        {
          "output_type": "execute_result",
          "data": {
            "text/plain": [
              " 400000      66\n",
              " 500000      63\n",
              " 100000      60\n",
              " 1000000     57\n",
              " 600000      56\n",
              " 1300000     55\n",
              " 700000      52\n",
              " 300000      52\n",
              " 3200000     50\n",
              " 200000      50\n",
              " 900000      48\n",
              " 800000      45\n",
              " 0           45\n",
              " 1400000     43\n",
              " 2200000     43\n",
              " 1200000     42\n",
              " 1600000     42\n",
              " 3600000     41\n",
              " 1900000     41\n",
              " 1700000     40\n",
              " 2400000     40\n",
              " 1500000     40\n",
              " 1100000     38\n",
              " 4700000     38\n",
              " 3800000     37\n",
              " 2000000     36\n",
              " 2300000     35\n",
              " 3400000     34\n",
              " 2900000     33\n",
              " 2500000     32\n",
              " 4200000     32\n",
              " 3500000     32\n",
              " 2800000     32\n",
              " 3300000     31\n",
              " 3000000     31\n",
              " 2100000     31\n",
              " 4100000     31\n",
              " 1800000     31\n",
              " 3900000     30\n",
              " 3700000     30\n",
              " 5100000     30\n",
              " 2700000     30\n",
              " 4900000     29\n",
              " 5800000     29\n",
              " 5300000     29\n",
              " 6800000     29\n",
              " 2600000     29\n",
              " 3100000     28\n",
              "-100000      28\n",
              " 6400000     28\n",
              " 4000000     28\n",
              " 4400000     28\n",
              " 5900000     28\n",
              " 6300000     27\n",
              " 4300000     27\n",
              " 6100000     27\n",
              " 7800000     27\n",
              " 6700000     27\n",
              " 4500000     26\n",
              " 8800000     26\n",
              " 4800000     26\n",
              " 5000000     25\n",
              " 4600000     25\n",
              " 9900000     25\n",
              " 6000000     25\n",
              " 5400000     25\n",
              " 5500000     24\n",
              " 7400000     23\n",
              " 8200000     23\n",
              " 7900000     23\n",
              " 5200000     23\n",
              " 9800000     23\n",
              " 10800000    22\n",
              " 6500000     22\n",
              " 6200000     21\n",
              " 9500000     21\n",
              " 10600000    21\n",
              " 7000000     20\n",
              " 10000000    20\n",
              " 7700000     20\n",
              " 6600000     20\n",
              " 11800000    20\n",
              " 8900000     19\n",
              " 10500000    19\n",
              " 12100000    19\n",
              " 9200000     19\n",
              " 7100000     19\n",
              " 5600000     18\n",
              " 8300000     18\n",
              " 5700000     17\n",
              " 11200000    17\n",
              " 11000000    17\n",
              " 12700000    17\n",
              " 10300000    16\n",
              " 8100000     16\n",
              " 6900000     16\n",
              " 12600000    16\n",
              " 7300000     16\n",
              " 13000000    16\n",
              " 8400000     15\n",
              " 9100000     15\n",
              " 9400000     15\n",
              " 11400000    15\n",
              " 10900000    15\n",
              " 9300000     15\n",
              " 13400000    15\n",
              " 16500000    15\n",
              " 8700000     15\n",
              " 10200000    15\n",
              " 15400000    14\n",
              " 11100000    14\n",
              " 12900000    14\n",
              " 11300000    14\n",
              " 7600000     14\n",
              " 8500000     14\n",
              " 9000000     14\n",
              " 9700000     14\n",
              " 13900000    14\n",
              " 13300000    14\n",
              " 8000000     14\n",
              " 12400000    14\n",
              " 11700000    14\n",
              " 13800000    13\n",
              " 8600000     13\n",
              " 9600000     13\n",
              " 13700000    13\n",
              " 11500000    13\n",
              " 13600000    13\n",
              " 14600000    13\n",
              " 14200000    12\n",
              " 18800000    12\n",
              " 10400000    12\n",
              " 14700000    12\n",
              " 7500000     12\n",
              " 13100000    12\n",
              " 19600000    11\n",
              " 14100000    11\n",
              " 15300000    11\n",
              " 17100000    11\n",
              " 16100000    11\n",
              " 11900000    11\n",
              " 12800000    11\n",
              " 14300000    11\n",
              " 15700000    10\n",
              " 16800000    10\n",
              " 15100000    10\n",
              " 22000000    10\n",
              " 14400000    10\n",
              " 16000000    10\n",
              " 21500000    10\n",
              " 11600000    10\n",
              " 17200000    10\n",
              " 7200000     10\n",
              " 17700000     9\n",
              " 18700000     9\n",
              " 15500000     9\n",
              " 15200000     9\n",
              " 15900000     9\n",
              " 17600000     9\n",
              " 16900000     9\n",
              " 13500000     9\n",
              " 10100000     9\n",
              " 15600000     9\n",
              " 12300000     9\n",
              " 12000000     9\n",
              " 18500000     8\n",
              " 12500000     8\n",
              " 22900000     8\n",
              " 15800000     8\n",
              " 20600000     8\n",
              " 14500000     8\n",
              " 17400000     8\n",
              " 15000000     8\n",
              " 22800000     8\n",
              " 16600000     8\n",
              " 18200000     7\n",
              " 13200000     7\n",
              " 23300000     7\n",
              " 19000000     7\n",
              " 16400000     7\n",
              " 12200000     7\n",
              " 10700000     7\n",
              " 18400000     7\n",
              " 18300000     7\n",
              " 23000000     7\n",
              " 16300000     7\n",
              " 19300000     6\n",
              " 14800000     6\n",
              " 20200000     6\n",
              " 22300000     6\n",
              " 20800000     6\n",
              " 24200000     6\n",
              " 25500000     6\n",
              " 19200000     6\n",
              " 16700000     6\n",
              " 17300000     6\n",
              " 21300000     6\n",
              " 14000000     6\n",
              " 19900000     6\n",
              " 22400000     6\n",
              " 23800000     6\n",
              " 18600000     6\n",
              " 14900000     5\n",
              " 21900000     5\n",
              " 18100000     5\n",
              " 20000000     5\n",
              " 17900000     5\n",
              " 19400000     5\n",
              " 23700000     5\n",
              " 22100000     5\n",
              " 24100000     4\n",
              " 22500000     4\n",
              " 21200000     4\n",
              " 21700000     4\n",
              " 23400000     4\n",
              " 20400000     4\n",
              " 16200000     4\n",
              " 25400000     4\n",
              " 20900000     4\n",
              " 24000000     4\n",
              " 19700000     4\n",
              " 24600000     4\n",
              " 22200000     4\n",
              " 20500000     4\n",
              " 19100000     4\n",
              " 21400000     4\n",
              " 20700000     3\n",
              " 23200000     3\n",
              " 24800000     3\n",
              " 19800000     3\n",
              " 24500000     3\n",
              " 17800000     3\n",
              " 24400000     3\n",
              " 26200000     3\n",
              " 21800000     3\n",
              " 22600000     3\n",
              " 25800000     3\n",
              " 21000000     3\n",
              " 18000000     3\n",
              " 22700000     3\n",
              " 17000000     3\n",
              " 24300000     3\n",
              " 25300000     3\n",
              " 23900000     2\n",
              " 26100000     2\n",
              " 24700000     2\n",
              " 25200000     2\n",
              " 28200000     2\n",
              " 24900000     2\n",
              " 27000000     2\n",
              " 19500000     2\n",
              " 27600000     2\n",
              " 21100000     2\n",
              " 28500000     2\n",
              " 25600000     2\n",
              " 25100000     2\n",
              " 17500000     2\n",
              " 23500000     2\n",
              " 26300000     2\n",
              " 21600000     2\n",
              " 25900000     2\n",
              " 28000000     1\n",
              " 26800000     1\n",
              " 28300000     1\n",
              " 20300000     1\n",
              " 25700000     1\n",
              " 28400000     1\n",
              " 20100000     1\n",
              " 26600000     1\n",
              " 27500000     1\n",
              " 26900000     1\n",
              " 28700000     1\n",
              " 29100000     1\n",
              " 18900000     1\n",
              " 25000000     1\n",
              " 27400000     1\n",
              " 23100000     1\n",
              " 27300000     1\n",
              "Name: residential_assets_value, dtype: int64"
            ]
          },
          "metadata": {},
          "execution_count": 18
        }
      ]
    },
    {
      "cell_type": "code",
      "source": [
        "# Get all commercial asset values and the count for each\n",
        "num_of_dependents = loan_df['commercial_assets_value'].value_counts()\n",
        "\n",
        "# Sort the count of commercial assets values in decsending order\n",
        "num_of_dependents.sort_values(ascending=False)"
      ],
      "metadata": {
        "colab": {
          "base_uri": "https://localhost:8080/"
        },
        "id": "BPz-60KmbJ00",
        "outputId": "d49f023b-a795-4b08-f3b9-a794eebea996"
      },
      "execution_count": 19,
      "outputs": [
        {
          "output_type": "execute_result",
          "data": {
            "text/plain": [
              "0           107\n",
              "200000      101\n",
              "100000      100\n",
              "300000       90\n",
              "500000       83\n",
              "800000       76\n",
              "700000       74\n",
              "400000       71\n",
              "600000       70\n",
              "1000000      67\n",
              "2200000      63\n",
              "1200000      63\n",
              "1300000      62\n",
              "2900000      60\n",
              "1100000      59\n",
              "2400000      56\n",
              "1500000      53\n",
              "1400000      52\n",
              "900000       52\n",
              "1800000      52\n",
              "1900000      50\n",
              "1600000      49\n",
              "2000000      46\n",
              "4000000      46\n",
              "2700000      46\n",
              "3700000      46\n",
              "2100000      45\n",
              "1700000      45\n",
              "2500000      43\n",
              "2600000      43\n",
              "2800000      42\n",
              "2300000      42\n",
              "3100000      41\n",
              "3500000      41\n",
              "3300000      40\n",
              "3400000      38\n",
              "4200000      37\n",
              "5100000      37\n",
              "3900000      37\n",
              "3800000      35\n",
              "4300000      34\n",
              "4500000      34\n",
              "5600000      32\n",
              "3000000      32\n",
              "4600000      31\n",
              "4800000      31\n",
              "5000000      31\n",
              "6100000      30\n",
              "3600000      30\n",
              "5200000      29\n",
              "6000000      28\n",
              "4700000      28\n",
              "5900000      27\n",
              "5300000      27\n",
              "4900000      27\n",
              "5500000      27\n",
              "4100000      27\n",
              "6600000      26\n",
              "7300000      26\n",
              "5700000      26\n",
              "7900000      25\n",
              "6400000      25\n",
              "9300000      25\n",
              "3200000      25\n",
              "8600000      24\n",
              "6200000      24\n",
              "7600000      23\n",
              "7000000      23\n",
              "6800000      23\n",
              "7500000      22\n",
              "5800000      22\n",
              "9500000      22\n",
              "6300000      22\n",
              "6700000      21\n",
              "8800000      21\n",
              "7100000      21\n",
              "10900000     20\n",
              "5400000      20\n",
              "4400000      20\n",
              "9100000      20\n",
              "7200000      20\n",
              "8900000      20\n",
              "8500000      19\n",
              "8200000      19\n",
              "8700000      19\n",
              "9400000      19\n",
              "12200000     18\n",
              "10800000     17\n",
              "9200000      17\n",
              "7400000      17\n",
              "6900000      17\n",
              "10700000     16\n",
              "8000000      16\n",
              "10000000     16\n",
              "9700000      16\n",
              "6500000      16\n",
              "9800000      16\n",
              "8100000      16\n",
              "10500000     15\n",
              "11400000     15\n",
              "9600000      15\n",
              "11800000     15\n",
              "8400000      15\n",
              "7700000      15\n",
              "10200000     15\n",
              "9900000      15\n",
              "11900000     14\n",
              "10400000     14\n",
              "12600000     14\n",
              "8300000      13\n",
              "13200000     13\n",
              "11500000     13\n",
              "7800000      13\n",
              "12700000     12\n",
              "10300000     12\n",
              "12100000     12\n",
              "11300000     11\n",
              "11200000     11\n",
              "10600000     11\n",
              "11000000     11\n",
              "13400000     11\n",
              "11600000     11\n",
              "16600000     10\n",
              "14800000     10\n",
              "14100000     10\n",
              "12300000     10\n",
              "12800000      9\n",
              "11700000      9\n",
              "10100000      9\n",
              "13600000      9\n",
              "14300000      9\n",
              "12400000      9\n",
              "12900000      8\n",
              "16500000      8\n",
              "9000000       8\n",
              "13700000      8\n",
              "12000000      8\n",
              "11100000      8\n",
              "13100000      8\n",
              "14900000      8\n",
              "15500000      7\n",
              "16000000      7\n",
              "13900000      7\n",
              "12500000      7\n",
              "16400000      7\n",
              "14600000      7\n",
              "16200000      7\n",
              "15600000      7\n",
              "13300000      6\n",
              "14400000      6\n",
              "15200000      6\n",
              "16100000      6\n",
              "15400000      6\n",
              "14500000      6\n",
              "13800000      5\n",
              "14700000      5\n",
              "13000000      5\n",
              "15300000      5\n",
              "17600000      5\n",
              "15900000      5\n",
              "15000000      4\n",
              "13500000      4\n",
              "15100000      4\n",
              "14000000      4\n",
              "16300000      4\n",
              "16700000      4\n",
              "18500000      4\n",
              "14200000      3\n",
              "17300000      3\n",
              "16900000      3\n",
              "17900000      3\n",
              "18400000      3\n",
              "19000000      3\n",
              "18800000      2\n",
              "17200000      2\n",
              "17800000      2\n",
              "17700000      2\n",
              "17000000      2\n",
              "15800000      2\n",
              "17500000      2\n",
              "18700000      1\n",
              "18200000      1\n",
              "16800000      1\n",
              "19400000      1\n",
              "18300000      1\n",
              "17400000      1\n",
              "15700000      1\n",
              "18900000      1\n",
              "Name: commercial_assets_value, dtype: int64"
            ]
          },
          "metadata": {},
          "execution_count": 19
        }
      ]
    },
    {
      "cell_type": "code",
      "source": [
        "# Get all luxury asset values and the count for each\n",
        "num_of_dependents = loan_df['luxury_assets_value'].value_counts()\n",
        "\n",
        "# Sort the count of luxury asset values in decsending order\n",
        "num_of_dependents.sort_values(ascending=False)"
      ],
      "metadata": {
        "colab": {
          "base_uri": "https://localhost:8080/"
        },
        "id": "i4klZm8EbKMG",
        "outputId": "3a98fd54-b4d4-40df-deb1-6169c9480a3d"
      },
      "execution_count": 20,
      "outputs": [
        {
          "output_type": "execute_result",
          "data": {
            "text/plain": [
              "6200000     26\n",
              "20400000    26\n",
              "2900000     26\n",
              "12300000    24\n",
              "14900000    24\n",
              "12000000    24\n",
              "7100000     23\n",
              "17200000    23\n",
              "14100000    22\n",
              "9900000     22\n",
              "13900000    22\n",
              "20700000    22\n",
              "19300000    21\n",
              "16400000    21\n",
              "12600000    21\n",
              "2200000     21\n",
              "6700000     20\n",
              "20000000    20\n",
              "10900000    20\n",
              "17100000    20\n",
              "8600000     20\n",
              "3700000     20\n",
              "7700000     20\n",
              "15600000    20\n",
              "1100000     19\n",
              "18800000    19\n",
              "20200000    19\n",
              "7300000     19\n",
              "11700000    19\n",
              "2100000     19\n",
              "19500000    19\n",
              "2000000     19\n",
              "13000000    19\n",
              "5400000     19\n",
              "16500000    19\n",
              "15100000    19\n",
              "6100000     19\n",
              "12200000    19\n",
              "8100000     18\n",
              "4300000     18\n",
              "14300000    18\n",
              "1900000     18\n",
              "4600000     18\n",
              "1800000     18\n",
              "5200000     18\n",
              "3500000     18\n",
              "17700000    18\n",
              "18500000    18\n",
              "4800000     18\n",
              "2300000     18\n",
              "21700000    17\n",
              "11600000    17\n",
              "5600000     17\n",
              "16700000    17\n",
              "21800000    17\n",
              "14600000    17\n",
              "16300000    17\n",
              "19900000    17\n",
              "6000000     17\n",
              "8200000     17\n",
              "7200000     17\n",
              "17300000    17\n",
              "7500000     17\n",
              "10300000    17\n",
              "22400000    17\n",
              "3200000     17\n",
              "11400000    17\n",
              "15200000    17\n",
              "8400000     17\n",
              "18300000    17\n",
              "10700000    17\n",
              "18900000    16\n",
              "21100000    16\n",
              "20100000    16\n",
              "4400000     16\n",
              "27400000    16\n",
              "7600000     16\n",
              "14700000    16\n",
              "19800000    16\n",
              "12100000    16\n",
              "3800000     16\n",
              "18200000    16\n",
              "12900000    16\n",
              "8500000     16\n",
              "18000000    16\n",
              "9600000     16\n",
              "24500000    16\n",
              "9200000     16\n",
              "18100000    16\n",
              "23800000    16\n",
              "800000      16\n",
              "20500000    16\n",
              "12700000    16\n",
              "11100000    16\n",
              "9500000     16\n",
              "14000000    16\n",
              "1200000     16\n",
              "8800000     16\n",
              "10400000    16\n",
              "10200000    16\n",
              "20600000    15\n",
              "5500000     15\n",
              "19400000    15\n",
              "12400000    15\n",
              "1400000     15\n",
              "24300000    15\n",
              "4500000     15\n",
              "14400000    15\n",
              "10000000    15\n",
              "15500000    15\n",
              "16900000    15\n",
              "9100000     15\n",
              "23700000    15\n",
              "10500000    15\n",
              "22000000    15\n",
              "9000000     15\n",
              "6500000     15\n",
              "23000000    15\n",
              "14800000    15\n",
              "5800000     15\n",
              "23500000    15\n",
              "13200000    15\n",
              "19600000    15\n",
              "28500000    14\n",
              "23600000    14\n",
              "700000      14\n",
              "15300000    14\n",
              "16200000    14\n",
              "11000000    14\n",
              "15700000    14\n",
              "9400000     14\n",
              "1600000     14\n",
              "3900000     14\n",
              "600000      14\n",
              "22200000    14\n",
              "21000000    14\n",
              "4100000     14\n",
              "5700000     14\n",
              "8900000     14\n",
              "4900000     14\n",
              "11900000    14\n",
              "6300000     14\n",
              "18700000    14\n",
              "1500000     14\n",
              "6400000     14\n",
              "14200000    14\n",
              "500000      14\n",
              "15400000    14\n",
              "16100000    14\n",
              "26400000    13\n",
              "17600000    13\n",
              "2600000     13\n",
              "8300000     13\n",
              "16000000    13\n",
              "3100000     13\n",
              "8000000     13\n",
              "13700000    13\n",
              "17900000    13\n",
              "900000      13\n",
              "20800000    13\n",
              "23200000    13\n",
              "23400000    13\n",
              "17000000    13\n",
              "5300000     13\n",
              "18600000    13\n",
              "9700000     13\n",
              "2800000     13\n",
              "22900000    13\n",
              "10100000    13\n",
              "21400000    13\n",
              "10600000    13\n",
              "27100000    13\n",
              "20300000    13\n",
              "4700000     13\n",
              "14500000    13\n",
              "1700000     13\n",
              "3000000     13\n",
              "15000000    13\n",
              "11200000    13\n",
              "13100000    13\n",
              "19200000    12\n",
              "24400000    12\n",
              "11800000    12\n",
              "5000000     12\n",
              "13600000    12\n",
              "27000000    12\n",
              "17800000    12\n",
              "3300000     12\n",
              "25300000    12\n",
              "26000000    12\n",
              "5900000     12\n",
              "5100000     12\n",
              "4000000     12\n",
              "24700000    12\n",
              "18400000    12\n",
              "26800000    12\n",
              "15800000    12\n",
              "26900000    12\n",
              "6600000     12\n",
              "13400000    12\n",
              "23300000    11\n",
              "12800000    11\n",
              "7400000     11\n",
              "6800000     11\n",
              "2700000     11\n",
              "23100000    11\n",
              "27500000    11\n",
              "23900000    11\n",
              "4200000     11\n",
              "19700000    11\n",
              "25900000    11\n",
              "12500000    11\n",
              "17400000    11\n",
              "22300000    11\n",
              "21500000    11\n",
              "2400000     11\n",
              "22500000    11\n",
              "26100000    11\n",
              "21200000    10\n",
              "17500000    10\n",
              "3600000     10\n",
              "8700000     10\n",
              "31800000    10\n",
              "21900000    10\n",
              "400000      10\n",
              "21300000    10\n",
              "22800000    10\n",
              "29300000    10\n",
              "19100000    10\n",
              "25000000    10\n",
              "29100000    10\n",
              "1300000     10\n",
              "24100000    10\n",
              "10800000    10\n",
              "11500000    10\n",
              "3400000     10\n",
              "7800000     10\n",
              "16800000     9\n",
              "25100000     9\n",
              "9800000      9\n",
              "20900000     9\n",
              "21600000     9\n",
              "30800000     9\n",
              "11300000     9\n",
              "22600000     9\n",
              "25200000     9\n",
              "9300000      9\n",
              "27700000     9\n",
              "24800000     9\n",
              "16600000     9\n",
              "7000000      9\n",
              "25500000     8\n",
              "13500000     8\n",
              "7900000      8\n",
              "1000000      8\n",
              "25800000     8\n",
              "22100000     8\n",
              "15900000     8\n",
              "19000000     8\n",
              "29000000     8\n",
              "13800000     8\n",
              "26600000     8\n",
              "6900000      8\n",
              "31100000     8\n",
              "13300000     8\n",
              "30200000     7\n",
              "24900000     7\n",
              "32700000     7\n",
              "28800000     7\n",
              "27800000     7\n",
              "29900000     7\n",
              "25700000     7\n",
              "26500000     7\n",
              "25400000     7\n",
              "2500000      7\n",
              "26700000     7\n",
              "30000000     7\n",
              "28900000     7\n",
              "24000000     7\n",
              "32100000     6\n",
              "32000000     6\n",
              "26300000     6\n",
              "28600000     6\n",
              "29400000     6\n",
              "30500000     6\n",
              "31600000     6\n",
              "28200000     6\n",
              "29500000     6\n",
              "33800000     6\n",
              "30300000     6\n",
              "27200000     6\n",
              "24600000     6\n",
              "29200000     6\n",
              "28700000     6\n",
              "27300000     6\n",
              "28100000     6\n",
              "29600000     6\n",
              "29800000     6\n",
              "22700000     6\n",
              "28400000     6\n",
              "33000000     5\n",
              "31700000     5\n",
              "31900000     5\n",
              "32400000     5\n",
              "31400000     5\n",
              "34900000     5\n",
              "27900000     5\n",
              "35800000     5\n",
              "33300000     5\n",
              "27600000     5\n",
              "32200000     5\n",
              "30600000     5\n",
              "38100000     5\n",
              "26200000     5\n",
              "34700000     5\n",
              "31300000     5\n",
              "31500000     5\n",
              "24200000     5\n",
              "32600000     4\n",
              "30900000     4\n",
              "34500000     4\n",
              "33500000     4\n",
              "30100000     4\n",
              "300000       4\n",
              "32800000     4\n",
              "38200000     4\n",
              "34100000     4\n",
              "33600000     4\n",
              "37000000     4\n",
              "25600000     4\n",
              "28000000     4\n",
              "33700000     4\n",
              "33200000     3\n",
              "29700000     3\n",
              "35500000     3\n",
              "35700000     3\n",
              "33900000     3\n",
              "32500000     3\n",
              "35400000     3\n",
              "30400000     3\n",
              "37300000     3\n",
              "31000000     3\n",
              "35600000     3\n",
              "36900000     2\n",
              "33100000     2\n",
              "31200000     2\n",
              "37800000     2\n",
              "34600000     2\n",
              "37200000     2\n",
              "36100000     2\n",
              "35100000     2\n",
              "38600000     2\n",
              "36500000     2\n",
              "36400000     2\n",
              "37900000     2\n",
              "34400000     2\n",
              "33400000     2\n",
              "30700000     2\n",
              "35900000     2\n",
              "34800000     2\n",
              "37600000     2\n",
              "34000000     2\n",
              "32900000     2\n",
              "28300000     2\n",
              "36000000     1\n",
              "34300000     1\n",
              "39200000     1\n",
              "37700000     1\n",
              "39100000     1\n",
              "37400000     1\n",
              "32300000     1\n",
              "34200000     1\n",
              "36600000     1\n",
              "36800000     1\n",
              "38000000     1\n",
              "36200000     1\n",
              "35000000     1\n",
              "35300000     1\n",
              "36700000     1\n",
              "Name: luxury_assets_value, dtype: int64"
            ]
          },
          "metadata": {},
          "execution_count": 20
        }
      ]
    },
    {
      "cell_type": "code",
      "source": [
        "# Get all bank asset values and the count for each\n",
        "num_of_dependents = loan_df['bank_asset_value'].value_counts()\n",
        "\n",
        "# Sort the count of bank asset values in decsending order\n",
        "num_of_dependents.sort_values(ascending=False)"
      ],
      "metadata": {
        "colab": {
          "base_uri": "https://localhost:8080/"
        },
        "id": "VTllixvLbKq3",
        "outputId": "61b6a606-c543-4aa4-a3dd-5ef11337924d"
      },
      "execution_count": 21,
      "outputs": [
        {
          "output_type": "execute_result",
          "data": {
            "text/plain": [
              "1400000     63\n",
              "3600000     63\n",
              "4900000     63\n",
              "4500000     61\n",
              "1600000     60\n",
              "5400000     59\n",
              "900000      58\n",
              "1300000     57\n",
              "1500000     54\n",
              "3400000     54\n",
              "200000      54\n",
              "4100000     54\n",
              "2400000     54\n",
              "3300000     53\n",
              "5500000     52\n",
              "2000000     52\n",
              "4800000     52\n",
              "4200000     51\n",
              "2900000     51\n",
              "400000      50\n",
              "600000      50\n",
              "300000      50\n",
              "3100000     50\n",
              "4700000     50\n",
              "2700000     49\n",
              "3000000     49\n",
              "2100000     48\n",
              "5300000     48\n",
              "3900000     48\n",
              "2800000     47\n",
              "2600000     47\n",
              "5800000     47\n",
              "4300000     47\n",
              "4000000     46\n",
              "3500000     46\n",
              "1700000     46\n",
              "7200000     46\n",
              "6100000     45\n",
              "6600000     44\n",
              "5700000     44\n",
              "1100000     43\n",
              "5200000     43\n",
              "4400000     42\n",
              "700000      42\n",
              "3200000     41\n",
              "6000000     41\n",
              "5600000     41\n",
              "5900000     41\n",
              "3800000     41\n",
              "1900000     41\n",
              "500000      40\n",
              "2300000     40\n",
              "800000      39\n",
              "7000000     39\n",
              "6800000     38\n",
              "6200000     38\n",
              "4600000     37\n",
              "2200000     37\n",
              "3700000     37\n",
              "1800000     36\n",
              "6700000     36\n",
              "1200000     36\n",
              "6400000     36\n",
              "5000000     35\n",
              "5100000     34\n",
              "7500000     34\n",
              "6300000     34\n",
              "1000000     34\n",
              "2500000     33\n",
              "8200000     33\n",
              "6500000     32\n",
              "7100000     32\n",
              "100000      31\n",
              "7400000     30\n",
              "7600000     30\n",
              "8000000     29\n",
              "9600000     28\n",
              "8500000     27\n",
              "8400000     26\n",
              "7800000     25\n",
              "7300000     24\n",
              "7900000     24\n",
              "9400000     24\n",
              "7700000     23\n",
              "9100000     23\n",
              "6900000     23\n",
              "8800000     22\n",
              "8700000     22\n",
              "9300000     22\n",
              "9200000     21\n",
              "9000000     21\n",
              "8600000     21\n",
              "9900000     20\n",
              "9800000     18\n",
              "9500000     18\n",
              "10000000    17\n",
              "10900000    16\n",
              "11100000    16\n",
              "8100000     16\n",
              "10400000    16\n",
              "10800000    16\n",
              "8900000     16\n",
              "8300000     16\n",
              "10600000    15\n",
              "10700000    15\n",
              "11900000    14\n",
              "11400000    14\n",
              "10500000    14\n",
              "9700000     14\n",
              "10200000    13\n",
              "11700000    13\n",
              "11000000    13\n",
              "11500000    12\n",
              "10300000    12\n",
              "11200000    11\n",
              "11300000    11\n",
              "12000000    10\n",
              "12200000     9\n",
              "10100000     9\n",
              "12400000     9\n",
              "0            8\n",
              "12700000     8\n",
              "12100000     8\n",
              "11600000     7\n",
              "12500000     7\n",
              "12800000     6\n",
              "13100000     6\n",
              "13200000     6\n",
              "11800000     6\n",
              "13000000     5\n",
              "12300000     5\n",
              "12900000     5\n",
              "13900000     4\n",
              "13500000     4\n",
              "13400000     4\n",
              "13300000     3\n",
              "14100000     3\n",
              "14000000     3\n",
              "13600000     3\n",
              "14700000     2\n",
              "13800000     2\n",
              "14600000     2\n",
              "14200000     2\n",
              "14400000     1\n",
              "14300000     1\n",
              "13700000     1\n",
              "Name: bank_asset_value, dtype: int64"
            ]
          },
          "metadata": {},
          "execution_count": 21
        }
      ]
    },
    {
      "cell_type": "code",
      "source": [
        "# Get all loan statuses and the count for each\n",
        "num_of_dependents = loan_df['loan_status'].value_counts()\n",
        "\n",
        "# Sort the count of loan statuses in decsending order\n",
        "num_of_dependents.sort_values(ascending=False)"
      ],
      "metadata": {
        "colab": {
          "base_uri": "https://localhost:8080/"
        },
        "id": "GLmbb2uPbLFj",
        "outputId": "532e076f-4127-493b-dec0-af2529d21f9f"
      },
      "execution_count": 22,
      "outputs": [
        {
          "output_type": "execute_result",
          "data": {
            "text/plain": [
              " Approved    2656\n",
              " Rejected    1613\n",
              "Name: loan_status, dtype: int64"
            ]
          },
          "metadata": {},
          "execution_count": 22
        }
      ]
    },
    {
      "cell_type": "markdown",
      "source": [
        "## Remove Outliers from Columns"
      ],
      "metadata": {
        "id": "MYUzWeeqfWd5"
      }
    },
    {
      "cell_type": "code",
      "source": [
        "loan_df.shape"
      ],
      "metadata": {
        "colab": {
          "base_uri": "https://localhost:8080/"
        },
        "id": "4_Nq-RtNeOUm",
        "outputId": "a9eac1cb-6cc2-4af1-f9a6-6ead5dc3b2d5"
      },
      "execution_count": 23,
      "outputs": [
        {
          "output_type": "execute_result",
          "data": {
            "text/plain": [
              "(4269, 13)"
            ]
          },
          "metadata": {},
          "execution_count": 23
        }
      ]
    },
    {
      "cell_type": "code",
      "source": [
        "# Create a function to remove outliers from one column in a dataframe based on iqr\n",
        "def remove_outliers(column, dataframe):\n",
        "  quartile1 = dataframe[column].quantile(0.25)\n",
        "  quartile3 = dataframe[column].quantile(0.75)\n",
        "  iqr = quartile3 - quartile1\n",
        "  lower_bound = quartile1 - 1.5 * iqr\n",
        "  upper_bound = quartile3 + 1.5 * iqr\n",
        "  removed_outliers_df = dataframe[(dataframe[column] >= lower_bound)\n",
        "          & (dataframe[column] <= upper_bound)]\n",
        "  print(dataframe.shape)\n",
        "  return removed_outliers_df"
      ],
      "metadata": {
        "id": "fIfBDE7Kd-jM"
      },
      "execution_count": 24,
      "outputs": []
    },
    {
      "cell_type": "code",
      "source": [
        "# Remove outliers from annual incomes\n",
        "loan_df = remove_outliers(\"income_annum\", loan_df)"
      ],
      "metadata": {
        "colab": {
          "base_uri": "https://localhost:8080/"
        },
        "id": "5wQVzgoEe2jt",
        "outputId": "056d830b-2458-4d55-fd08-a321a5676f8d"
      },
      "execution_count": 25,
      "outputs": [
        {
          "output_type": "stream",
          "name": "stdout",
          "text": [
            "(4269, 13)\n"
          ]
        }
      ]
    },
    {
      "cell_type": "code",
      "source": [
        "# Remove outliers from loan amounts\n",
        "loan_df = remove_outliers(\"loan_amount\", loan_df)"
      ],
      "metadata": {
        "colab": {
          "base_uri": "https://localhost:8080/"
        },
        "id": "talvb3OPfNpo",
        "outputId": "5c7dd0eb-431a-479a-f2d6-c5eea73f32d1"
      },
      "execution_count": 26,
      "outputs": [
        {
          "output_type": "stream",
          "name": "stdout",
          "text": [
            "(4269, 13)\n"
          ]
        }
      ]
    },
    {
      "cell_type": "code",
      "source": [
        "# Remove outliers from cibil scores\n",
        "loan_df = remove_outliers(\"cibil_score\", loan_df)"
      ],
      "metadata": {
        "colab": {
          "base_uri": "https://localhost:8080/"
        },
        "id": "EJ9VANAlfkfb",
        "outputId": "7ab40416-a7e4-4619-d9a1-ec3744c97f05"
      },
      "execution_count": 27,
      "outputs": [
        {
          "output_type": "stream",
          "name": "stdout",
          "text": [
            "(4269, 13)\n"
          ]
        }
      ]
    },
    {
      "cell_type": "code",
      "source": [
        "# Remove outliers from residential asset values\n",
        "loan_df = remove_outliers(\"residential_assets_value\", loan_df)"
      ],
      "metadata": {
        "colab": {
          "base_uri": "https://localhost:8080/"
        },
        "id": "vlrSKh-Sfo7B",
        "outputId": "2471482e-f528-4ae7-aa83-29f24185e76d"
      },
      "execution_count": 28,
      "outputs": [
        {
          "output_type": "stream",
          "name": "stdout",
          "text": [
            "(4269, 13)\n"
          ]
        }
      ]
    },
    {
      "cell_type": "code",
      "source": [
        "# Remove outliers from commercial asset values\n",
        "loan_df = remove_outliers(\"commercial_assets_value\", loan_df)"
      ],
      "metadata": {
        "colab": {
          "base_uri": "https://localhost:8080/"
        },
        "id": "PvYPVY1qgBrw",
        "outputId": "ac2aaa41-edad-4860-c24b-07cbbc7d8151"
      },
      "execution_count": 29,
      "outputs": [
        {
          "output_type": "stream",
          "name": "stdout",
          "text": [
            "(4217, 13)\n"
          ]
        }
      ]
    },
    {
      "cell_type": "code",
      "source": [
        "# Remove outliers from luxury asset values\n",
        "loan_df = remove_outliers(\"luxury_assets_value\", loan_df)"
      ],
      "metadata": {
        "colab": {
          "base_uri": "https://localhost:8080/"
        },
        "id": "bI2lY3GggFxF",
        "outputId": "3b48919b-195d-4de1-9a47-43bded72ccae"
      },
      "execution_count": 30,
      "outputs": [
        {
          "output_type": "stream",
          "name": "stdout",
          "text": [
            "(4182, 13)\n"
          ]
        }
      ]
    },
    {
      "cell_type": "code",
      "source": [
        "# Remove outliers from bank asset values\n",
        "loan_df = remove_outliers(\"bank_asset_value\", loan_df)"
      ],
      "metadata": {
        "colab": {
          "base_uri": "https://localhost:8080/"
        },
        "id": "fZ9RG6J8gUdN",
        "outputId": "ccb29c05-5bc8-400f-bc05-6210018754f1"
      },
      "execution_count": 31,
      "outputs": [
        {
          "output_type": "stream",
          "name": "stdout",
          "text": [
            "(4182, 13)\n"
          ]
        }
      ]
    },
    {
      "cell_type": "markdown",
      "source": [
        "## **Exploratory Data Analysis**"
      ],
      "metadata": {
        "id": "auU7ptvnhYis"
      }
    },
    {
      "cell_type": "markdown",
      "source": [
        "## Visualize the Data"
      ],
      "metadata": {
        "id": "iNyuAqIVOZYp"
      }
    },
    {
      "cell_type": "markdown",
      "source": [
        "Number of Dependents\n",
        "\n"
      ],
      "metadata": {
        "id": "02zjvcitTY8O"
      }
    },
    {
      "cell_type": "code",
      "source": [
        "# Create a crosstab for number of dependents and loan status\n",
        "dependent_crosstab = pd.crosstab(loan_df[\"no_of_dependents\"], loan_df[\"loan_status\"])\n",
        "\n",
        "# Display the bar chart\n",
        "dependent_crosstab.plot(kind = \"bar\", stacked = True, color = [\"green\", \"red\"])\n",
        "plt.legend(title = \"Loan Status\")\n",
        "plt.title(\"Bar Chart for Number of Dependents and Loan Status\")\n",
        "plt.xlabel(\"Number of Dependents\")\n",
        "plt.ylabel(\"Count\")\n",
        "plt.show()"
      ],
      "metadata": {
        "colab": {
          "base_uri": "https://localhost:8080/",
          "height": 467
        },
        "id": "f6qXtBT9Rdju",
        "outputId": "60398d7b-b47e-4487-f3ec-6cf3b684acd3"
      },
      "execution_count": 32,
      "outputs": [
        {
          "output_type": "display_data",
          "data": {
            "text/plain": [
              "<Figure size 640x480 with 1 Axes>"
            ],
            "image/png": "[encoded data removed]"
          },
          "metadata": {}
        }
      ]
    },
    {
      "cell_type": "code",
      "source": [
        "# Create boxplots for loan amount considering number of dependents\n",
        "sns.boxplot(data = loan_df, x = 'no_of_dependents', y = 'loan_amount', color = \"green\")\n",
        "plt.xticks(rotation = 90)\n",
        "plt.title(\"Boxplot of Loan Amount to Number of Dependents\")\n",
        "plt.xlabel(\"Number of Dependents\")\n",
        "plt.ylabel(\"Loan Amount by Million\")\n",
        "plt.show()"
      ],
      "metadata": {
        "colab": {
          "base_uri": "https://localhost:8080/",
          "height": 467
        },
        "id": "QJbXZZAsajwk",
        "outputId": "6f527868-9708-47dd-805c-3ea2552ff3ff"
      },
      "execution_count": 33,
      "outputs": [
        {
          "output_type": "display_data",
          "data": {
            "text/plain": [
              "<Figure size 640x480 with 1 Axes>"
            ],
            "image/png": "[encoded data removed]"
          },
          "metadata": {}
        }
      ]
    },
    {
      "cell_type": "markdown",
      "source": [
        "Eduction Level"
      ],
      "metadata": {
        "id": "j9AOGMk1Tl7Y"
      }
    },
    {
      "cell_type": "code",
      "source": [
        "# Create a crosstab for education level and loan status\n",
        "dependent_crosstab = pd.crosstab(loan_df[\"education\"], loan_df[\"loan_status\"])\n",
        "\n",
        "# Display the bar chart\n",
        "dependent_crosstab.plot(kind = \"bar\", stacked = True, color = [\"blue\", \"red\"])\n",
        "plt.legend(title = \"Loan Status\")\n",
        "plt.title(\"Bar Chart for Education Level and Loan Status\")\n",
        "plt.xlabel(\"Education Level\")\n",
        "plt.ylabel(\"Count\")\n",
        "plt.show()"
      ],
      "metadata": {
        "colab": {
          "base_uri": "https://localhost:8080/",
          "height": 556
        },
        "id": "IyRgetqaTXa-",
        "outputId": "cb545ff1-c55b-4e99-8e38-0be0c276040f"
      },
      "execution_count": 34,
      "outputs": [
        {
          "output_type": "display_data",
          "data": {
            "text/plain": [
              "<Figure size 640x480 with 1 Axes>"
            ],
            "image/png": "[encoded data removed]"
          },
          "metadata": {}
        }
      ]
    },
    {
      "cell_type": "code",
      "source": [
        "# Create boxplots for loan amount considering education level\n",
        "sns.boxplot(data = loan_df, x = 'education', y = 'loan_amount', color = \"blue\")\n",
        "plt.xticks(rotation = 90)\n",
        "plt.title(\"Boxplot of Loan Amount to Education Level\")\n",
        "plt.xlabel(\"Education Level\")\n",
        "plt.ylabel(\"Loan Amount by Million\")\n",
        "plt.show()"
      ],
      "metadata": {
        "colab": {
          "base_uri": "https://localhost:8080/",
          "height": 556
        },
        "id": "7vIpdl2XZDVw",
        "outputId": "baa9503c-e23a-4aea-bce8-21eaed7a480b"
      },
      "execution_count": 35,
      "outputs": [
        {
          "output_type": "display_data",
          "data": {
            "text/plain": [
              "<Figure size 640x480 with 1 Axes>"
            ],
            "image/png": "[encoded data removed]"
          },
          "metadata": {}
        }
      ]
    },
    {
      "cell_type": "markdown",
      "source": [
        "Self Employment Status"
      ],
      "metadata": {
        "id": "7c8_0bH2UBVz"
      }
    },
    {
      "cell_type": "code",
      "source": [
        "# Create a crosstab for self employment status and loan status\n",
        "dependent_crosstab = pd.crosstab(loan_df[\"self_employed\"], loan_df[\"loan_status\"])\n",
        "\n",
        "# Create a bar chart\n",
        "dependent_crosstab.plot(kind = \"bar\", stacked = True, color = [\"purple\", \"red\"])\n",
        "plt.legend(title = \"Loan Status\")\n",
        "plt.title(\"Bar Chart for Self Employment Status and Loan Status\")\n",
        "plt.xlabel(\"Self Employment Status\")\n",
        "plt.ylabel(\"Count\")\n",
        "plt.show()"
      ],
      "metadata": {
        "colab": {
          "base_uri": "https://localhost:8080/",
          "height": 484
        },
        "id": "c0OjV9WZUsGY",
        "outputId": "239a878a-cd10-4b07-e93a-51437c5a48aa"
      },
      "execution_count": 36,
      "outputs": [
        {
          "output_type": "display_data",
          "data": {
            "text/plain": [
              "<Figure size 640x480 with 1 Axes>"
            ],
            "image/png": "[encoded data removed]"
          },
          "metadata": {}
        }
      ]
    },
    {
      "cell_type": "code",
      "source": [
        "# Create boxplots for loan amount considering self employment status\n",
        "sns.boxplot(data = loan_df, x = 'self_employed', y = 'loan_amount', color = \"purple\")\n",
        "plt.xticks(rotation = 90)\n",
        "plt.title(\"Boxplot of Loan Amount to Self Employment Status\")\n",
        "plt.xlabel(\"Self Employment Status\")\n",
        "plt.ylabel(\"Loan Amount by Million\")\n",
        "plt.show()"
      ],
      "metadata": {
        "colab": {
          "base_uri": "https://localhost:8080/",
          "height": 484
        },
        "id": "pAQJfTyiYw5A",
        "outputId": "33e6b098-2b66-4281-8fea-1927204590e9"
      },
      "execution_count": 37,
      "outputs": [
        {
          "output_type": "display_data",
          "data": {
            "text/plain": [
              "<Figure size 640x480 with 1 Axes>"
            ],
            "image/png": "[encoded data removed]"
          },
          "metadata": {}
        }
      ]
    },
    {
      "cell_type": "markdown",
      "source": [
        "Requested Loan Amount"
      ],
      "metadata": {
        "id": "67GexBNEWbHm"
      }
    },
    {
      "cell_type": "code",
      "source": [
        "# Create a histogram for requested loan amount\n",
        "plt.hist(data = loan_df, x = \"loan_amount\", bins = 'auto', color = \"coral\")\n",
        "plt.xticks(rotation = 90)\n",
        "plt.title(\"Histogram of Requested Loan Amount by Million\")\n",
        "plt.xlabel(\"Loan Amount\")\n",
        "plt.ylabel(\"Count\")\n",
        "plt.show()"
      ],
      "metadata": {
        "colab": {
          "base_uri": "https://localhost:8080/",
          "height": 480
        },
        "id": "0ryRU5bJWhiR",
        "outputId": "2baf9382-9723-4e70-e3cc-4aae4287b686"
      },
      "execution_count": 38,
      "outputs": [
        {
          "output_type": "display_data",
          "data": {
            "text/plain": [
              "<Figure size 640x480 with 1 Axes>"
            ],
            "image/png": "[encoded data removed]"
          },
          "metadata": {}
        }
      ]
    },
    {
      "cell_type": "code",
      "source": [
        "# Create a boxplot for total compensation with removed outliers\n",
        "sns.set(style = 'darkgrid')\n",
        "sns.boxplot(y = loan_df['loan_amount'], color = 'coral')\n",
        "plt.title(\"Box Plot of Requested Loan Amount\")\n",
        "plt.xlabel(\"Observation\")\n",
        "plt.ylabel(\"Loan Amount by Million\")"
      ],
      "metadata": {
        "colab": {
          "base_uri": "https://localhost:8080/",
          "height": 483
        },
        "id": "B9f9ta8oW9cG",
        "outputId": "d22b4ab0-3e49-4727-d7c4-b2a79172a7ce"
      },
      "execution_count": 39,
      "outputs": [
        {
          "output_type": "execute_result",
          "data": {
            "text/plain": [
              "Text(0, 0.5, 'Loan Amount by Million')"
            ]
          },
          "metadata": {},
          "execution_count": 39
        },
        {
          "output_type": "display_data",
          "data": {
            "text/plain": [
              "<Figure size 640x480 with 1 Axes>"
            ],
            "image/png": "[encoded data removed]"
          },
          "metadata": {}
        }
      ]
    },
    {
      "cell_type": "code",
      "source": [
        "# Create boxplots for loan status considering loan amount\n",
        "sns.boxplot(data = loan_df, x = 'loan_status', y = 'loan_amount', color = \"coral\")\n",
        "plt.xticks(rotation = 90)\n",
        "plt.title(\"Boxplot of Loan Amount to Loan Status\")\n",
        "plt.xlabel(\"Loan Status\")\n",
        "plt.ylabel(\"Loan Amount by Million\")\n",
        "plt.show()"
      ],
      "metadata": {
        "colab": {
          "base_uri": "https://localhost:8080/",
          "height": 544
        },
        "id": "9vfRFBKZdzpI",
        "outputId": "551ec773-d5b0-4d54-a918-56473290e1bd"
      },
      "execution_count": 40,
      "outputs": [
        {
          "output_type": "display_data",
          "data": {
            "text/plain": [
              "<Figure size 640x480 with 1 Axes>"
            ],
            "image/png": "[encoded data removed]"
          },
          "metadata": {}
        }
      ]
    },
    {
      "cell_type": "markdown",
      "source": [
        "Annual Income"
      ],
      "metadata": {
        "id": "NWg7HjWnU_yl"
      }
    },
    {
      "cell_type": "code",
      "source": [
        "# Create a histogram for annual income\n",
        "plt.hist(data = loan_df, x = \"income_annum\", bins = 'auto', color = \"orange\")\n",
        "plt.xticks(rotation = 90)\n",
        "plt.title(\"Histogram of Annual Income by Million\")\n",
        "plt.xlabel(\"Annual Income\")\n",
        "plt.ylabel(\"Count\")\n",
        "plt.show()"
      ],
      "metadata": {
        "colab": {
          "base_uri": "https://localhost:8080/",
          "height": 489
        },
        "id": "9hP1o4_MVBTb",
        "outputId": "653a6e9b-3422-440e-c9e4-68d812a26a92"
      },
      "execution_count": 41,
      "outputs": [
        {
          "output_type": "display_data",
          "data": {
            "text/plain": [
              "<Figure size 640x480 with 1 Axes>"
            ],
            "image/png": "[encoded data removed]"
          },
          "metadata": {}
        }
      ]
    },
    {
      "cell_type": "code",
      "source": [
        "# Create a boxplot for total compensation\n",
        "sns.set(style = 'darkgrid')\n",
        "sns.boxplot(y = loan_df['income_annum'], color = 'orange')\n",
        "plt.title(\"Box Plot of Total Compensation\")\n",
        "plt.xlabel(\"Observation\")\n",
        "plt.ylabel(\"Total Compensation\")"
      ],
      "metadata": {
        "colab": {
          "base_uri": "https://localhost:8080/",
          "height": 483
        },
        "id": "pMFY6LMTVvGc",
        "outputId": "5bfbd6b9-8ddd-4aba-a863-dec8c7e6b868"
      },
      "execution_count": 42,
      "outputs": [
        {
          "output_type": "execute_result",
          "data": {
            "text/plain": [
              "Text(0, 0.5, 'Total Compensation')"
            ]
          },
          "metadata": {},
          "execution_count": 42
        },
        {
          "output_type": "display_data",
          "data": {
            "text/plain": [
              "<Figure size 640x480 with 1 Axes>"
            ],
            "image/png": "[encoded data removed]"
          },
          "metadata": {}
        }
      ]
    },
    {
      "cell_type": "code",
      "source": [
        "# Create boxplots for loan amount considering annual income\n",
        "sns.boxplot(data = loan_df, x = 'loan_status', y = 'income_annum', color = \"orange\")\n",
        "plt.xticks(rotation = 90)\n",
        "plt.title(\"Boxplot of Loan Amount to Annual Income\")\n",
        "plt.xlabel(\"Loan Status\")\n",
        "plt.ylabel(\"Annual Income by Million\")\n",
        "plt.show()"
      ],
      "metadata": {
        "colab": {
          "base_uri": "https://localhost:8080/",
          "height": 544
        },
        "id": "JVqm_g-3Yjme",
        "outputId": "6fe8245b-5d30-4a4d-d65e-a54f6e7db4c9"
      },
      "execution_count": 43,
      "outputs": [
        {
          "output_type": "display_data",
          "data": {
            "text/plain": [
              "<Figure size 640x480 with 1 Axes>"
            ],
            "image/png": "[encoded data removed]"
          },
          "metadata": {}
        }
      ]
    },
    {
      "cell_type": "markdown",
      "source": [
        "Loan Term"
      ],
      "metadata": {
        "id": "_CtpCNxHa9Xv"
      }
    },
    {
      "cell_type": "code",
      "source": [
        "# Create a crosstab for self employment status and loan status\n",
        "dependent_crosstab = pd.crosstab(loan_df[\"loan_term\"], loan_df[\"loan_status\"])\n",
        "\n",
        "# Create a bar chart\n",
        "dependent_crosstab.plot(kind = \"bar\", stacked = True, color = [\"teal\", \"red\"])\n",
        "plt.legend(title = \"Loan Status\")\n",
        "plt.title(\"Bar Chart for Loan Term and Loan Status\")\n",
        "plt.xlabel(\"Loan Term (Years)\")\n",
        "plt.ylabel(\"Count\")\n",
        "plt.show()"
      ],
      "metadata": {
        "colab": {
          "base_uri": "https://localhost:8080/",
          "height": 485
        },
        "id": "TrqUhJq7a-55",
        "outputId": "4c55a82a-6ce1-4c6b-8748-26bae607f7b8"
      },
      "execution_count": 44,
      "outputs": [
        {
          "output_type": "display_data",
          "data": {
            "text/plain": [
              "<Figure size 640x480 with 1 Axes>"
            ],
            "image/png": "[encoded data removed]"
          },
          "metadata": {}
        }
      ]
    },
    {
      "cell_type": "code",
      "source": [
        "# Create boxplots for loan amount considering loan term\n",
        "sns.boxplot(data = loan_df, x = 'loan_status', y = 'loan_term', color = \"teal\")\n",
        "plt.xticks(rotation = 90)\n",
        "plt.title(\"Boxplot of Loan Amount to Loan Term\")\n",
        "plt.xlabel(\"Loan Status\")\n",
        "plt.ylabel(\"Loan Term (Years)\")\n",
        "plt.show()"
      ],
      "metadata": {
        "colab": {
          "base_uri": "https://localhost:8080/",
          "height": 544
        },
        "id": "dmHX3p84blGC",
        "outputId": "eb0fb980-ea1d-4bc5-94aa-b9657b4f0e02"
      },
      "execution_count": 45,
      "outputs": [
        {
          "output_type": "display_data",
          "data": {
            "text/plain": [
              "<Figure size 640x480 with 1 Axes>"
            ],
            "image/png": "[encoded data removed]"
          },
          "metadata": {}
        }
      ]
    },
    {
      "cell_type": "markdown",
      "source": [
        "Cibil Scores"
      ],
      "metadata": {
        "id": "jb_WM2EScGi8"
      }
    },
    {
      "cell_type": "code",
      "source": [
        "# Create a histogram for cibil scores\n",
        "plt.hist(data = loan_df, x = \"cibil_score\", bins = 'auto', color = \"orchid\")\n",
        "plt.xticks(rotation = 90)\n",
        "plt.title(\"Histogram of Cibil Scores\")\n",
        "plt.xlabel(\"Cibil Score\")\n",
        "plt.ylabel(\"Count\")\n",
        "plt.show()"
      ],
      "metadata": {
        "colab": {
          "base_uri": "https://localhost:8080/",
          "height": 494
        },
        "id": "pWf2sl-_cFzV",
        "outputId": "31b4583b-4f82-4c2b-c9a9-3c9cc5a0bbdf"
      },
      "execution_count": 46,
      "outputs": [
        {
          "output_type": "display_data",
          "data": {
            "text/plain": [
              "<Figure size 640x480 with 1 Axes>"
            ],
            "image/png": "[encoded data removed]"
          },
          "metadata": {}
        }
      ]
    },
    {
      "cell_type": "code",
      "source": [
        "# Create boxplots for loan status considering cibil scores\n",
        "sns.boxplot(data = loan_df, x = 'loan_status', y = 'cibil_score', color = \"orchid\")\n",
        "plt.xticks(rotation = 90)\n",
        "plt.title(\"Boxplot of Loan Amount to Cibil Scores\")\n",
        "plt.xlabel(\"Loan Status\")\n",
        "plt.ylabel(\"Cibil Score\")\n",
        "plt.show()"
      ],
      "metadata": {
        "colab": {
          "base_uri": "https://localhost:8080/",
          "height": 544
        },
        "id": "4ZUINMZddQTn",
        "outputId": "36cbe090-c4c4-4cf1-837e-6623eac3acdc"
      },
      "execution_count": 47,
      "outputs": [
        {
          "output_type": "display_data",
          "data": {
            "text/plain": [
              "<Figure size 640x480 with 1 Axes>"
            ],
            "image/png": "[encoded data removed]"
          },
          "metadata": {}
        }
      ]
    },
    {
      "cell_type": "markdown",
      "source": [
        "Residential Asset Values"
      ],
      "metadata": {
        "id": "bs6SbbbrhLmY"
      }
    },
    {
      "cell_type": "code",
      "source": [
        "# Create a histogram for residential asset values\n",
        "plt.hist(data = loan_df, x = \"residential_assets_value\", bins = 'auto', color = \"dimgrey\")\n",
        "plt.xticks(rotation = 90)\n",
        "plt.title(\"Histogram of Residential Asset Values\")\n",
        "plt.xlabel(\"Residential Asset Values by Million\")\n",
        "plt.ylabel(\"Count\")\n",
        "plt.show()"
      ],
      "metadata": {
        "colab": {
          "base_uri": "https://localhost:8080/",
          "height": 489
        },
        "id": "rE_cANluhjdV",
        "outputId": "226ba0b7-7d8b-4a6c-bf23-e3bc4445f663"
      },
      "execution_count": 48,
      "outputs": [
        {
          "output_type": "display_data",
          "data": {
            "text/plain": [
              "<Figure size 640x480 with 1 Axes>"
            ],
            "image/png": "[encoded data removed]"
          },
          "metadata": {}
        }
      ]
    },
    {
      "cell_type": "code",
      "source": [
        "# Create boxplots for loan status considering cibil scores\n",
        "sns.boxplot(data = loan_df, x = 'loan_status', y = 'residential_assets_value', color = \"dimgrey\")\n",
        "plt.xticks(rotation = 90)\n",
        "plt.title(\"Boxplot of Loan Amount to Cibil Scores\")\n",
        "plt.xlabel(\"Loan Status\")\n",
        "plt.ylabel(\"Cibil Score\")\n",
        "plt.show()"
      ],
      "metadata": {
        "colab": {
          "base_uri": "https://localhost:8080/",
          "height": 544
        },
        "id": "uuNz9VIoh5-y",
        "outputId": "2cbfb4fa-94bc-4a89-deb2-6012f869fd0e"
      },
      "execution_count": 49,
      "outputs": [
        {
          "output_type": "display_data",
          "data": {
            "text/plain": [
              "<Figure size 640x480 with 1 Axes>"
            ],
            "image/png": "[encoded data removed]"
          },
          "metadata": {}
        }
      ]
    },
    {
      "cell_type": "markdown",
      "source": [
        "Commerical Asset Values"
      ],
      "metadata": {
        "id": "ZlsLsAvEixXY"
      }
    },
    {
      "cell_type": "code",
      "source": [
        "# Create a histogram for commercial asset values\n",
        "plt.hist(data=loan_df, x=\"commercial_assets_value\", bins=\"auto\", color=\"slateblue\")\n",
        "plt.xticks(rotation=90)\n",
        "plt.title(\"Histogram of Commercial Asset Values\")\n",
        "plt.xlabel(\"Commercial Asset Values by Million\")\n",
        "plt.ylabel(\"Count\")\n",
        "plt.show()"
      ],
      "metadata": {
        "colab": {
          "base_uri": "https://localhost:8080/",
          "height": 499
        },
        "id": "mw3p4sc8iwzV",
        "outputId": "c5248d00-831e-4b3c-c530-28341bd7db91"
      },
      "execution_count": 50,
      "outputs": [
        {
          "output_type": "display_data",
          "data": {
            "text/plain": [
              "<Figure size 640x480 with 1 Axes>"
            ],
            "image/png": "[encoded data removed]"
          },
          "metadata": {}
        }
      ]
    },
    {
      "cell_type": "code",
      "source": [
        "# Create boxplots for loan status considering commercial asset values\n",
        "sns.boxplot(data = loan_df, x = 'loan_status', y = 'commercial_assets_value', color = \"slateblue\")\n",
        "plt.xticks(rotation = 90)\n",
        "plt.title(\"Boxplot of Loan Amount to Commercial Asset Values\")\n",
        "plt.xlabel(\"Loan Status\")\n",
        "plt.ylabel(\"Commercial Asset Values by Million\")\n",
        "plt.show()"
      ],
      "metadata": {
        "colab": {
          "base_uri": "https://localhost:8080/",
          "height": 544
        },
        "id": "dXVx1JYxj9nT",
        "outputId": "fc0902a3-cb7b-45ec-b8f5-8e487f817438"
      },
      "execution_count": 51,
      "outputs": [
        {
          "output_type": "display_data",
          "data": {
            "text/plain": [
              "<Figure size 640x480 with 1 Axes>"
            ],
            "image/png": "[encoded data removed]"
          },
          "metadata": {}
        }
      ]
    },
    {
      "cell_type": "markdown",
      "source": [
        "Luxury Asset Values"
      ],
      "metadata": {
        "id": "CXdw5_uNkO4e"
      }
    },
    {
      "cell_type": "code",
      "source": [
        "# Create a histogram for luxury asset values\n",
        "plt.hist(data=loan_df, x=\"luxury_assets_value\", bins=\"auto\", color=\"tomato\")\n",
        "plt.xticks(rotation=90)\n",
        "plt.title(\"Histogram of Luxury Asset Values\")\n",
        "plt.xlabel(\"Luxury Asset Values by Million\")\n",
        "plt.ylabel(\"Count\")\n",
        "plt.show()"
      ],
      "metadata": {
        "colab": {
          "base_uri": "https://localhost:8080/",
          "height": 489
        },
        "id": "2wdYBYhOkUj3",
        "outputId": "449c95a4-6579-4fb1-8d59-310bd091bf81"
      },
      "execution_count": 52,
      "outputs": [
        {
          "output_type": "display_data",
          "data": {
            "text/plain": [
              "<Figure size 640x480 with 1 Axes>"
            ],
            "image/png": "[encoded data removed]"
          },
          "metadata": {}
        }
      ]
    },
    {
      "cell_type": "code",
      "source": [
        "# Create boxplots for loan status considering luxury asset values\n",
        "sns.boxplot(data = loan_df, x = 'loan_status', y = 'luxury_assets_value', color = \"tomato\")\n",
        "plt.xticks(rotation = 90)\n",
        "plt.title(\"Boxplot of Loan Amount to Luxury Asset Values\")\n",
        "plt.xlabel(\"Loan Status\")\n",
        "plt.ylabel(\"Luxury Asset Values by Million\")\n",
        "plt.show()"
      ],
      "metadata": {
        "colab": {
          "base_uri": "https://localhost:8080/",
          "height": 544
        },
        "id": "SOsU6wbhksn8",
        "outputId": "9fba5711-06e6-45f5-d019-54f259fe5ad7"
      },
      "execution_count": 53,
      "outputs": [
        {
          "output_type": "display_data",
          "data": {
            "text/plain": [
              "<Figure size 640x480 with 1 Axes>"
            ],
            "image/png": "[encoded data removed]"
          },
          "metadata": {}
        }
      ]
    },
    {
      "cell_type": "markdown",
      "source": [
        "Bank Asset Values"
      ],
      "metadata": {
        "id": "UIC-Z1LFk0wx"
      }
    },
    {
      "cell_type": "code",
      "source": [
        "# Create a histogram for bank asset values\n",
        "plt.hist(data=loan_df, x=\"bank_asset_value\", bins=\"auto\", color=\"olive\")\n",
        "plt.xticks(rotation=90)\n",
        "plt.title(\"Histogram of Bank Asset Values\")\n",
        "plt.xlabel(\"Bank Asset Values by Million\")\n",
        "plt.ylabel(\"Count\")\n",
        "plt.show()"
      ],
      "metadata": {
        "colab": {
          "base_uri": "https://localhost:8080/",
          "height": 489
        },
        "id": "lkXscLWgk-ui",
        "outputId": "ff3a129a-feb2-4ed9-dd85-4285c76e70eb"
      },
      "execution_count": 54,
      "outputs": [
        {
          "output_type": "display_data",
          "data": {
            "text/plain": [
              "<Figure size 640x480 with 1 Axes>"
            ],
            "image/png": "[encoded data removed]"
          },
          "metadata": {}
        }
      ]
    },
    {
      "cell_type": "code",
      "source": [
        "# Create boxplots for loan status considering luxury asset values\n",
        "sns.boxplot(data = loan_df, x = 'loan_status', y = 'bank_asset_value', color = \"olive\")\n",
        "plt.xticks(rotation = 90)\n",
        "plt.title(\"Boxplot of Loan Amount to Bank Asset Values\")\n",
        "plt.xlabel(\"Loan Status\")\n",
        "plt.ylabel(\"Bank Asset Values by Million\")\n",
        "plt.show()"
      ],
      "metadata": {
        "colab": {
          "base_uri": "https://localhost:8080/",
          "height": 544
        },
        "id": "3jDw1smxlVT3",
        "outputId": "0d880495-7548-47d4-dd5b-a6831f55082e"
      },
      "execution_count": 55,
      "outputs": [
        {
          "output_type": "display_data",
          "data": {
            "text/plain": [
              "<Figure size 640x480 with 1 Axes>"
            ],
            "image/png": "[encoded data removed]"
          },
          "metadata": {}
        }
      ]
    },
    {
      "cell_type": "markdown",
      "source": [
        "Create a correlation matrix with all numerical attributes\n",
        "\n"
      ],
      "metadata": {
        "id": "707ibqiMa6AV"
      }
    },
    {
      "cell_type": "code",
      "source": [
        "# Create a correlation matrix with each atttribute\n",
        "loan_df.corr(method='pearson')"
      ],
      "metadata": {
        "colab": {
          "base_uri": "https://localhost:8080/",
          "height": 419
        },
        "id": "CjECkzIYV17t",
        "outputId": "5e6d18ef-bf2d-41e7-c99b-453e380ec86f"
      },
      "execution_count": 56,
      "outputs": [
        {
          "output_type": "stream",
          "name": "stderr",
          "text": [
            "<ipython-input-56-59eae6e17058>:2: FutureWarning: The default value of numeric_only in DataFrame.corr is deprecated. In a future version, it will default to False. Select only valid columns or specify the value of numeric_only to silence this warning.\n",
            "  loan_df.corr(method='pearson')\n"
          ]
        },
        {
          "output_type": "execute_result",
          "data": {
            "text/plain": [
              "                           loan_id  no_of_dependents  income_annum  \\\n",
              "loan_id                   1.000000          0.005884      0.013405   \n",
              "no_of_dependents          0.005884          1.000000      0.008328   \n",
              "income_annum              0.013405          0.008328      1.000000   \n",
              "loan_amount               0.009556         -0.005251      0.927962   \n",
              "loan_term                 0.005336         -0.020783      0.006938   \n",
              "cibil_score               0.015991         -0.010017     -0.020922   \n",
              "residential_assets_value  0.023938          0.012032      0.627126   \n",
              "commercial_assets_value   0.022695         -0.002042      0.635076   \n",
              "luxury_assets_value       0.001085          0.003861      0.929990   \n",
              "bank_asset_value          0.012257          0.010527      0.850779   \n",
              "\n",
              "                          loan_amount  loan_term  cibil_score  \\\n",
              "loan_id                      0.009556   0.005336     0.015991   \n",
              "no_of_dependents            -0.005251  -0.020783    -0.010017   \n",
              "income_annum                 0.927962   0.006938    -0.020922   \n",
              "loan_amount                  1.000000   0.004848    -0.015739   \n",
              "loan_term                    0.004848   1.000000     0.007863   \n",
              "cibil_score                 -0.015739   0.007863     1.000000   \n",
              "residential_assets_value     0.591447   0.002757    -0.024220   \n",
              "commercial_assets_value      0.597812  -0.011204     0.005425   \n",
              "luxury_assets_value          0.863382   0.006588    -0.025267   \n",
              "bank_asset_value             0.789859   0.013912    -0.017949   \n",
              "\n",
              "                          residential_assets_value  commercial_assets_value  \\\n",
              "loan_id                                   0.023938                 0.022695   \n",
              "no_of_dependents                          0.012032                -0.002042   \n",
              "income_annum                              0.627126                 0.635076   \n",
              "loan_amount                               0.591447                 0.597812   \n",
              "loan_term                                 0.002757                -0.011204   \n",
              "cibil_score                              -0.024220                 0.005425   \n",
              "residential_assets_value                  1.000000                 0.411741   \n",
              "commercial_assets_value                   0.411741                 1.000000   \n",
              "luxury_assets_value                       0.586361                 0.589048   \n",
              "bank_asset_value                          0.520692                 0.548715   \n",
              "\n",
              "                          luxury_assets_value  bank_asset_value  \n",
              "loan_id                              0.001085          0.012257  \n",
              "no_of_dependents                     0.003861          0.010527  \n",
              "income_annum                         0.929990          0.850779  \n",
              "loan_amount                          0.863382          0.789859  \n",
              "loan_term                            0.006588          0.013912  \n",
              "cibil_score                         -0.025267         -0.017949  \n",
              "residential_assets_value             0.586361          0.520692  \n",
              "commercial_assets_value              0.589048          0.548715  \n",
              "luxury_assets_value                  1.000000          0.788035  \n",
              "bank_asset_value                     0.788035          1.000000  "
            ],
            "text/html": [
              "\n",
              "  <div id=\"df-d59e1e67-5f52-408a-a972-a1bf62d9ae37\" class=\"colab-df-container\">\n",
              "    <div>\n",
              "<style scoped>\n",
              "    .dataframe tbody tr th:only-of-type {\n",
              "        vertical-align: middle;\n",
              "    }\n",
              "\n",
              "    .dataframe tbody tr th {\n",
              "        vertical-align: top;\n",
              "    }\n",
              "\n",
              "    .dataframe thead th {\n",
              "        text-align: right;\n",
              "    }\n",
              "</style>\n",
              "<table border=\"1\" class=\"dataframe\">\n",
              "  <thead>\n",
              "    <tr style=\"text-align: right;\">\n",
              "      <th></th>\n",
              "      <th>loan_id</th>\n",
              "      <th>no_of_dependents</th>\n",
              "      <th>income_annum</th>\n",
              "      <th>loan_amount</th>\n",
              "      <th>loan_term</th>\n",
              "      <th>cibil_score</th>\n",
              "      <th>residential_assets_value</th>\n",
              "      <th>commercial_assets_value</th>\n",
              "      <th>luxury_assets_value</th>\n",
              "      <th>bank_asset_value</th>\n",
              "    </tr>\n",
              "  </thead>\n",
              "  <tbody>\n",
              "    <tr>\n",
              "      <th>loan_id</th>\n",
              "      <td>1.000000</td>\n",
              "      <td>0.005884</td>\n",
              "      <td>0.013405</td>\n",
              "      <td>0.009556</td>\n",
              "      <td>0.005336</td>\n",
              "      <td>0.015991</td>\n",
              "      <td>0.023938</td>\n",
              "      <td>0.022695</td>\n",
              "      <td>0.001085</td>\n",
              "      <td>0.012257</td>\n",
              "    </tr>\n",
              "    <tr>\n",
              "      <th>no_of_dependents</th>\n",
              "      <td>0.005884</td>\n",
              "      <td>1.000000</td>\n",
              "      <td>0.008328</td>\n",
              "      <td>-0.005251</td>\n",
              "      <td>-0.020783</td>\n",
              "      <td>-0.010017</td>\n",
              "      <td>0.012032</td>\n",
              "      <td>-0.002042</td>\n",
              "      <td>0.003861</td>\n",
              "      <td>0.010527</td>\n",
              "    </tr>\n",
              "    <tr>\n",
              "      <th>income_annum</th>\n",
              "      <td>0.013405</td>\n",
              "      <td>0.008328</td>\n",
              "      <td>1.000000</td>\n",
              "      <td>0.927962</td>\n",
              "      <td>0.006938</td>\n",
              "      <td>-0.020922</td>\n",
              "      <td>0.627126</td>\n",
              "      <td>0.635076</td>\n",
              "      <td>0.929990</td>\n",
              "      <td>0.850779</td>\n",
              "    </tr>\n",
              "    <tr>\n",
              "      <th>loan_amount</th>\n",
              "      <td>0.009556</td>\n",
              "      <td>-0.005251</td>\n",
              "      <td>0.927962</td>\n",
              "      <td>1.000000</td>\n",
              "      <td>0.004848</td>\n",
              "      <td>-0.015739</td>\n",
              "      <td>0.591447</td>\n",
              "      <td>0.597812</td>\n",
              "      <td>0.863382</td>\n",
              "      <td>0.789859</td>\n",
              "    </tr>\n",
              "    <tr>\n",
              "      <th>loan_term</th>\n",
              "      <td>0.005336</td>\n",
              "      <td>-0.020783</td>\n",
              "      <td>0.006938</td>\n",
              "      <td>0.004848</td>\n",
              "      <td>1.000000</td>\n",
              "      <td>0.007863</td>\n",
              "      <td>0.002757</td>\n",
              "      <td>-0.011204</td>\n",
              "      <td>0.006588</td>\n",
              "      <td>0.013912</td>\n",
              "    </tr>\n",
              "    <tr>\n",
              "      <th>cibil_score</th>\n",
              "      <td>0.015991</td>\n",
              "      <td>-0.010017</td>\n",
              "      <td>-0.020922</td>\n",
              "      <td>-0.015739</td>\n",
              "      <td>0.007863</td>\n",
              "      <td>1.000000</td>\n",
              "      <td>-0.024220</td>\n",
              "      <td>0.005425</td>\n",
              "      <td>-0.025267</td>\n",
              "      <td>-0.017949</td>\n",
              "    </tr>\n",
              "    <tr>\n",
              "      <th>residential_assets_value</th>\n",
              "      <td>0.023938</td>\n",
              "      <td>0.012032</td>\n",
              "      <td>0.627126</td>\n",
              "      <td>0.591447</td>\n",
              "      <td>0.002757</td>\n",
              "      <td>-0.024220</td>\n",
              "      <td>1.000000</td>\n",
              "      <td>0.411741</td>\n",
              "      <td>0.586361</td>\n",
              "      <td>0.520692</td>\n",
              "    </tr>\n",
              "    <tr>\n",
              "      <th>commercial_assets_value</th>\n",
              "      <td>0.022695</td>\n",
              "      <td>-0.002042</td>\n",
              "      <td>0.635076</td>\n",
              "      <td>0.597812</td>\n",
              "      <td>-0.011204</td>\n",
              "      <td>0.005425</td>\n",
              "      <td>0.411741</td>\n",
              "      <td>1.000000</td>\n",
              "      <td>0.589048</td>\n",
              "      <td>0.548715</td>\n",
              "    </tr>\n",
              "    <tr>\n",
              "      <th>luxury_assets_value</th>\n",
              "      <td>0.001085</td>\n",
              "      <td>0.003861</td>\n",
              "      <td>0.929990</td>\n",
              "      <td>0.863382</td>\n",
              "      <td>0.006588</td>\n",
              "      <td>-0.025267</td>\n",
              "      <td>0.586361</td>\n",
              "      <td>0.589048</td>\n",
              "      <td>1.000000</td>\n",
              "      <td>0.788035</td>\n",
              "    </tr>\n",
              "    <tr>\n",
              "      <th>bank_asset_value</th>\n",
              "      <td>0.012257</td>\n",
              "      <td>0.010527</td>\n",
              "      <td>0.850779</td>\n",
              "      <td>0.789859</td>\n",
              "      <td>0.013912</td>\n",
              "      <td>-0.017949</td>\n",
              "      <td>0.520692</td>\n",
              "      <td>0.548715</td>\n",
              "      <td>0.788035</td>\n",
              "      <td>1.000000</td>\n",
              "    </tr>\n",
              "  </tbody>\n",
              "</table>\n",
              "</div>\n",
              "    <div class=\"colab-df-buttons\">\n",
              "\n",
              "  <div class=\"colab-df-container\">\n",
              "    <button class=\"colab-df-convert\" onclick=\"convertToInteractive('df-d59e1e67-5f52-408a-a972-a1bf62d9ae37')\"\n",
              "            title=\"Convert this dataframe to an interactive table.\"\n",
              "            style=\"display:none;\">\n",
              "\n",
              "  <svg xmlns=\"http://www.w3.org/2000/svg\" height=\"24px\" viewBox=\"0 -960 960 960\">\n",
              "    <path d=\"M120-120v-720h720v720H120Zm60-500h600v-160H180v160Zm220 220h160v-160H400v160Zm0 220h160v-160H400v160ZM180-400h160v-160H180v160Zm440 0h160v-160H620v160ZM180-180h160v-160H180v160Zm440 0h160v-160H620v160Z\"/>\n",
              "  </svg>\n",
              "    </button>\n",
              "\n",
              "  <style>\n",
              "    .colab-df-container {\n",
              "      display:flex;\n",
              "      gap: 12px;\n",
              "    }\n",
              "\n",
              "    .colab-df-convert {\n",
              "      background-color: #E8F0FE;\n",
              "      border: none;\n",
              "      border-radius: 50%;\n",
              "      cursor: pointer;\n",
              "      display: none;\n",
              "      fill: #1967D2;\n",
              "      height: 32px;\n",
              "      padding: 0 0 0 0;\n",
              "      width: 32px;\n",
              "    }\n",
              "\n",
              "    .colab-df-convert:hover {\n",
              "      background-color: #E2EBFA;\n",
              "      box-shadow: 0px 1px 2px rgba(60, 64, 67, 0.3), 0px 1px 3px 1px rgba(60, 64, 67, 0.15);\n",
              "      fill: #174EA6;\n",
              "    }\n",
              "\n",
              "    .colab-df-buttons div {\n",
              "      margin-bottom: 4px;\n",
              "    }\n",
              "\n",
              "    [theme=dark] .colab-df-convert {\n",
              "      background-color: #3B4455;\n",
              "      fill: #D2E3FC;\n",
              "    }\n",
              "\n",
              "    [theme=dark] .colab-df-convert:hover {\n",
              "      background-color: #434B5C;\n",
              "      box-shadow: 0px 1px 3px 1px rgba(0, 0, 0, 0.15);\n",
              "      filter: drop-shadow(0px 1px 2px rgba(0, 0, 0, 0.3));\n",
              "      fill: #FFFFFF;\n",
              "    }\n",
              "  </style>\n",
              "\n",
              "    <script>\n",
              "      const buttonEl =\n",
              "        document.querySelector('#df-d59e1e67-5f52-408a-a972-a1bf62d9ae37 button.colab-df-convert');\n",
              "      buttonEl.style.display =\n",
              "        google.colab.kernel.accessAllowed ? 'block' : 'none';\n",
              "\n",
              "      async function convertToInteractive(key) {\n",
              "        const element = document.querySelector('#df-d59e1e67-5f52-408a-a972-a1bf62d9ae37');\n",
              "        const dataTable =\n",
              "          await google.colab.kernel.invokeFunction('convertToInteractive',\n",
              "                                                    [key], {});\n",
              "        if (!dataTable) return;\n",
              "\n",
              "        const docLinkHtml = 'Like what you see? Visit the ' +\n",
              "          '<a target=\"_blank\" href=https://colab.research.google.com/notebooks/data_table.ipynb>data table notebook</a>'\n",
              "          + ' to learn more about interactive tables.';\n",
              "        element.innerHTML = '';\n",
              "        dataTable['output_type'] = 'display_data';\n",
              "        await google.colab.output.renderOutput(dataTable, element);\n",
              "        const docLink = document.createElement('div');\n",
              "        docLink.innerHTML = docLinkHtml;\n",
              "        element.appendChild(docLink);\n",
              "      }\n",
              "    </script>\n",
              "  </div>\n",
              "\n",
              "\n",
              "<div id=\"df-544ee3d5-678b-427c-be7b-8263f0c45009\">\n",
              "  <button class=\"colab-df-quickchart\" onclick=\"quickchart('df-544ee3d5-678b-427c-be7b-8263f0c45009')\"\n",
              "            title=\"Suggest charts.\"\n",
              "            style=\"display:none;\">\n",
              "\n",
              "<svg xmlns=\"http://www.w3.org/2000/svg\" height=\"24px\"viewBox=\"0 0 24 24\"\n",
              "     width=\"24px\">\n",
              "    <g>\n",
              "        <path d=\"M19 3H5c-1.1 0-2 .9-2 2v14c0 1.1.9 2 2 2h14c1.1 0 2-.9 2-2V5c0-1.1-.9-2-2-2zM9 17H7v-7h2v7zm4 0h-2V7h2v10zm4 0h-2v-4h2v4z\"/>\n",
              "    </g>\n",
              "</svg>\n",
              "  </button>\n",
              "\n",
              "<style>\n",
              "  .colab-df-quickchart {\n",
              "      --bg-color: #E8F0FE;\n",
              "      --fill-color: #1967D2;\n",
              "      --hover-bg-color: #E2EBFA;\n",
              "      --hover-fill-color: #174EA6;\n",
              "      --disabled-fill-color: #AAA;\n",
              "      --disabled-bg-color: #DDD;\n",
              "  }\n",
              "\n",
              "  [theme=dark] .colab-df-quickchart {\n",
              "      --bg-color: #3B4455;\n",
              "      --fill-color: #D2E3FC;\n",
              "      --hover-bg-color: #434B5C;\n",
              "      --hover-fill-color: #FFFFFF;\n",
              "      --disabled-bg-color: #3B4455;\n",
              "      --disabled-fill-color: #666;\n",
              "  }\n",
              "\n",
              "  .colab-df-quickchart {\n",
              "    background-color: var(--bg-color);\n",
              "    border: none;\n",
              "    border-radius: 50%;\n",
              "    cursor: pointer;\n",
              "    display: none;\n",
              "    fill: var(--fill-color);\n",
              "    height: 32px;\n",
              "    padding: 0;\n",
              "    width: 32px;\n",
              "  }\n",
              "\n",
              "  .colab-df-quickchart:hover {\n",
              "    background-color: var(--hover-bg-color);\n",
              "    box-shadow: 0 1px 2px rgba(60, 64, 67, 0.3), 0 1px 3px 1px rgba(60, 64, 67, 0.15);\n",
              "    fill: var(--button-hover-fill-color);\n",
              "  }\n",
              "\n",
              "  .colab-df-quickchart-complete:disabled,\n",
              "  .colab-df-quickchart-complete:disabled:hover {\n",
              "    background-color: var(--disabled-bg-color);\n",
              "    fill: var(--disabled-fill-color);\n",
              "    box-shadow: none;\n",
              "  }\n",
              "\n",
              "  .colab-df-spinner {\n",
              "    border: 2px solid var(--fill-color);\n",
              "    border-color: transparent;\n",
              "    border-bottom-color: var(--fill-color);\n",
              "    animation:\n",
              "      spin 1s steps(1) infinite;\n",
              "  }\n",
              "\n",
              "  @keyframes spin {\n",
              "    0% {\n",
              "      border-color: transparent;\n",
              "      border-bottom-color: var(--fill-color);\n",
              "      border-left-color: var(--fill-color);\n",
              "    }\n",
              "    20% {\n",
              "      border-color: transparent;\n",
              "      border-left-color: var(--fill-color);\n",
              "      border-top-color: var(--fill-color);\n",
              "    }\n",
              "    30% {\n",
              "      border-color: transparent;\n",
              "      border-left-color: var(--fill-color);\n",
              "      border-top-color: var(--fill-color);\n",
              "      border-right-color: var(--fill-color);\n",
              "    }\n",
              "    40% {\n",
              "      border-color: transparent;\n",
              "      border-right-color: var(--fill-color);\n",
              "      border-top-color: var(--fill-color);\n",
              "    }\n",
              "    60% {\n",
              "      border-color: transparent;\n",
              "      border-right-color: var(--fill-color);\n",
              "    }\n",
              "    80% {\n",
              "      border-color: transparent;\n",
              "      border-right-color: var(--fill-color);\n",
              "      border-bottom-color: var(--fill-color);\n",
              "    }\n",
              "    90% {\n",
              "      border-color: transparent;\n",
              "      border-bottom-color: var(--fill-color);\n",
              "    }\n",
              "  }\n",
              "</style>\n",
              "\n",
              "  <script>\n",
              "    async function quickchart(key) {\n",
              "      const quickchartButtonEl =\n",
              "        document.querySelector('#' + key + ' button');\n",
              "      quickchartButtonEl.disabled = true;  // To prevent multiple clicks.\n",
              "      quickchartButtonEl.classList.add('colab-df-spinner');\n",
              "      try {\n",
              "        const charts = await google.colab.kernel.invokeFunction(\n",
              "            'suggestCharts', [key], {});\n",
              "      } catch (error) {\n",
              "        console.error('Error during call to suggestCharts:', error);\n",
              "      }\n",
              "      quickchartButtonEl.classList.remove('colab-df-spinner');\n",
              "      quickchartButtonEl.classList.add('colab-df-quickchart-complete');\n",
              "    }\n",
              "    (() => {\n",
              "      let quickchartButtonEl =\n",
              "        document.querySelector('#df-544ee3d5-678b-427c-be7b-8263f0c45009 button');\n",
              "      quickchartButtonEl.style.display =\n",
              "        google.colab.kernel.accessAllowed ? 'block' : 'none';\n",
              "    })();\n",
              "  </script>\n",
              "</div>\n",
              "    </div>\n",
              "  </div>\n"
            ]
          },
          "metadata": {},
          "execution_count": 56
        }
      ]
    },
    {
      "cell_type": "code",
      "source": [
        "loan_df.count()"
      ],
      "metadata": {
        "colab": {
          "base_uri": "https://localhost:8080/"
        },
        "id": "D9Qky1c2TuMR",
        "outputId": "8200d2a5-bd4b-4ca8-c592-c512741602f3"
      },
      "execution_count": 57,
      "outputs": [
        {
          "output_type": "execute_result",
          "data": {
            "text/plain": [
              "loan_id                     4173\n",
              "no_of_dependents            4173\n",
              "education                   4173\n",
              "self_employed               4173\n",
              "income_annum                4173\n",
              "loan_amount                 4173\n",
              "loan_term                   4173\n",
              "cibil_score                 4173\n",
              "residential_assets_value    4173\n",
              "commercial_assets_value     4173\n",
              "luxury_assets_value         4173\n",
              "bank_asset_value            4173\n",
              "loan_status                 4173\n",
              "dtype: int64"
            ]
          },
          "metadata": {},
          "execution_count": 57
        }
      ]
    },
    {
      "cell_type": "markdown",
      "source": [
        "Chi-Squared Statistics"
      ],
      "metadata": {
        "id": "HRAbccuXUXsX"
      }
    },
    {
      "cell_type": "code",
      "source": [
        "# Get the categorical columns\n",
        "categorical_cols = ['education', 'self_employed', 'loan_term']\n",
        "p_values = []\n",
        "\n",
        "# Create contingency tables\n",
        "for categorical_attr in categorical_cols:\n",
        "    contingency_table = pd.crosstab(loan_df[categorical_attr], loan_df['loan_status'])\n",
        "\n",
        "    # Get p-values from the contingency table\n",
        "    chi2, p, degrees_of_freedom, expected_freq = chi2_contingency(contingency_table)\n",
        "    p_values.append(p)\n",
        "\n",
        "# Print the p-values for the categorical variables\n",
        "p_values"
      ],
      "metadata": {
        "colab": {
          "base_uri": "https://localhost:8080/"
        },
        "id": "Ybdh0wQRURjn",
        "outputId": "e36737fe-1d1a-4fbf-c896-b60fc57e1b55"
      },
      "execution_count": 60,
      "outputs": [
        {
          "output_type": "execute_result",
          "data": {
            "text/plain": [
              "[0.8054748482812306, 0.8808544370188185, 7.685890181657574e-29]"
            ]
          },
          "metadata": {},
          "execution_count": 60
        }
      ]
    },
    {
      "cell_type": "code",
      "source": [
        "# Set the significance level\n",
        "alpha = 0.05\n",
        "\n",
        "# Get the Bonferroni-corrected significance level\n",
        "adjusted_alpha = alpha / len(categorical_cols)\n",
        "\n",
        "# Get attributes with a significance level less than 0.05\n",
        "significant_attributes = [(categorical_attr, p) for categorical_attr, p in zip(categorical_cols, p_values) if p < adjusted_alpha]\n",
        "\n",
        "# Print the statistically significant categorical values\n",
        "print(\"Statistically Significant Attributes:\")\n",
        "for attribute, p_val in significant_attributes:\n",
        "  print(f\"{attribute}'s p-value = {p_val}\")"
      ],
      "metadata": {
        "colab": {
          "base_uri": "https://localhost:8080/"
        },
        "id": "qsvz8tvSUhzv",
        "outputId": "ab194b4b-464a-44da-db26-1641a8517cca"
      },
      "execution_count": 73,
      "outputs": [
        {
          "output_type": "stream",
          "name": "stdout",
          "text": [
            "Statistically Significant Attributes:\n",
            "loan_term's p-value = 7.685890181657574e-29\n"
          ]
        }
      ]
    },
    {
      "cell_type": "markdown",
      "source": [
        "T-Test for Numerical Variables"
      ],
      "metadata": {
        "id": "38uy7SZJV-Sn"
      }
    },
    {
      "cell_type": "code",
      "source": [
        "# Get the numerical values\n",
        "numerical_vals = [\"no_of_dependents\", \"income_annum\", \"loan_amount\", \"loan_term\", \"cibil_score\",\n",
        "                  \"residential_assets_value\", \"commercial_assets_value\", \"luxury_assets_value\", \"bank_asset_value\"]\n",
        "\n",
        "p_vals = {}\n",
        "\n",
        "# iterate through numeric columns and find statistical significance\n",
        "for attribute in numerical_vals:\n",
        "  uncanceled = loan_df[loan_df['loan_status'] == 0][attribute]\n",
        "  canceled = loan_df[loan_df['loan_status'] == 1][attribute]\n",
        "\n",
        "  # Perfrom a t-test for the numerical column\n",
        "  t_stat, p_val = stats.ttest_ind(uncanceled, canceled)\n",
        "  if p_val < alpha:\n",
        "    p_vals[attribute] = p_val\n",
        "    print(f\"{attribute}'s p-value is: {p_val}\")\n",
        "\n",
        "# Edge case for no statistically significant p-values from the t-test\n",
        "if not p_vals:\n",
        "  print(\"No statistically significant p-values according to the t-test\")"
      ],
      "metadata": {
        "colab": {
          "base_uri": "https://localhost:8080/"
        },
        "id": "HonXGtCDWNYW",
        "outputId": "94f226f1-73a5-4998-eca1-7d04858dd693"
      },
      "execution_count": 68,
      "outputs": [
        {
          "output_type": "stream",
          "name": "stdout",
          "text": [
            "No statistically significant p-values according to the t-test\n"
          ]
        }
      ]
    },
    {
      "cell_type": "markdown",
      "source": [
        "One-Way ANOVA for Numerical Variables"
      ],
      "metadata": {
        "id": "cS7CkckhYPq_"
      }
    },
    {
      "cell_type": "code",
      "source": [
        "# Create an empty list to store results\n",
        "anova_results = []\n",
        "\n",
        "# iterate through numeric columns and find statistical significance\n",
        "for attribute in numerical_vals:\n",
        "  uncanceled = loan_df[loan_df['loan_status'] == 0][attribute]\n",
        "  canceled = loan_df[loan_df['loan_status'] == 1][attribute]\n",
        "\n",
        "  # Perform one-way ANOVA\n",
        "  f_statistic, p_val = stats.f_oneway(uncanceled, canceled)\n",
        "\n",
        "  # Determine statistical significance\n",
        "  if p_val < alpha:\n",
        "    print(f\"{attribute}'s p-value is: {p_val}\")\n",
        "\n",
        "# Edge case for no statistically significant p-values from one-way ANOVA\n",
        "if not anova_results:\n",
        "  print(\"No statistically significant p-values according to the one-way ANOVA test\")"
      ],
      "metadata": {
        "colab": {
          "base_uri": "https://localhost:8080/"
        },
        "id": "8t1o31R2YWN5",
        "outputId": "6a247246-ba86-4308-c06c-ed76f972c4be"
      },
      "execution_count": 71,
      "outputs": [
        {
          "output_type": "stream",
          "name": "stdout",
          "text": [
            "No statistically significant p-values according to the one-way ANOVA test\n"
          ]
        }
      ]
    }
  ]
}