{
 "cells": [
  {
   "cell_type": "markdown",
   "metadata": {},
   "source": [
    "# ADS-505 Team 2 Loan Prediction Team Project\n",
    "Dataset: Loan Approval Prediction Dataset [from Kaggle](https://www.kaggle.com/datasets/architsharma01/loan-approval-prediction-dataset/code) \\\n",
    "Team Members: Ben Ogle, Roger Qiu, & Ue Wang"
   ]
  },
  {
   "cell_type": "code",
   "execution_count": 1,
   "metadata": {},
   "outputs": [
    {
     "name": "stderr",
     "output_type": "stream",
     "text": [
      "2023-10-06 14:20:13.710376: I tensorflow/core/platform/cpu_feature_guard.cc:182] This TensorFlow binary is optimized to use available CPU instructions in performance-critical operations.\n",
      "To enable the following instructions: AVX2 AVX512F AVX512_VNNI FMA, in other operations, rebuild TensorFlow with the appropriate compiler flags.\n"
     ]
    }
   ],
   "source": [
    "# import necessary packages\n",
    "%matplotlib inline\n",
    "import seaborn as sns\n",
    "import pandas as pd\n",
    "import numpy as np\n",
    "import os\n",
    "import matplotlib.pyplot as plt\n",
    "import matplotlib.pylab as pylab\n",
    "from sklearn import preprocessing\n",
    "from sklearn.model_selection import train_test_split, cross_val_score\n",
    "from sklearn import tree\n",
    "from sklearn.preprocessing import OneHotEncoder, OrdinalEncoder, LabelEncoder, StandardScaler, Normalizer\n",
    "from sklearn.metrics import confusion_matrix, accuracy_score, ConfusionMatrixDisplay, classification_report\n",
    "from sklearn.linear_model import Perceptron\n",
    "from sklearn.linear_model import LogisticRegression\n",
    "from sklearn.metrics import accuracy_score, confusion_matrix\n",
    "from sklearn.metrics import classification_report, roc_auc_score\n",
    "from sklearn.tree import DecisionTreeClassifier\n",
    "from sklearn.tree import export_graphviz\n",
    "from IPython.display import Image\n",
    "import pydotplus\n",
    "from sklearn.ensemble import RandomForestClassifier\n",
    "from sklearn.neighbors import KNeighborsClassifier\n",
    "from sklearn.metrics import accuracy_score, confusion_matrix\n",
    "from sklearn.model_selection import GridSearchCV, StratifiedKFold\n",
    "from collections import Counter\n",
    "from sklearn.svm import SVC\n",
    "from sklearn.ensemble import AdaBoostClassifier\n",
    "from keras.models import Sequential\n",
    "from keras.layers import Dense\n",
    "from keras.wrappers.scikit_learn import KerasClassifier\n",
    "import tensorflow as tf\n",
    "import random\n",
    "from sklearn.feature_selection import RFECV\n",
    "\n",
    "# set random seed\n",
    "np.random.seed(1)"
   ]
  },
  {
   "cell_type": "code",
   "execution_count": 2,
   "metadata": {},
   "outputs": [
    {
     "data": {
      "text/html": [
       "<div>\n",
       "<style scoped>\n",
       "    .dataframe tbody tr th:only-of-type {\n",
       "        vertical-align: middle;\n",
       "    }\n",
       "\n",
       "    .dataframe tbody tr th {\n",
       "        vertical-align: top;\n",
       "    }\n",
       "\n",
       "    .dataframe thead th {\n",
       "        text-align: right;\n",
       "    }\n",
       "</style>\n",
       "<table border=\"1\" class=\"dataframe\">\n",
       "  <thead>\n",
       "    <tr style=\"text-align: right;\">\n",
       "      <th></th>\n",
       "      <th>loan_id</th>\n",
       "      <th>no_of_dependents</th>\n",
       "      <th>education</th>\n",
       "      <th>self_employed</th>\n",
       "      <th>income_annum</th>\n",
       "      <th>loan_amount</th>\n",
       "      <th>loan_term</th>\n",
       "      <th>cibil_score</th>\n",
       "      <th>residential_assets_value</th>\n",
       "      <th>commercial_assets_value</th>\n",
       "      <th>luxury_assets_value</th>\n",
       "      <th>bank_asset_value</th>\n",
       "      <th>loan_status</th>\n",
       "    </tr>\n",
       "  </thead>\n",
       "  <tbody>\n",
       "    <tr>\n",
       "      <th>0</th>\n",
       "      <td>1</td>\n",
       "      <td>2</td>\n",
       "      <td>Graduate</td>\n",
       "      <td>No</td>\n",
       "      <td>9600000</td>\n",
       "      <td>29900000</td>\n",
       "      <td>12</td>\n",
       "      <td>778</td>\n",
       "      <td>2400000</td>\n",
       "      <td>17600000</td>\n",
       "      <td>22700000</td>\n",
       "      <td>8000000</td>\n",
       "      <td>Approved</td>\n",
       "    </tr>\n",
       "    <tr>\n",
       "      <th>1</th>\n",
       "      <td>2</td>\n",
       "      <td>0</td>\n",
       "      <td>Not Graduate</td>\n",
       "      <td>Yes</td>\n",
       "      <td>4100000</td>\n",
       "      <td>12200000</td>\n",
       "      <td>8</td>\n",
       "      <td>417</td>\n",
       "      <td>2700000</td>\n",
       "      <td>2200000</td>\n",
       "      <td>8800000</td>\n",
       "      <td>3300000</td>\n",
       "      <td>Rejected</td>\n",
       "    </tr>\n",
       "    <tr>\n",
       "      <th>2</th>\n",
       "      <td>3</td>\n",
       "      <td>3</td>\n",
       "      <td>Graduate</td>\n",
       "      <td>No</td>\n",
       "      <td>9100000</td>\n",
       "      <td>29700000</td>\n",
       "      <td>20</td>\n",
       "      <td>506</td>\n",
       "      <td>7100000</td>\n",
       "      <td>4500000</td>\n",
       "      <td>33300000</td>\n",
       "      <td>12800000</td>\n",
       "      <td>Rejected</td>\n",
       "    </tr>\n",
       "    <tr>\n",
       "      <th>3</th>\n",
       "      <td>4</td>\n",
       "      <td>3</td>\n",
       "      <td>Graduate</td>\n",
       "      <td>No</td>\n",
       "      <td>8200000</td>\n",
       "      <td>30700000</td>\n",
       "      <td>8</td>\n",
       "      <td>467</td>\n",
       "      <td>18200000</td>\n",
       "      <td>3300000</td>\n",
       "      <td>23300000</td>\n",
       "      <td>7900000</td>\n",
       "      <td>Rejected</td>\n",
       "    </tr>\n",
       "    <tr>\n",
       "      <th>4</th>\n",
       "      <td>5</td>\n",
       "      <td>5</td>\n",
       "      <td>Not Graduate</td>\n",
       "      <td>Yes</td>\n",
       "      <td>9800000</td>\n",
       "      <td>24200000</td>\n",
       "      <td>20</td>\n",
       "      <td>382</td>\n",
       "      <td>12400000</td>\n",
       "      <td>8200000</td>\n",
       "      <td>29400000</td>\n",
       "      <td>5000000</td>\n",
       "      <td>Rejected</td>\n",
       "    </tr>\n",
       "  </tbody>\n",
       "</table>\n",
       "</div>"
      ],
      "text/plain": [
       "   loan_id  no_of_dependents     education self_employed  income_annum  \\\n",
       "0        1                 2      Graduate            No       9600000   \n",
       "1        2                 0  Not Graduate           Yes       4100000   \n",
       "2        3                 3      Graduate            No       9100000   \n",
       "3        4                 3      Graduate            No       8200000   \n",
       "4        5                 5  Not Graduate           Yes       9800000   \n",
       "\n",
       "   loan_amount  loan_term  cibil_score  residential_assets_value  \\\n",
       "0     29900000         12          778                   2400000   \n",
       "1     12200000          8          417                   2700000   \n",
       "2     29700000         20          506                   7100000   \n",
       "3     30700000          8          467                  18200000   \n",
       "4     24200000         20          382                  12400000   \n",
       "\n",
       "   commercial_assets_value  luxury_assets_value  bank_asset_value loan_status  \n",
       "0                 17600000             22700000           8000000    Approved  \n",
       "1                  2200000              8800000           3300000    Rejected  \n",
       "2                  4500000             33300000          12800000    Rejected  \n",
       "3                  3300000             23300000           7900000    Rejected  \n",
       "4                  8200000             29400000           5000000    Rejected  "
      ]
     },
     "execution_count": 2,
     "metadata": {},
     "output_type": "execute_result"
    }
   ],
   "source": [
    "# read in loan approval df\n",
    "df = pd.read_csv('loan_approval_dataset.csv')\n",
    "\n",
    "# field names have spaces before them, trim the space\n",
    "df.columns = df.columns.str.strip()\n",
    "\n",
    "# values have spaces, trim all values:\n",
    "df = df.applymap(lambda x: x.strip() if type(x) == str else x)\n",
    "\n",
    "df.head()"
   ]
  },
  {
   "cell_type": "markdown",
   "metadata": {},
   "source": [
    "### EDA - Ben Ogle"
   ]
  },
  {
   "cell_type": "code",
   "execution_count": null,
   "metadata": {},
   "outputs": [],
   "source": []
  },
  {
   "cell_type": "markdown",
   "metadata": {},
   "source": [
    "### Pre-processing and modeling Part 1 - UE Wang"
   ]
  },
  {
   "cell_type": "code",
   "execution_count": null,
   "metadata": {},
   "outputs": [],
   "source": []
  },
  {
   "cell_type": "markdown",
   "metadata": {},
   "source": [
    "### Pre-Processing and modeling Part 2 - Roger Qiu"
   ]
  },
  {
   "cell_type": "code",
   "execution_count": 3,
   "metadata": {},
   "outputs": [
    {
     "data": {
      "text/html": [
       "<div>\n",
       "<style scoped>\n",
       "    .dataframe tbody tr th:only-of-type {\n",
       "        vertical-align: middle;\n",
       "    }\n",
       "\n",
       "    .dataframe tbody tr th {\n",
       "        vertical-align: top;\n",
       "    }\n",
       "\n",
       "    .dataframe thead th {\n",
       "        text-align: right;\n",
       "    }\n",
       "</style>\n",
       "<table border=\"1\" class=\"dataframe\">\n",
       "  <thead>\n",
       "    <tr style=\"text-align: right;\">\n",
       "      <th></th>\n",
       "      <th>loan_id</th>\n",
       "      <th>no_of_dependents</th>\n",
       "      <th>education</th>\n",
       "      <th>self_employed</th>\n",
       "      <th>income_annum</th>\n",
       "      <th>loan_amount</th>\n",
       "      <th>loan_term</th>\n",
       "      <th>cibil_score</th>\n",
       "      <th>residential_assets_value</th>\n",
       "      <th>commercial_assets_value</th>\n",
       "      <th>luxury_assets_value</th>\n",
       "      <th>bank_asset_value</th>\n",
       "      <th>loan_status</th>\n",
       "    </tr>\n",
       "  </thead>\n",
       "  <tbody>\n",
       "    <tr>\n",
       "      <th>0</th>\n",
       "      <td>1</td>\n",
       "      <td>2</td>\n",
       "      <td>Graduate</td>\n",
       "      <td>No</td>\n",
       "      <td>9600000</td>\n",
       "      <td>29900000</td>\n",
       "      <td>12</td>\n",
       "      <td>778</td>\n",
       "      <td>2400000</td>\n",
       "      <td>17600000</td>\n",
       "      <td>22700000</td>\n",
       "      <td>8000000</td>\n",
       "      <td>Approved</td>\n",
       "    </tr>\n",
       "    <tr>\n",
       "      <th>1</th>\n",
       "      <td>2</td>\n",
       "      <td>0</td>\n",
       "      <td>Not Graduate</td>\n",
       "      <td>Yes</td>\n",
       "      <td>4100000</td>\n",
       "      <td>12200000</td>\n",
       "      <td>8</td>\n",
       "      <td>417</td>\n",
       "      <td>2700000</td>\n",
       "      <td>2200000</td>\n",
       "      <td>8800000</td>\n",
       "      <td>3300000</td>\n",
       "      <td>Rejected</td>\n",
       "    </tr>\n",
       "    <tr>\n",
       "      <th>2</th>\n",
       "      <td>3</td>\n",
       "      <td>3</td>\n",
       "      <td>Graduate</td>\n",
       "      <td>No</td>\n",
       "      <td>9100000</td>\n",
       "      <td>29700000</td>\n",
       "      <td>20</td>\n",
       "      <td>506</td>\n",
       "      <td>7100000</td>\n",
       "      <td>4500000</td>\n",
       "      <td>33300000</td>\n",
       "      <td>12800000</td>\n",
       "      <td>Rejected</td>\n",
       "    </tr>\n",
       "    <tr>\n",
       "      <th>3</th>\n",
       "      <td>4</td>\n",
       "      <td>3</td>\n",
       "      <td>Graduate</td>\n",
       "      <td>No</td>\n",
       "      <td>8200000</td>\n",
       "      <td>30700000</td>\n",
       "      <td>8</td>\n",
       "      <td>467</td>\n",
       "      <td>18200000</td>\n",
       "      <td>3300000</td>\n",
       "      <td>23300000</td>\n",
       "      <td>7900000</td>\n",
       "      <td>Rejected</td>\n",
       "    </tr>\n",
       "    <tr>\n",
       "      <th>4</th>\n",
       "      <td>5</td>\n",
       "      <td>5</td>\n",
       "      <td>Not Graduate</td>\n",
       "      <td>Yes</td>\n",
       "      <td>9800000</td>\n",
       "      <td>24200000</td>\n",
       "      <td>20</td>\n",
       "      <td>382</td>\n",
       "      <td>12400000</td>\n",
       "      <td>8200000</td>\n",
       "      <td>29400000</td>\n",
       "      <td>5000000</td>\n",
       "      <td>Rejected</td>\n",
       "    </tr>\n",
       "  </tbody>\n",
       "</table>\n",
       "</div>"
      ],
      "text/plain": [
       "   loan_id  no_of_dependents     education self_employed  income_annum  \\\n",
       "0        1                 2      Graduate            No       9600000   \n",
       "1        2                 0  Not Graduate           Yes       4100000   \n",
       "2        3                 3      Graduate            No       9100000   \n",
       "3        4                 3      Graduate            No       8200000   \n",
       "4        5                 5  Not Graduate           Yes       9800000   \n",
       "\n",
       "   loan_amount  loan_term  cibil_score  residential_assets_value  \\\n",
       "0     29900000         12          778                   2400000   \n",
       "1     12200000          8          417                   2700000   \n",
       "2     29700000         20          506                   7100000   \n",
       "3     30700000          8          467                  18200000   \n",
       "4     24200000         20          382                  12400000   \n",
       "\n",
       "   commercial_assets_value  luxury_assets_value  bank_asset_value loan_status  \n",
       "0                 17600000             22700000           8000000    Approved  \n",
       "1                  2200000              8800000           3300000    Rejected  \n",
       "2                  4500000             33300000          12800000    Rejected  \n",
       "3                  3300000             23300000           7900000    Rejected  \n",
       "4                  8200000             29400000           5000000    Rejected  "
      ]
     },
     "execution_count": 3,
     "metadata": {},
     "output_type": "execute_result"
    }
   ],
   "source": [
    "# read in loan approval df\n",
    "df = pd.read_csv('loan_approval_dataset.csv')\n",
    "\n",
    "# field names have spaces before them, trim the space\n",
    "df.columns = df.columns.str.strip()\n",
    "\n",
    "# values have spaces, trim all values:\n",
    "df = df.applymap(lambda x: x.strip() if type(x) == str else x)\n",
    "\n",
    "df.head()"
   ]
  },
  {
   "cell_type": "code",
   "execution_count": 4,
   "metadata": {},
   "outputs": [
    {
     "name": "stdout",
     "output_type": "stream",
     "text": [
      "<class 'pandas.core.frame.DataFrame'>\n",
      "RangeIndex: 4269 entries, 0 to 4268\n",
      "Data columns (total 13 columns):\n",
      " #   Column                    Non-Null Count  Dtype \n",
      "---  ------                    --------------  ----- \n",
      " 0   loan_id                   4269 non-null   int64 \n",
      " 1   no_of_dependents          4269 non-null   int64 \n",
      " 2   education                 4269 non-null   object\n",
      " 3   self_employed             4269 non-null   object\n",
      " 4   income_annum              4269 non-null   int64 \n",
      " 5   loan_amount               4269 non-null   int64 \n",
      " 6   loan_term                 4269 non-null   int64 \n",
      " 7   cibil_score               4269 non-null   int64 \n",
      " 8   residential_assets_value  4269 non-null   int64 \n",
      " 9   commercial_assets_value   4269 non-null   int64 \n",
      " 10  luxury_assets_value       4269 non-null   int64 \n",
      " 11  bank_asset_value          4269 non-null   int64 \n",
      " 12  loan_status               4269 non-null   object\n",
      "dtypes: int64(10), object(3)\n",
      "memory usage: 433.7+ KB\n"
     ]
    }
   ],
   "source": [
    "# check nulls\n",
    "df.info()"
   ]
  },
  {
   "cell_type": "markdown",
   "metadata": {},
   "source": [
    "### Pre-Processing"
   ]
  },
  {
   "cell_type": "code",
   "execution_count": 5,
   "metadata": {},
   "outputs": [
    {
     "data": {
      "text/html": [
       "<div>\n",
       "<style scoped>\n",
       "    .dataframe tbody tr th:only-of-type {\n",
       "        vertical-align: middle;\n",
       "    }\n",
       "\n",
       "    .dataframe tbody tr th {\n",
       "        vertical-align: top;\n",
       "    }\n",
       "\n",
       "    .dataframe thead th {\n",
       "        text-align: right;\n",
       "    }\n",
       "</style>\n",
       "<table border=\"1\" class=\"dataframe\">\n",
       "  <thead>\n",
       "    <tr style=\"text-align: right;\">\n",
       "      <th></th>\n",
       "      <th>no_of_dependents</th>\n",
       "      <th>education</th>\n",
       "      <th>self_employed</th>\n",
       "      <th>income_annum</th>\n",
       "      <th>loan_amount</th>\n",
       "      <th>loan_term</th>\n",
       "      <th>cibil_score</th>\n",
       "      <th>residential_assets_value</th>\n",
       "      <th>commercial_assets_value</th>\n",
       "      <th>luxury_assets_value</th>\n",
       "      <th>bank_asset_value</th>\n",
       "      <th>loan_status</th>\n",
       "    </tr>\n",
       "  </thead>\n",
       "  <tbody>\n",
       "    <tr>\n",
       "      <th>0</th>\n",
       "      <td>2</td>\n",
       "      <td>Graduate</td>\n",
       "      <td>No</td>\n",
       "      <td>9600000</td>\n",
       "      <td>29900000</td>\n",
       "      <td>12</td>\n",
       "      <td>778</td>\n",
       "      <td>2400000</td>\n",
       "      <td>17600000</td>\n",
       "      <td>22700000</td>\n",
       "      <td>8000000</td>\n",
       "      <td>Approved</td>\n",
       "    </tr>\n",
       "    <tr>\n",
       "      <th>1</th>\n",
       "      <td>0</td>\n",
       "      <td>Not Graduate</td>\n",
       "      <td>Yes</td>\n",
       "      <td>4100000</td>\n",
       "      <td>12200000</td>\n",
       "      <td>8</td>\n",
       "      <td>417</td>\n",
       "      <td>2700000</td>\n",
       "      <td>2200000</td>\n",
       "      <td>8800000</td>\n",
       "      <td>3300000</td>\n",
       "      <td>Rejected</td>\n",
       "    </tr>\n",
       "    <tr>\n",
       "      <th>2</th>\n",
       "      <td>3</td>\n",
       "      <td>Graduate</td>\n",
       "      <td>No</td>\n",
       "      <td>9100000</td>\n",
       "      <td>29700000</td>\n",
       "      <td>20</td>\n",
       "      <td>506</td>\n",
       "      <td>7100000</td>\n",
       "      <td>4500000</td>\n",
       "      <td>33300000</td>\n",
       "      <td>12800000</td>\n",
       "      <td>Rejected</td>\n",
       "    </tr>\n",
       "    <tr>\n",
       "      <th>3</th>\n",
       "      <td>3</td>\n",
       "      <td>Graduate</td>\n",
       "      <td>No</td>\n",
       "      <td>8200000</td>\n",
       "      <td>30700000</td>\n",
       "      <td>8</td>\n",
       "      <td>467</td>\n",
       "      <td>18200000</td>\n",
       "      <td>3300000</td>\n",
       "      <td>23300000</td>\n",
       "      <td>7900000</td>\n",
       "      <td>Rejected</td>\n",
       "    </tr>\n",
       "    <tr>\n",
       "      <th>4</th>\n",
       "      <td>5</td>\n",
       "      <td>Not Graduate</td>\n",
       "      <td>Yes</td>\n",
       "      <td>9800000</td>\n",
       "      <td>24200000</td>\n",
       "      <td>20</td>\n",
       "      <td>382</td>\n",
       "      <td>12400000</td>\n",
       "      <td>8200000</td>\n",
       "      <td>29400000</td>\n",
       "      <td>5000000</td>\n",
       "      <td>Rejected</td>\n",
       "    </tr>\n",
       "  </tbody>\n",
       "</table>\n",
       "</div>"
      ],
      "text/plain": [
       "   no_of_dependents     education self_employed  income_annum  loan_amount  \\\n",
       "0                 2      Graduate            No       9600000     29900000   \n",
       "1                 0  Not Graduate           Yes       4100000     12200000   \n",
       "2                 3      Graduate            No       9100000     29700000   \n",
       "3                 3      Graduate            No       8200000     30700000   \n",
       "4                 5  Not Graduate           Yes       9800000     24200000   \n",
       "\n",
       "   loan_term  cibil_score  residential_assets_value  commercial_assets_value  \\\n",
       "0         12          778                   2400000                 17600000   \n",
       "1          8          417                   2700000                  2200000   \n",
       "2         20          506                   7100000                  4500000   \n",
       "3          8          467                  18200000                  3300000   \n",
       "4         20          382                  12400000                  8200000   \n",
       "\n",
       "   luxury_assets_value  bank_asset_value loan_status  \n",
       "0             22700000           8000000    Approved  \n",
       "1              8800000           3300000    Rejected  \n",
       "2             33300000          12800000    Rejected  \n",
       "3             23300000           7900000    Rejected  \n",
       "4             29400000           5000000    Rejected  "
      ]
     },
     "execution_count": 5,
     "metadata": {},
     "output_type": "execute_result"
    }
   ],
   "source": [
    "# drop the loan_id field\n",
    "df = df.drop(columns = 'loan_id')\n",
    "df.head()"
   ]
  },
  {
   "cell_type": "code",
   "execution_count": 6,
   "metadata": {},
   "outputs": [
    {
     "data": {
      "text/plain": [
       "Graduate        2144\n",
       "Not Graduate    2125\n",
       "Name: education, dtype: int64"
      ]
     },
     "execution_count": 6,
     "metadata": {},
     "output_type": "execute_result"
    }
   ],
   "source": [
    "# check categorical values of education\n",
    "df['education'].value_counts()"
   ]
  },
  {
   "cell_type": "code",
   "execution_count": 7,
   "metadata": {},
   "outputs": [
    {
     "data": {
      "text/plain": [
       "education\n",
       "0    2125\n",
       "1    2144\n",
       "dtype: int64"
      ]
     },
     "execution_count": 7,
     "metadata": {},
     "output_type": "execute_result"
    }
   ],
   "source": [
    "# convert to 1 and 0\n",
    "df['education'] = df['education'].map({'Graduate': 1, 'Not Graduate': 0})\n",
    "df.groupby('education').size()"
   ]
  },
  {
   "cell_type": "code",
   "execution_count": 8,
   "metadata": {},
   "outputs": [
    {
     "data": {
      "text/plain": [
       "Yes    2150\n",
       "No     2119\n",
       "Name: self_employed, dtype: int64"
      ]
     },
     "execution_count": 8,
     "metadata": {},
     "output_type": "execute_result"
    }
   ],
   "source": [
    "# check categorical values of self employed\n",
    "df['self_employed'].value_counts()"
   ]
  },
  {
   "cell_type": "code",
   "execution_count": 9,
   "metadata": {},
   "outputs": [
    {
     "data": {
      "text/plain": [
       "self_employed\n",
       "0    2119\n",
       "1    2150\n",
       "dtype: int64"
      ]
     },
     "execution_count": 9,
     "metadata": {},
     "output_type": "execute_result"
    }
   ],
   "source": [
    "# convert to 1 and 0\n",
    "df['self_employed'] = df['self_employed'].map({'Yes': 1, 'No': 0})\n",
    "df.groupby('self_employed').size()"
   ]
  },
  {
   "cell_type": "code",
   "execution_count": 10,
   "metadata": {},
   "outputs": [
    {
     "data": {
      "text/plain": [
       "Approved    2656\n",
       "Rejected    1613\n",
       "Name: loan_status, dtype: int64"
      ]
     },
     "execution_count": 10,
     "metadata": {},
     "output_type": "execute_result"
    }
   ],
   "source": [
    "# check count of values of loan_status field\n",
    "df['loan_status'].value_counts()\n",
    "# balanced, dataset, no need for stratified split"
   ]
  },
  {
   "cell_type": "code",
   "execution_count": 11,
   "metadata": {},
   "outputs": [
    {
     "data": {
      "text/plain": [
       "loan_status\n",
       "0    1613\n",
       "1    2656\n",
       "dtype: int64"
      ]
     },
     "execution_count": 11,
     "metadata": {},
     "output_type": "execute_result"
    }
   ],
   "source": [
    "df['loan_status'] = df['loan_status'].map({'Approved': 1, 'Rejected': 0})\n",
    "df.groupby('loan_status').size()"
   ]
  },
  {
   "cell_type": "code",
   "execution_count": 12,
   "metadata": {},
   "outputs": [
    {
     "name": "stdout",
     "output_type": "stream",
     "text": [
      "   no_of_dependents  education  self_employed  income_annum  loan_amount  \\\n",
      "0                 2          1              0       9600000     29900000   \n",
      "1                 0          0              1       4100000     12200000   \n",
      "2                 3          1              0       9100000     29700000   \n",
      "3                 3          1              0       8200000     30700000   \n",
      "4                 5          0              1       9800000     24200000   \n",
      "\n",
      "   loan_term  cibil_score  residential_assets_value  commercial_assets_value  \\\n",
      "0         12          778                   2400000                 17600000   \n",
      "1          8          417                   2700000                  2200000   \n",
      "2         20          506                   7100000                  4500000   \n",
      "3          8          467                  18200000                  3300000   \n",
      "4         20          382                  12400000                  8200000   \n",
      "\n",
      "   luxury_assets_value  bank_asset_value  \n",
      "0             22700000           8000000  \n",
      "1              8800000           3300000  \n",
      "2             33300000          12800000  \n",
      "3             23300000           7900000  \n",
      "4             29400000           5000000  \n",
      "0    1\n",
      "1    0\n",
      "2    0\n",
      "3    0\n",
      "4    0\n",
      "Name: loan_status, dtype: int64\n"
     ]
    }
   ],
   "source": [
    "# create X and y for features and labels\n",
    "X = df.drop('loan_status', axis=1)\n",
    "y = df['loan_status']\n",
    "\n",
    "print(X.head())\n",
    "print(y.head())"
   ]
  },
  {
   "cell_type": "code",
   "execution_count": 13,
   "metadata": {},
   "outputs": [
    {
     "name": "stdout",
     "output_type": "stream",
     "text": [
      "(2988, 11)\n",
      "(1281, 11)\n",
      "(2988,)\n",
      "(1281,)\n"
     ]
    }
   ],
   "source": [
    "# split the data into a 70/30 train/test split\n",
    "X_train, X_test, y_train, y_test = train_test_split(X, y, test_size=0.3, random_state = 42)\n",
    "\n",
    "print(X_train.shape)\n",
    "print(X_test.shape)\n",
    "print(y_train.shape)\n",
    "print(y_test.shape)"
   ]
  },
  {
   "cell_type": "code",
   "execution_count": 14,
   "metadata": {},
   "outputs": [
    {
     "data": {
      "text/html": [
       "<div>\n",
       "<style scoped>\n",
       "    .dataframe tbody tr th:only-of-type {\n",
       "        vertical-align: middle;\n",
       "    }\n",
       "\n",
       "    .dataframe tbody tr th {\n",
       "        vertical-align: top;\n",
       "    }\n",
       "\n",
       "    .dataframe thead th {\n",
       "        text-align: right;\n",
       "    }\n",
       "</style>\n",
       "<table border=\"1\" class=\"dataframe\">\n",
       "  <thead>\n",
       "    <tr style=\"text-align: right;\">\n",
       "      <th></th>\n",
       "      <th>no_of_dependents</th>\n",
       "      <th>income_annum</th>\n",
       "      <th>loan_amount</th>\n",
       "      <th>loan_term</th>\n",
       "      <th>cibil_score</th>\n",
       "      <th>residential_assets_value</th>\n",
       "      <th>commercial_assets_value</th>\n",
       "      <th>luxury_assets_value</th>\n",
       "      <th>bank_asset_value</th>\n",
       "    </tr>\n",
       "  </thead>\n",
       "  <tbody>\n",
       "    <tr>\n",
       "      <th>3404</th>\n",
       "      <td>4</td>\n",
       "      <td>2800000</td>\n",
       "      <td>8300000</td>\n",
       "      <td>14</td>\n",
       "      <td>381</td>\n",
       "      <td>3200000</td>\n",
       "      <td>1100000</td>\n",
       "      <td>9100000</td>\n",
       "      <td>1500000</td>\n",
       "    </tr>\n",
       "    <tr>\n",
       "      <th>781</th>\n",
       "      <td>3</td>\n",
       "      <td>9900000</td>\n",
       "      <td>20400000</td>\n",
       "      <td>4</td>\n",
       "      <td>865</td>\n",
       "      <td>26300000</td>\n",
       "      <td>3600000</td>\n",
       "      <td>36500000</td>\n",
       "      <td>12800000</td>\n",
       "    </tr>\n",
       "    <tr>\n",
       "      <th>3002</th>\n",
       "      <td>4</td>\n",
       "      <td>3500000</td>\n",
       "      <td>10700000</td>\n",
       "      <td>8</td>\n",
       "      <td>883</td>\n",
       "      <td>200000</td>\n",
       "      <td>2300000</td>\n",
       "      <td>8400000</td>\n",
       "      <td>2000000</td>\n",
       "    </tr>\n",
       "    <tr>\n",
       "      <th>4047</th>\n",
       "      <td>3</td>\n",
       "      <td>6400000</td>\n",
       "      <td>23000000</td>\n",
       "      <td>8</td>\n",
       "      <td>520</td>\n",
       "      <td>12100000</td>\n",
       "      <td>11400000</td>\n",
       "      <td>16000000</td>\n",
       "      <td>3800000</td>\n",
       "    </tr>\n",
       "    <tr>\n",
       "      <th>3391</th>\n",
       "      <td>2</td>\n",
       "      <td>3300000</td>\n",
       "      <td>6700000</td>\n",
       "      <td>8</td>\n",
       "      <td>845</td>\n",
       "      <td>1300000</td>\n",
       "      <td>4600000</td>\n",
       "      <td>12300000</td>\n",
       "      <td>3200000</td>\n",
       "    </tr>\n",
       "    <tr>\n",
       "      <th>...</th>\n",
       "      <td>...</td>\n",
       "      <td>...</td>\n",
       "      <td>...</td>\n",
       "      <td>...</td>\n",
       "      <td>...</td>\n",
       "      <td>...</td>\n",
       "      <td>...</td>\n",
       "      <td>...</td>\n",
       "      <td>...</td>\n",
       "    </tr>\n",
       "    <tr>\n",
       "      <th>3444</th>\n",
       "      <td>0</td>\n",
       "      <td>1300000</td>\n",
       "      <td>4700000</td>\n",
       "      <td>16</td>\n",
       "      <td>530</td>\n",
       "      <td>3200000</td>\n",
       "      <td>1000000</td>\n",
       "      <td>3800000</td>\n",
       "      <td>800000</td>\n",
       "    </tr>\n",
       "    <tr>\n",
       "      <th>466</th>\n",
       "      <td>5</td>\n",
       "      <td>500000</td>\n",
       "      <td>1800000</td>\n",
       "      <td>18</td>\n",
       "      <td>411</td>\n",
       "      <td>1000000</td>\n",
       "      <td>500000</td>\n",
       "      <td>1300000</td>\n",
       "      <td>200000</td>\n",
       "    </tr>\n",
       "    <tr>\n",
       "      <th>3092</th>\n",
       "      <td>4</td>\n",
       "      <td>8600000</td>\n",
       "      <td>20600000</td>\n",
       "      <td>16</td>\n",
       "      <td>449</td>\n",
       "      <td>10800000</td>\n",
       "      <td>10600000</td>\n",
       "      <td>28700000</td>\n",
       "      <td>5400000</td>\n",
       "    </tr>\n",
       "    <tr>\n",
       "      <th>3772</th>\n",
       "      <td>2</td>\n",
       "      <td>7000000</td>\n",
       "      <td>21400000</td>\n",
       "      <td>12</td>\n",
       "      <td>541</td>\n",
       "      <td>3700000</td>\n",
       "      <td>1300000</td>\n",
       "      <td>19800000</td>\n",
       "      <td>9600000</td>\n",
       "    </tr>\n",
       "    <tr>\n",
       "      <th>860</th>\n",
       "      <td>4</td>\n",
       "      <td>6200000</td>\n",
       "      <td>17300000</td>\n",
       "      <td>6</td>\n",
       "      <td>837</td>\n",
       "      <td>12600000</td>\n",
       "      <td>3700000</td>\n",
       "      <td>24700000</td>\n",
       "      <td>4600000</td>\n",
       "    </tr>\n",
       "  </tbody>\n",
       "</table>\n",
       "<p>2988 rows × 9 columns</p>\n",
       "</div>"
      ],
      "text/plain": [
       "      no_of_dependents  income_annum  loan_amount  loan_term  cibil_score  \\\n",
       "3404                 4       2800000      8300000         14          381   \n",
       "781                  3       9900000     20400000          4          865   \n",
       "3002                 4       3500000     10700000          8          883   \n",
       "4047                 3       6400000     23000000          8          520   \n",
       "3391                 2       3300000      6700000          8          845   \n",
       "...                ...           ...          ...        ...          ...   \n",
       "3444                 0       1300000      4700000         16          530   \n",
       "466                  5        500000      1800000         18          411   \n",
       "3092                 4       8600000     20600000         16          449   \n",
       "3772                 2       7000000     21400000         12          541   \n",
       "860                  4       6200000     17300000          6          837   \n",
       "\n",
       "      residential_assets_value  commercial_assets_value  luxury_assets_value  \\\n",
       "3404                   3200000                  1100000              9100000   \n",
       "781                   26300000                  3600000             36500000   \n",
       "3002                    200000                  2300000              8400000   \n",
       "4047                  12100000                 11400000             16000000   \n",
       "3391                   1300000                  4600000             12300000   \n",
       "...                        ...                      ...                  ...   \n",
       "3444                   3200000                  1000000              3800000   \n",
       "466                    1000000                   500000              1300000   \n",
       "3092                  10800000                 10600000             28700000   \n",
       "3772                   3700000                  1300000             19800000   \n",
       "860                   12600000                  3700000             24700000   \n",
       "\n",
       "      bank_asset_value  \n",
       "3404           1500000  \n",
       "781           12800000  \n",
       "3002           2000000  \n",
       "4047           3800000  \n",
       "3391           3200000  \n",
       "...                ...  \n",
       "3444            800000  \n",
       "466             200000  \n",
       "3092           5400000  \n",
       "3772           9600000  \n",
       "860            4600000  \n",
       "\n",
       "[2988 rows x 9 columns]"
      ]
     },
     "execution_count": 14,
     "metadata": {},
     "output_type": "execute_result"
    }
   ],
   "source": [
    "# list of binary column names to not scale\n",
    "binary_columns = ['education', 'self_employed']\n",
    "\n",
    "# seperate the binary and non-binary columns\n",
    "X_train_non_binary = X_train.drop(columns=binary_columns)\n",
    "X_test_non_binary = X_test.drop(columns=binary_columns)\n",
    "X_train_non_binary"
   ]
  },
  {
   "cell_type": "code",
   "execution_count": 15,
   "metadata": {},
   "outputs": [
    {
     "data": {
      "text/plain": [
       "array([[ 0.93571344, -0.80804784, -0.76001369, ..., -0.8829542 ,\n",
       "        -0.66673165, -1.0707675 ],\n",
       "       [ 0.3421016 ,  1.70947574,  0.57116269, ..., -0.31157915,\n",
       "         2.32080181,  2.41121979],\n",
       "       [ 0.93571344, -0.55984129, -0.4959787 , ..., -0.60869418,\n",
       "        -0.7430555 , -0.91669727],\n",
       "       ...,\n",
       "       [ 0.93571344,  1.24852072,  0.59316561, ...,  1.28827099,\n",
       "         1.47033608,  0.13098032],\n",
       "       [-0.25151024,  0.68119146,  0.68117727, ..., -0.8372442 ,\n",
       "         0.49993288,  1.42517029],\n",
       "       [ 0.93571344,  0.39752683,  0.2301175 , ..., -0.28872415,\n",
       "         1.03419981, -0.11553205]])"
      ]
     },
     "execution_count": 15,
     "metadata": {},
     "output_type": "execute_result"
    }
   ],
   "source": [
    "scaler = StandardScaler()\n",
    "\n",
    "# fit the scaler with training data excluding binary columns and transform both train and test data\n",
    "X_train_non_binary_scaled = scaler.fit_transform(X_train_non_binary)\n",
    "X_test_non_binary_scaled = scaler.transform(X_test_non_binary)\n",
    "X_train_non_binary_scaled"
   ]
  },
  {
   "cell_type": "code",
   "execution_count": 16,
   "metadata": {},
   "outputs": [
    {
     "name": "stdout",
     "output_type": "stream",
     "text": [
      "[[ 0.93571344 -0.80804784 -0.76001369  0.52634731 -1.2697434  -0.64906817\n",
      "  -0.8829542  -0.66673165 -1.0707675   0.          0.        ]\n",
      " [ 0.3421016   1.70947574  0.57116269 -1.22540782  1.52250274  2.87209808\n",
      "  -0.31157915  2.32080181  2.41121979  0.          1.        ]\n",
      " [ 0.93571344 -0.55984129 -0.4959787  -0.52470577  1.6263466  -1.10636249\n",
      "  -0.60869418 -0.7430555  -0.91669727  1.          1.        ]\n",
      " [ 0.3421016   0.46844299  0.85720059 -0.52470577 -0.467838    0.70757164\n",
      "   1.471111    0.08560342 -0.36204443  0.          0.        ]\n",
      " [-0.25151024 -0.63075745 -0.93603701 -0.52470577  1.40712067 -0.9386879\n",
      "  -0.08302913 -0.31782263 -0.54692871  1.          1.        ]]\n"
     ]
    }
   ],
   "source": [
    "# add back the binary columns to the scaled data\n",
    "X_train_scaled = np.concatenate([X_train_non_binary_scaled, X_train[binary_columns].values], axis=1)\n",
    "X_test_scaled = np.concatenate([X_test_non_binary_scaled, X_test[binary_columns].values], axis=1)\n",
    "\n",
    "# check the first 5 rows of the scaled training data\n",
    "print(X_train_scaled[:5])"
   ]
  },
  {
   "cell_type": "markdown",
   "metadata": {},
   "source": [
    "For the preprocessing phase for the second group of models, the main goal here is to clean and transform the dataset so that the models can create more accurate and reliable results for the Random Forest, Stochastic Gradient Descent and Neural Network models. Categorical fields, which can't be used directly by most models, were transformed into numerical and binary values.The \"loan status\" field is selected as our target field, since we are trying to predict this based on the other features or predictors in the dataset. For splitting the data to train and test the models, the dataset was split into 70/30. Finally, scaling was implemented since there are features that have vastly different scales or units such as annual income. While binary fields such as education and self-employed were already on the same scale and thus left untouched, the other features were normalized using the Standard Scaler so that no feature would highly impact or influence the model due to its size."
   ]
  },
  {
   "cell_type": "markdown",
   "metadata": {},
   "source": [
    "### Random Forest"
   ]
  },
  {
   "cell_type": "code",
   "execution_count": 17,
   "metadata": {},
   "outputs": [
    {
     "name": "stdout",
     "output_type": "stream",
     "text": [
      "AUC score:\n",
      "0.9785208775654636\n",
      "Accuracy score:\n",
      "0.9812646370023419\n"
     ]
    }
   ],
   "source": [
    "# create a random forest classifier\n",
    "forest_model = RandomForestClassifier()\n",
    "\n",
    "# train model with features and labels\n",
    "forest_model.fit(X_train_scaled, y_train)\n",
    "\n",
    "# create predictions using test data\n",
    "forest_y_pred = forest_model.predict(X_test_scaled)\n",
    "\n",
    "# get the AUC score by comparing predictions to the actual test values\n",
    "auc_score = roc_auc_score(y_test, forest_y_pred)\n",
    "\n",
    "# get the accuracy score by comparing predictions to the actual test values\n",
    "accuracy = accuracy_score(y_test, forest_y_pred)\n",
    "\n",
    "print(\"AUC score:\")\n",
    "print(auc_score)\n",
    "\n",
    "print(\"Accuracy score:\")\n",
    "print(accuracy)"
   ]
  },
  {
   "cell_type": "code",
   "execution_count": 18,
   "metadata": {},
   "outputs": [
    {
     "name": "stdout",
     "output_type": "stream",
     "text": [
      "Classification Report:\n",
      "              precision    recall  f1-score   support\n",
      "\n",
      "           0       0.98      0.97      0.97       471\n",
      "           1       0.98      0.99      0.99       810\n",
      "\n",
      "    accuracy                           0.98      1281\n",
      "   macro avg       0.98      0.98      0.98      1281\n",
      "weighted avg       0.98      0.98      0.98      1281\n",
      "\n"
     ]
    }
   ],
   "source": [
    "# create classification report\n",
    "report = classification_report(y_test, forest_y_pred)\n",
    "\n",
    "print(\"Classification Report:\")\n",
    "print(report)"
   ]
  },
  {
   "cell_type": "markdown",
   "metadata": {},
   "source": [
    "Precision is the correctly predicted positive instances to the total predicted positive labels. So a precision of .98 means that the model was correct 98% of the time it predicted the positive class. This is the amount of people that the model predicted to have aproved loans did have approvals.\n",
    "\n",
    "Recall or sensitivity is the correctly predicted positive instances to all actual positive labels. A recall of 0.98 means that the model correctly found 98% of all actual positive approval instances. So out of all the people with approvals, the model found 98% of them.\n",
    "\n",
    "Accuracy is .98 but AUC scores are better to get an understanding of the models trade off between true positives (recall) and false positives (1 - specificity) at each threshold.\n",
    "\n",
    "Our AUC of .98 tells us it is a good classifier in distinguishing between positive and negative cases. The higher this score the better, an AUC of 1 is a perfect model and 0.5 is as good as a random model."
   ]
  },
  {
   "cell_type": "code",
   "execution_count": 19,
   "metadata": {},
   "outputs": [
    {
     "name": "stdout",
     "output_type": "stream",
     "text": [
      "Confusion matrix:\n",
      "[[456  15]\n",
      " [  9 801]]\n"
     ]
    }
   ],
   "source": [
    "# create a confusion matrix\n",
    "matrix = confusion_matrix(y_test, forest_y_pred)\n",
    "print(\"Confusion matrix:\")\n",
    "print(matrix)"
   ]
  },
  {
   "cell_type": "code",
   "execution_count": 20,
   "metadata": {},
   "outputs": [
    {
     "data": {
      "image/png": "[encoded data removed]",
      "text/plain": [
       "<Figure size 600x400 with 2 Axes>"
      ]
     },
     "metadata": {},
     "output_type": "display_data"
    }
   ],
   "source": [
    "# create a heatmap\n",
    "plt.figure(figsize=(6,4))\n",
    "sns.heatmap(matrix, annot=True, fmt='d', cmap='Blues')\n",
    "\n",
    "# add labels and title\n",
    "plt.xlabel('Predicted label')\n",
    "plt.ylabel('True label')\n",
    "plt.title('Confusion Matrix')\n",
    "\n",
    "plt.show()"
   ]
  },
  {
   "cell_type": "markdown",
   "metadata": {},
   "source": [
    "From the confusion matrix:\n",
    "\n",
    "The top left is True Negatives, these are the instances were the model correctly predicted negative for approvals: 456\n",
    "\n",
    "The top right is is the False Positives, where the model incorrectly predicted the positive class: 15\n",
    "\n",
    "The bottom left is the False Negatives, the model incorrectly predicted the negative class: 9\n",
    "\n",
    "The bottom right is the True Positives, these are the cases where the model correctly predicted the positive class: 801"
   ]
  },
  {
   "cell_type": "code",
   "execution_count": 21,
   "metadata": {},
   "outputs": [
    {
     "name": "stdout",
     "output_type": "stream",
     "text": [
      "loan_amount                 0.807033\n",
      "income_annum                0.059038\n",
      "self_employed               0.029434\n",
      "education                   0.019148\n",
      "residential_assets_value    0.019027\n",
      "loan_term                   0.018354\n",
      "cibil_score                 0.017362\n",
      "commercial_assets_value     0.016733\n",
      "no_of_dependents            0.008725\n",
      "bank_asset_value            0.002763\n",
      "luxury_assets_value         0.002382\n",
      "dtype: float64\n"
     ]
    }
   ],
   "source": [
    "# get feature importance\n",
    "importance = forest_model.feature_importances_\n",
    "\n",
    "# print important next to the column names\n",
    "importance_series = pd.Series(importance, index=X_train.columns)\n",
    "print(importance_series.sort_values(ascending=False))"
   ]
  },
  {
   "cell_type": "code",
   "execution_count": 22,
   "metadata": {},
   "outputs": [
    {
     "data": {
      "image/png": "[encoded data removed]",
      "text/plain": [
       "<Figure size 800x400 with 1 Axes>"
      ]
     },
     "metadata": {},
     "output_type": "display_data"
    }
   ],
   "source": [
    "# sort feature importances in descending order\n",
    "sorted_importances = importance_series.sort_values(ascending=False)\n",
    "\n",
    "# create a bar plot\n",
    "sns.set_theme(style='darkgrid')\n",
    "plt.figure(figsize=(8,4))\n",
    "plt.barh(sorted_importances.index, sorted_importances.values, color='darkblue')\n",
    "\n",
    "# invert y-axis so that features with highest importance are at the top\n",
    "plt.gca().invert_yaxis()\n",
    "\n",
    "# add labels and title\n",
    "plt.xlabel(\"Importance\")\n",
    "plt.ylabel(\"Feature\")\n",
    "plt.title(\"Feature Importance\")\n",
    "plt.show()"
   ]
  },
  {
   "cell_type": "markdown",
   "metadata": {},
   "source": [
    "Here we can see how important each feature is in determining the outcome of the predictions for the random forest model."
   ]
  },
  {
   "cell_type": "markdown",
   "metadata": {},
   "source": [
    "The Random Forest is an ensemble method that takes multiple decision trees and combines them for a more accurate and reliable prediction (Meltzer, 2023). This model achieved an AUC score of 0.9785, and an accuracy rate of 0.9812. A very useful benefit of this model is its ability to rank features by importance. Here, \"loan amount\" stood out as the most important feature, with a relative importance of 0.8, indicating its large influence in loan approval decisions. The next two most important features were \"annual income\" and the binary feature \"self_employed\"."
   ]
  },
  {
   "cell_type": "markdown",
   "metadata": {},
   "source": [
    "### Stachastic Gradient Descent"
   ]
  },
  {
   "cell_type": "code",
   "execution_count": 23,
   "metadata": {},
   "outputs": [
    {
     "name": "stdout",
     "output_type": "stream",
     "text": [
      "AUC score:\n",
      "0.9105252811197609\n",
      "Accuracy score:\n",
      "0.9110070257611241\n"
     ]
    }
   ],
   "source": [
    "from sklearn.linear_model import SGDClassifier\n",
    "\n",
    "# create a stochastic gradient descent classifier\n",
    "# use logistic regression as loss function\n",
    "# L2, ridge regression, helps prevent overfitting by adding a penalty term\n",
    "# optimal learning rate\n",
    "# 1000 epochs or loop through the dataset 1000 times\n",
    "sgd_model = SGDClassifier(loss='log', penalty='l2', learning_rate='optimal', max_iter=1000, random_state=1)\n",
    "\n",
    "# train model with features and labels\n",
    "sgd_model.fit(X_train_scaled, y_train)\n",
    "\n",
    "# create predictions using test data\n",
    "sgd_y_pred = sgd_model.predict(X_test_scaled)\n",
    "\n",
    "# get the AUC score by comparing predictions to the actual test values\n",
    "auc_score = roc_auc_score(y_test, sgd_y_pred)\n",
    "\n",
    "# get the accuracy score by comparing predictions to the actual test values\n",
    "accuracy = accuracy_score(y_test, sgd_y_pred)\n",
    "\n",
    "print(\"AUC score:\")\n",
    "print(auc_score)\n",
    "\n",
    "print(\"Accuracy score:\")\n",
    "print(accuracy)"
   ]
  },
  {
   "cell_type": "markdown",
   "metadata": {},
   "source": [
    "Next, we used a Stochastic Gradient Descent (SGD), which is a linear model that is especially useful at handling large datasets by continuously updating its parameters based on the gradient of the loss function. Unlike traditional gradient descent that calculates the gradient using the entire dataset, the SGD estimates it using a single record at a time, which is both memory efficient and computationally faster (Price, 2020). For the parameters of the SGD, log loss was used as the function since this is a binary classification that penalizes false classifications. The L2 penalty, or Ridge regularization, was used to add a penalty and to help prevent overfitting by penalizing large coefficients. The model resulted in an AUC of 0.9105 and an accuracy rate of 0.911. While less than the Random Forest, its simplicity and fast computing time could make it a preferred choice in cases where the data is extremely large or when there are limited computing resources. "
   ]
  },
  {
   "cell_type": "markdown",
   "metadata": {},
   "source": [
    "### Neural Network"
   ]
  },
  {
   "cell_type": "code",
   "execution_count": 24,
   "metadata": {},
   "outputs": [
    {
     "name": "stdout",
     "output_type": "stream",
     "text": [
      "Epoch 1/10\n",
      "299/299 [==============================] - 2s 2ms/step - loss: 0.5501 - accuracy: 0.7242\n",
      "Epoch 2/10\n",
      "299/299 [==============================] - 1s 2ms/step - loss: 0.2837 - accuracy: 0.8942\n",
      "Epoch 3/10\n",
      "299/299 [==============================] - 0s 2ms/step - loss: 0.2221 - accuracy: 0.9207\n",
      "Epoch 4/10\n",
      "299/299 [==============================] - 1s 2ms/step - loss: 0.2017 - accuracy: 0.9301\n",
      "Epoch 5/10\n",
      "299/299 [==============================] - 1s 2ms/step - loss: 0.1905 - accuracy: 0.9344\n",
      "Epoch 6/10\n",
      "299/299 [==============================] - 1s 2ms/step - loss: 0.1802 - accuracy: 0.9381\n",
      "Epoch 7/10\n",
      "299/299 [==============================] - 1s 2ms/step - loss: 0.1723 - accuracy: 0.9421\n",
      "Epoch 8/10\n",
      "299/299 [==============================] - 1s 2ms/step - loss: 0.1665 - accuracy: 0.9411\n",
      "Epoch 9/10\n",
      "299/299 [==============================] - 0s 2ms/step - loss: 0.1601 - accuracy: 0.9428\n",
      "Epoch 10/10\n",
      "299/299 [==============================] - 0s 2ms/step - loss: 0.1547 - accuracy: 0.9434\n",
      "41/41 [==============================] - 0s 1ms/step\n",
      "AUC score:\n",
      "0.9234371313989149\n",
      "Accuracy score:\n",
      "0.9211553473848556\n"
     ]
    }
   ],
   "source": [
    "from keras.models import Sequential\n",
    "from keras.layers import Dense\n",
    "from sklearn.metrics import roc_auc_score\n",
    "\n",
    "# create the keras model\n",
    "model = Sequential()\n",
    "\n",
    "# adding a dense layer with 12 neurons and relu activation function, input_dim is the number of features in the input dataset\n",
    "model.add(Dense(12, input_dim=X_train.shape[1], activation='relu'))\n",
    "\n",
    "# adding a second hidden layer with 8 neurons and relu activation function\n",
    "model.add(Dense(8, activation='relu'))\n",
    "\n",
    "# adding the output layer with 1 neuron since it's a binary classification problem; sigmoid activation function outputs probabilities that sum to one\n",
    "model.add(Dense(1, activation='sigmoid'))\n",
    "\n",
    "# compile the keras model\n",
    "# compiling the model with binary crossentropy loss function for binary classification; \n",
    "# adam optimizer is used for minimizing the loss function\n",
    "# accuracy is chosen as a metric to evaluate the model's performance\n",
    "model.compile(loss='binary_crossentropy', optimizer='adam', metrics=['accuracy'])\n",
    "\n",
    "# fit the model to the training data; \n",
    "# using 10 epochs to iterate 10 times over the dataset during training, \n",
    "# and batch_size of 10 means that the model is updated after 10 data points have been processed\n",
    "model.fit(X_train_scaled, y_train, epochs=10, batch_size=10)\n",
    "\n",
    "# create predictions using test data\n",
    "y_pred = model.predict(X_test_scaled)\n",
    "y_pred = (y_pred > 0.5).astype(int)\n",
    "\n",
    "# get the AUC score by comparing predictions to the actual test values\n",
    "auc_score = roc_auc_score(y_test, y_pred)\n",
    "\n",
    "# get the accuracy score by comparing predictions to the actual test values\n",
    "accuracy = accuracy_score(y_test, y_pred)\n",
    "\n",
    "print(\"AUC score:\")\n",
    "print(auc_score)\n",
    "\n",
    "print(\"Accuracy score:\")\n",
    "print(accuracy)"
   ]
  },
  {
   "cell_type": "markdown",
   "metadata": {},
   "source": [
    "For our final model, we created a neural network using Keras. This model was built with an input layer that matches the number of features in our dataset. Next, two hidden layers were added: the first with 12 neurons and the second with 8, both using the RELU activation function. The final layer is a single neuron and a sigmoid activation function, which outputs the probability of loan approval. During the compilation phase, the model also uses the 'adam' optimizer and 'binary cross entropy' as the loss function, which is suited for binary classification tasks like our own (Tanwar, 2022). The model was trained in 10 epochs with batches of 10 records at a time. This final model results in an AUC score of 0.9234 and an accuracy score of 0.92115, still slightly outperformed by the Random Forest."
   ]
  },
  {
   "cell_type": "markdown",
   "metadata": {},
   "source": [
    "### Hyperparameter tuning with GridSearchCV"
   ]
  },
  {
   "cell_type": "code",
   "execution_count": 34,
   "metadata": {},
   "outputs": [],
   "source": [
    "from sklearn.ensemble import RandomForestClassifier\n",
    "from sklearn.linear_model import SGDClassifier\n",
    "from keras.wrappers.scikit_learn import KerasClassifier\n",
    "\n",
    "# set the models and their parameters to loop over\n",
    "models = [\n",
    "    ('Random Forest', RandomForestClassifier(random_state=42), X_train_scaled, X_test_scaled, {\n",
    "        'n_estimators': [5, 50, 100, 500, 1000],\n",
    "        'max_depth': [None, 5, 10, 15, 20, 50],\n",
    "    }),\n",
    "    ('SGD', SGDClassifier(random_state=42), X_train_scaled, X_test_scaled, {\n",
    "        'loss': ['log'],\n",
    "        'penalty': ['l2', 'l1'],\n",
    "        'learning_rate': ['optimal'],\n",
    "        'alpha': [0.0001, 0.001, 0.01, 0.1],\n",
    "    })\n",
    "]\n",
    "\n",
    "# store the best models and their scores\n",
    "best_models = {}\n",
    "best_scores = {}\n",
    "best_params = {}"
   ]
  },
  {
   "cell_type": "markdown",
   "metadata": {},
   "source": [
    "For the parameters of:\n",
    "\n",
    "Random Forest:\n",
    "- estimators: number of trees in the forest, more can be more accuracy but requires more computation and possible overfitting\n",
    "- depth: same as decision trees.\n",
    "\n",
    "SGD: \n",
    "- loss: defines the loss function to be minimized during the optimization. In this case, 'log' is used for logistic regression, making the SGD classifier for binary.\n",
    "- penalty: sets the the penalization for 'l2' and 'l1'. L1 pushes less important features coefficients to zero, creating feature selection, while L2 shrinks the less important features towards zero but doesn't remove them.\n",
    "- learning rate: controls the step size at each iteration while moving toward a minimum of the loss function.\n",
    "- alpha: the amount of regularization applied, with larger values meaning more regularization."
   ]
  },
  {
   "cell_type": "code",
   "execution_count": 35,
   "metadata": {},
   "outputs": [],
   "source": [
    "# perform Grid Search for each model, use x train and x test\n",
    "# use 5 fold cross validation and then test on each generated y_train\n",
    "for name, model, X_train, X_test, params in models:\n",
    "    grid_search = GridSearchCV(estimator=model, param_grid=params, cv=5, scoring='accuracy')\n",
    "    grid_search.fit(X_train, y_train)\n",
    "\n",
    "    # store the best model, score, and parameters\n",
    "    best_models[name] = grid_search.best_estimator_\n",
    "    best_scores[name] = grid_search.best_score_\n",
    "    best_params[name] = grid_search.best_params_"
   ]
  },
  {
   "cell_type": "code",
   "execution_count": 36,
   "metadata": {},
   "outputs": [
    {
     "name": "stdout",
     "output_type": "stream",
     "text": [
      "Best Random Forest model: RandomForestClassifier(max_depth=20, n_estimators=1000, random_state=42)\n",
      "Best accuracy score: 0.9812602589312224\n",
      "Best parameters: {'max_depth': 20, 'n_estimators': 1000}\n",
      "\n",
      "Best SGD model: SGDClassifier(alpha=0.01, loss='log', penalty='l1', random_state=42)\n",
      "Best accuracy score: 0.9253710021680307\n",
      "Best parameters: {'alpha': 0.01, 'learning_rate': 'optimal', 'loss': 'log', 'penalty': 'l1'}\n",
      "\n"
     ]
    }
   ],
   "source": [
    "# print the best models, scores, and parameters for each\n",
    "for name in best_models:\n",
    "    print(f\"Best {name} model: {best_models[name]}\")\n",
    "    print(f\"Best accuracy score: {best_scores[name]}\")\n",
    "    print(f\"Best parameters: {best_params[name]}\\n\")"
   ]
  },
  {
   "cell_type": "markdown",
   "metadata": {},
   "source": [
    "Finally, we also used GridSearchCV on the Random Forest and SGD models, to find the optimal parameters that resulted in the highest accuracy. Due to computational constraints, our neural network wasn't part of this grid search. The Random Forest model outperforms the SGD model in terms of accuracy with the given dataset and parameter range explored. It achieves an accuracy of about 98.13% compared to the 92.54% of the SGD model. The best parameters for this was a max depth of 20 and using 1000 trees or estimators. "
   ]
  },
  {
   "cell_type": "markdown",
   "metadata": {},
   "source": [
    "# Results, Discussion and conclusion\n",
    "\n",
    "The model with the highest accuracy was the decision tree, with an accuracy of 98.2%, precision of 97.78%, recall of 99.5% and an F1-score of 98.63%. This implies that tree-based models, such as the Random Forest and the Decision Tree, were the best models, in terms of accuracy for predicting loan approvals based on the given features. The Random Forest's results show how powerful ensemble models can be in finding patterns in datasets with many different features and relationships such as ours. The logistic regression models, KNN model and gradient boosting models also had impressive accuracy and could be preferred models due to their simplicity and ease of explainability in results. On the other hand, while the Neural Network's high accuracy also displays the flexibility and potential of deep learning models, results and predictions can be difficult to explain and interpret, which could be very important whether in explaining results to customers or management . It should also be noted that, at an accuracy that's not too far off, the SGD model could also be a preferred choice when the data is extremely large or if there are limited computing resources. \n",
    "\n",
    "Machine learning can create new innovations and transformations for financial institutions, especially banks, to update their traditional loan approval processes. Traditional methods are often time-consuming and can be prone to human biases and overlook data patterns that algorithms can accurately find (Roth, 2023). Automating the loan approval process through exploratory data analysis and predictive models, such as the ones created in this project, not only makes this decision-making process faster, leading to cost savings and higher customer satisfaction, but can also lead to lower risk of loans and higher likelihood of returns from the borrowers. \n",
    "\n",
    "The high accuracy of these models can ensure a very detailed risk assessment of every loan. By finding these hidden patterns in applicant data, banks can make more informed lending decisions and can discern between higher and lower risk individuals. This accuracy can reduce the likelihood of defaults and can create a higher return on investment. In summary, implementing machine learning into the traditional loan approval process can lead to faster decision making, higher efficiency, lower risk, and increased profitability for institutions such as banks."
   ]
  }
 ],
 "metadata": {
  "interpreter": {
   "hash": "c65267d453aa4a123dd59908d373d36fced85f3040ab8e7975c93a01fa8e75f0"
  },
  "kernelspec": {
   "display_name": "Python 3.9.13",
   "language": "python",
   "name": "python3"
  },
  "language_info": {
   "codemirror_mode": {
    "name": "ipython",
    "version": 3
   },
   "file_extension": ".py",
   "mimetype": "text/x-python",
   "name": "python",
   "nbconvert_exporter": "python",
   "pygments_lexer": "ipython3",
   "version": "3.9.13"
  },
  "orig_nbformat": 4
 },
 "nbformat": 4,
 "nbformat_minor": 2
}
